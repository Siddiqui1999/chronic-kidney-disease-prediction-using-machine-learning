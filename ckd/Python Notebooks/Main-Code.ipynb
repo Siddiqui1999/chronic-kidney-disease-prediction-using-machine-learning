{
 "cells": [
  {
   "cell_type": "markdown",
   "id": "irish-fountain",
   "metadata": {
    "papermill": {
     "duration": 0.101147,
     "end_time": "2021-06-28T12:47:41.768624",
     "exception": false,
     "start_time": "2021-06-28T12:47:41.667477",
     "status": "completed"
    },
    "slideshow": {
     "slide_type": "slide"
    },
    "tags": []
   },
   "source": [
    "## Install & Importing the Dependencies"
   ]
  },
  {
   "cell_type": "code",
   "execution_count": 4,
   "id": "considerable-south",
   "metadata": {
    "execution": {
     "iopub.execute_input": "2021-06-28T12:47:41.975373Z",
     "iopub.status.busy": "2021-06-28T12:47:41.974203Z",
     "iopub.status.idle": "2021-06-28T12:47:42.911312Z",
     "shell.execute_reply": "2021-06-28T12:47:42.911869Z",
     "shell.execute_reply.started": "2021-06-28T12:40:52.367559Z"
    },
    "papermill": {
     "duration": 1.042677,
     "end_time": "2021-06-28T12:47:42.912218",
     "exception": false,
     "start_time": "2021-06-28T12:47:41.869541",
     "status": "completed"
    },
    "slideshow": {
     "slide_type": "subslide"
    },
    "tags": []
   },
   "outputs": [],
   "source": [
    "import numpy as np\n",
    "import pandas as pd\n",
    "import matplotlib.pyplot as plt\n",
    "%matplotlib inline\n",
    "import seaborn as sns\n",
    "\n",
    "import warnings\n",
    "warnings.filterwarnings('ignore')"
   ]
  },
  {
   "cell_type": "markdown",
   "id": "978982dc",
   "metadata": {},
   "source": [
    "## Extract the Data-Set ( Kidney_Disease.csv )"
   ]
  },
  {
   "cell_type": "code",
   "execution_count": 5,
   "id": "coated-cream",
   "metadata": {
    "execution": {
     "iopub.execute_input": "2021-06-28T12:47:43.144265Z",
     "iopub.status.busy": "2021-06-28T12:47:43.143247Z",
     "iopub.status.idle": "2021-06-28T12:47:43.168551Z",
     "shell.execute_reply": "2021-06-28T12:47:43.169058Z",
     "shell.execute_reply.started": "2021-06-28T12:40:52.376449Z"
    },
    "papermill": {
     "duration": 0.138916,
     "end_time": "2021-06-28T12:47:43.169263",
     "exception": false,
     "start_time": "2021-06-28T12:47:43.030347",
     "status": "completed"
    },
    "slideshow": {
     "slide_type": "subslide"
    },
    "tags": []
   },
   "outputs": [],
   "source": [
    "kidney=pd.read_csv('kidney_disease.csv')"
   ]
  },
  {
   "cell_type": "code",
   "execution_count": 6,
   "id": "4c3532b3",
   "metadata": {},
   "outputs": [
    {
     "data": {
      "text/plain": [
       "(400, 26)"
      ]
     },
     "execution_count": 6,
     "metadata": {},
     "output_type": "execute_result"
    }
   ],
   "source": [
    "kidney.shape"
   ]
  },
  {
   "cell_type": "markdown",
   "id": "7d524170",
   "metadata": {},
   "source": [
    "- It Indicates there are about **400** Rows and **26** Columns are present in our Data Set"
   ]
  },
  {
   "cell_type": "code",
   "execution_count": 7,
   "id": "accomplished-conclusion",
   "metadata": {
    "execution": {
     "iopub.execute_input": "2021-06-28T12:47:43.376447Z",
     "iopub.status.busy": "2021-06-28T12:47:43.375813Z",
     "iopub.status.idle": "2021-06-28T12:47:43.438320Z",
     "shell.execute_reply": "2021-06-28T12:47:43.439118Z",
     "shell.execute_reply.started": "2021-06-28T12:40:52.401905Z"
    },
    "papermill": {
     "duration": 0.166253,
     "end_time": "2021-06-28T12:47:43.439384",
     "exception": false,
     "start_time": "2021-06-28T12:47:43.273131",
     "status": "completed"
    },
    "slideshow": {
     "slide_type": "-"
    },
    "tags": []
   },
   "outputs": [
    {
     "data": {
      "text/html": [
       "<div>\n",
       "<style scoped>\n",
       "    .dataframe tbody tr th:only-of-type {\n",
       "        vertical-align: middle;\n",
       "    }\n",
       "\n",
       "    .dataframe tbody tr th {\n",
       "        vertical-align: top;\n",
       "    }\n",
       "\n",
       "    .dataframe thead th {\n",
       "        text-align: right;\n",
       "    }\n",
       "</style>\n",
       "<table border=\"1\" class=\"dataframe\">\n",
       "  <thead>\n",
       "    <tr style=\"text-align: right;\">\n",
       "      <th></th>\n",
       "      <th>id</th>\n",
       "      <th>age</th>\n",
       "      <th>bp</th>\n",
       "      <th>sg</th>\n",
       "      <th>al</th>\n",
       "      <th>su</th>\n",
       "      <th>rbc</th>\n",
       "      <th>pc</th>\n",
       "      <th>pcc</th>\n",
       "      <th>ba</th>\n",
       "      <th>...</th>\n",
       "      <th>pcv</th>\n",
       "      <th>wc</th>\n",
       "      <th>rc</th>\n",
       "      <th>htn</th>\n",
       "      <th>dm</th>\n",
       "      <th>cad</th>\n",
       "      <th>appet</th>\n",
       "      <th>pe</th>\n",
       "      <th>ane</th>\n",
       "      <th>classification</th>\n",
       "    </tr>\n",
       "  </thead>\n",
       "  <tbody>\n",
       "    <tr>\n",
       "      <th>0</th>\n",
       "      <td>0</td>\n",
       "      <td>48.0</td>\n",
       "      <td>80.0</td>\n",
       "      <td>1.020</td>\n",
       "      <td>1.0</td>\n",
       "      <td>0.0</td>\n",
       "      <td>NaN</td>\n",
       "      <td>normal</td>\n",
       "      <td>notpresent</td>\n",
       "      <td>notpresent</td>\n",
       "      <td>...</td>\n",
       "      <td>44</td>\n",
       "      <td>7800</td>\n",
       "      <td>5.2</td>\n",
       "      <td>yes</td>\n",
       "      <td>yes</td>\n",
       "      <td>no</td>\n",
       "      <td>good</td>\n",
       "      <td>no</td>\n",
       "      <td>no</td>\n",
       "      <td>ckd</td>\n",
       "    </tr>\n",
       "    <tr>\n",
       "      <th>1</th>\n",
       "      <td>1</td>\n",
       "      <td>7.0</td>\n",
       "      <td>50.0</td>\n",
       "      <td>1.020</td>\n",
       "      <td>4.0</td>\n",
       "      <td>0.0</td>\n",
       "      <td>NaN</td>\n",
       "      <td>normal</td>\n",
       "      <td>notpresent</td>\n",
       "      <td>notpresent</td>\n",
       "      <td>...</td>\n",
       "      <td>38</td>\n",
       "      <td>6000</td>\n",
       "      <td>NaN</td>\n",
       "      <td>no</td>\n",
       "      <td>no</td>\n",
       "      <td>no</td>\n",
       "      <td>good</td>\n",
       "      <td>no</td>\n",
       "      <td>no</td>\n",
       "      <td>ckd</td>\n",
       "    </tr>\n",
       "    <tr>\n",
       "      <th>2</th>\n",
       "      <td>2</td>\n",
       "      <td>62.0</td>\n",
       "      <td>80.0</td>\n",
       "      <td>1.010</td>\n",
       "      <td>2.0</td>\n",
       "      <td>3.0</td>\n",
       "      <td>normal</td>\n",
       "      <td>normal</td>\n",
       "      <td>notpresent</td>\n",
       "      <td>notpresent</td>\n",
       "      <td>...</td>\n",
       "      <td>31</td>\n",
       "      <td>7500</td>\n",
       "      <td>NaN</td>\n",
       "      <td>no</td>\n",
       "      <td>yes</td>\n",
       "      <td>no</td>\n",
       "      <td>poor</td>\n",
       "      <td>no</td>\n",
       "      <td>yes</td>\n",
       "      <td>ckd</td>\n",
       "    </tr>\n",
       "    <tr>\n",
       "      <th>3</th>\n",
       "      <td>3</td>\n",
       "      <td>48.0</td>\n",
       "      <td>70.0</td>\n",
       "      <td>1.005</td>\n",
       "      <td>4.0</td>\n",
       "      <td>0.0</td>\n",
       "      <td>normal</td>\n",
       "      <td>abnormal</td>\n",
       "      <td>present</td>\n",
       "      <td>notpresent</td>\n",
       "      <td>...</td>\n",
       "      <td>32</td>\n",
       "      <td>6700</td>\n",
       "      <td>3.9</td>\n",
       "      <td>yes</td>\n",
       "      <td>no</td>\n",
       "      <td>no</td>\n",
       "      <td>poor</td>\n",
       "      <td>yes</td>\n",
       "      <td>yes</td>\n",
       "      <td>ckd</td>\n",
       "    </tr>\n",
       "    <tr>\n",
       "      <th>4</th>\n",
       "      <td>4</td>\n",
       "      <td>51.0</td>\n",
       "      <td>80.0</td>\n",
       "      <td>1.010</td>\n",
       "      <td>2.0</td>\n",
       "      <td>0.0</td>\n",
       "      <td>normal</td>\n",
       "      <td>normal</td>\n",
       "      <td>notpresent</td>\n",
       "      <td>notpresent</td>\n",
       "      <td>...</td>\n",
       "      <td>35</td>\n",
       "      <td>7300</td>\n",
       "      <td>4.6</td>\n",
       "      <td>no</td>\n",
       "      <td>no</td>\n",
       "      <td>no</td>\n",
       "      <td>good</td>\n",
       "      <td>no</td>\n",
       "      <td>no</td>\n",
       "      <td>ckd</td>\n",
       "    </tr>\n",
       "  </tbody>\n",
       "</table>\n",
       "<p>5 rows × 26 columns</p>\n",
       "</div>"
      ],
      "text/plain": [
       "   id   age    bp     sg   al   su     rbc        pc         pcc          ba  \\\n",
       "0   0  48.0  80.0  1.020  1.0  0.0     NaN    normal  notpresent  notpresent   \n",
       "1   1   7.0  50.0  1.020  4.0  0.0     NaN    normal  notpresent  notpresent   \n",
       "2   2  62.0  80.0  1.010  2.0  3.0  normal    normal  notpresent  notpresent   \n",
       "3   3  48.0  70.0  1.005  4.0  0.0  normal  abnormal     present  notpresent   \n",
       "4   4  51.0  80.0  1.010  2.0  0.0  normal    normal  notpresent  notpresent   \n",
       "\n",
       "   ...  pcv    wc   rc  htn   dm  cad appet   pe  ane classification  \n",
       "0  ...   44  7800  5.2  yes  yes   no  good   no   no            ckd  \n",
       "1  ...   38  6000  NaN   no   no   no  good   no   no            ckd  \n",
       "2  ...   31  7500  NaN   no  yes   no  poor   no  yes            ckd  \n",
       "3  ...   32  6700  3.9  yes   no   no  poor  yes  yes            ckd  \n",
       "4  ...   35  7300  4.6   no   no   no  good   no   no            ckd  \n",
       "\n",
       "[5 rows x 26 columns]"
      ]
     },
     "execution_count": 7,
     "metadata": {},
     "output_type": "execute_result"
    }
   ],
   "source": [
    "kidney.head()"
   ]
  },
  {
   "cell_type": "code",
   "execution_count": 8,
   "id": "viral-remedy",
   "metadata": {
    "execution": {
     "iopub.execute_input": "2021-06-28T12:47:43.655238Z",
     "iopub.status.busy": "2021-06-28T12:47:43.654581Z",
     "iopub.status.idle": "2021-06-28T12:47:43.677506Z",
     "shell.execute_reply": "2021-06-28T12:47:43.678069Z",
     "shell.execute_reply.started": "2021-06-28T12:40:52.435560Z"
    },
    "papermill": {
     "duration": 0.127956,
     "end_time": "2021-06-28T12:47:43.678253",
     "exception": false,
     "start_time": "2021-06-28T12:47:43.550297",
     "status": "completed"
    },
    "slideshow": {
     "slide_type": "slide"
    },
    "tags": []
   },
   "outputs": [
    {
     "name": "stdout",
     "output_type": "stream",
     "text": [
      "<class 'pandas.core.frame.DataFrame'>\n",
      "RangeIndex: 400 entries, 0 to 399\n",
      "Data columns (total 26 columns):\n",
      " #   Column          Non-Null Count  Dtype  \n",
      "---  ------          --------------  -----  \n",
      " 0   id              400 non-null    int64  \n",
      " 1   age             391 non-null    float64\n",
      " 2   bp              388 non-null    float64\n",
      " 3   sg              353 non-null    float64\n",
      " 4   al              354 non-null    float64\n",
      " 5   su              351 non-null    float64\n",
      " 6   rbc             248 non-null    object \n",
      " 7   pc              335 non-null    object \n",
      " 8   pcc             396 non-null    object \n",
      " 9   ba              396 non-null    object \n",
      " 10  bgr             356 non-null    float64\n",
      " 11  bu              381 non-null    float64\n",
      " 12  sc              383 non-null    float64\n",
      " 13  sod             313 non-null    float64\n",
      " 14  pot             312 non-null    float64\n",
      " 15  hemo            348 non-null    float64\n",
      " 16  pcv             330 non-null    object \n",
      " 17  wc              295 non-null    object \n",
      " 18  rc              270 non-null    object \n",
      " 19  htn             398 non-null    object \n",
      " 20  dm              398 non-null    object \n",
      " 21  cad             398 non-null    object \n",
      " 22  appet           399 non-null    object \n",
      " 23  pe              399 non-null    object \n",
      " 24  ane             399 non-null    object \n",
      " 25  classification  400 non-null    object \n",
      "dtypes: float64(11), int64(1), object(14)\n",
      "memory usage: 81.4+ KB\n"
     ]
    }
   ],
   "source": [
    "kidney.info()"
   ]
  },
  {
   "cell_type": "code",
   "execution_count": 9,
   "id": "9c9bca52",
   "metadata": {},
   "outputs": [
    {
     "data": {
      "text/html": [
       "<div>\n",
       "<style scoped>\n",
       "    .dataframe tbody tr th:only-of-type {\n",
       "        vertical-align: middle;\n",
       "    }\n",
       "\n",
       "    .dataframe tbody tr th {\n",
       "        vertical-align: top;\n",
       "    }\n",
       "\n",
       "    .dataframe thead th {\n",
       "        text-align: right;\n",
       "    }\n",
       "</style>\n",
       "<table border=\"1\" class=\"dataframe\">\n",
       "  <thead>\n",
       "    <tr style=\"text-align: right;\">\n",
       "      <th></th>\n",
       "      <th>id</th>\n",
       "      <th>age</th>\n",
       "      <th>bp</th>\n",
       "      <th>sg</th>\n",
       "      <th>al</th>\n",
       "      <th>su</th>\n",
       "      <th>bgr</th>\n",
       "      <th>bu</th>\n",
       "      <th>sc</th>\n",
       "      <th>sod</th>\n",
       "      <th>pot</th>\n",
       "      <th>hemo</th>\n",
       "    </tr>\n",
       "  </thead>\n",
       "  <tbody>\n",
       "    <tr>\n",
       "      <th>count</th>\n",
       "      <td>400.000000</td>\n",
       "      <td>391.000000</td>\n",
       "      <td>388.000000</td>\n",
       "      <td>353.000000</td>\n",
       "      <td>354.000000</td>\n",
       "      <td>351.000000</td>\n",
       "      <td>356.000000</td>\n",
       "      <td>381.000000</td>\n",
       "      <td>383.000000</td>\n",
       "      <td>313.000000</td>\n",
       "      <td>312.000000</td>\n",
       "      <td>348.000000</td>\n",
       "    </tr>\n",
       "    <tr>\n",
       "      <th>mean</th>\n",
       "      <td>199.500000</td>\n",
       "      <td>51.483376</td>\n",
       "      <td>76.469072</td>\n",
       "      <td>1.017408</td>\n",
       "      <td>1.016949</td>\n",
       "      <td>0.450142</td>\n",
       "      <td>148.036517</td>\n",
       "      <td>57.425722</td>\n",
       "      <td>3.072454</td>\n",
       "      <td>137.528754</td>\n",
       "      <td>4.627244</td>\n",
       "      <td>12.526437</td>\n",
       "    </tr>\n",
       "    <tr>\n",
       "      <th>std</th>\n",
       "      <td>115.614301</td>\n",
       "      <td>17.169714</td>\n",
       "      <td>13.683637</td>\n",
       "      <td>0.005717</td>\n",
       "      <td>1.352679</td>\n",
       "      <td>1.099191</td>\n",
       "      <td>79.281714</td>\n",
       "      <td>50.503006</td>\n",
       "      <td>5.741126</td>\n",
       "      <td>10.408752</td>\n",
       "      <td>3.193904</td>\n",
       "      <td>2.912587</td>\n",
       "    </tr>\n",
       "    <tr>\n",
       "      <th>min</th>\n",
       "      <td>0.000000</td>\n",
       "      <td>2.000000</td>\n",
       "      <td>50.000000</td>\n",
       "      <td>1.005000</td>\n",
       "      <td>0.000000</td>\n",
       "      <td>0.000000</td>\n",
       "      <td>22.000000</td>\n",
       "      <td>1.500000</td>\n",
       "      <td>0.400000</td>\n",
       "      <td>4.500000</td>\n",
       "      <td>2.500000</td>\n",
       "      <td>3.100000</td>\n",
       "    </tr>\n",
       "    <tr>\n",
       "      <th>25%</th>\n",
       "      <td>99.750000</td>\n",
       "      <td>42.000000</td>\n",
       "      <td>70.000000</td>\n",
       "      <td>1.010000</td>\n",
       "      <td>0.000000</td>\n",
       "      <td>0.000000</td>\n",
       "      <td>99.000000</td>\n",
       "      <td>27.000000</td>\n",
       "      <td>0.900000</td>\n",
       "      <td>135.000000</td>\n",
       "      <td>3.800000</td>\n",
       "      <td>10.300000</td>\n",
       "    </tr>\n",
       "    <tr>\n",
       "      <th>50%</th>\n",
       "      <td>199.500000</td>\n",
       "      <td>55.000000</td>\n",
       "      <td>80.000000</td>\n",
       "      <td>1.020000</td>\n",
       "      <td>0.000000</td>\n",
       "      <td>0.000000</td>\n",
       "      <td>121.000000</td>\n",
       "      <td>42.000000</td>\n",
       "      <td>1.300000</td>\n",
       "      <td>138.000000</td>\n",
       "      <td>4.400000</td>\n",
       "      <td>12.650000</td>\n",
       "    </tr>\n",
       "    <tr>\n",
       "      <th>75%</th>\n",
       "      <td>299.250000</td>\n",
       "      <td>64.500000</td>\n",
       "      <td>80.000000</td>\n",
       "      <td>1.020000</td>\n",
       "      <td>2.000000</td>\n",
       "      <td>0.000000</td>\n",
       "      <td>163.000000</td>\n",
       "      <td>66.000000</td>\n",
       "      <td>2.800000</td>\n",
       "      <td>142.000000</td>\n",
       "      <td>4.900000</td>\n",
       "      <td>15.000000</td>\n",
       "    </tr>\n",
       "    <tr>\n",
       "      <th>max</th>\n",
       "      <td>399.000000</td>\n",
       "      <td>90.000000</td>\n",
       "      <td>180.000000</td>\n",
       "      <td>1.025000</td>\n",
       "      <td>5.000000</td>\n",
       "      <td>5.000000</td>\n",
       "      <td>490.000000</td>\n",
       "      <td>391.000000</td>\n",
       "      <td>76.000000</td>\n",
       "      <td>163.000000</td>\n",
       "      <td>47.000000</td>\n",
       "      <td>17.800000</td>\n",
       "    </tr>\n",
       "  </tbody>\n",
       "</table>\n",
       "</div>"
      ],
      "text/plain": [
       "               id         age          bp          sg          al          su  \\\n",
       "count  400.000000  391.000000  388.000000  353.000000  354.000000  351.000000   \n",
       "mean   199.500000   51.483376   76.469072    1.017408    1.016949    0.450142   \n",
       "std    115.614301   17.169714   13.683637    0.005717    1.352679    1.099191   \n",
       "min      0.000000    2.000000   50.000000    1.005000    0.000000    0.000000   \n",
       "25%     99.750000   42.000000   70.000000    1.010000    0.000000    0.000000   \n",
       "50%    199.500000   55.000000   80.000000    1.020000    0.000000    0.000000   \n",
       "75%    299.250000   64.500000   80.000000    1.020000    2.000000    0.000000   \n",
       "max    399.000000   90.000000  180.000000    1.025000    5.000000    5.000000   \n",
       "\n",
       "              bgr          bu          sc         sod         pot        hemo  \n",
       "count  356.000000  381.000000  383.000000  313.000000  312.000000  348.000000  \n",
       "mean   148.036517   57.425722    3.072454  137.528754    4.627244   12.526437  \n",
       "std     79.281714   50.503006    5.741126   10.408752    3.193904    2.912587  \n",
       "min     22.000000    1.500000    0.400000    4.500000    2.500000    3.100000  \n",
       "25%     99.000000   27.000000    0.900000  135.000000    3.800000   10.300000  \n",
       "50%    121.000000   42.000000    1.300000  138.000000    4.400000   12.650000  \n",
       "75%    163.000000   66.000000    2.800000  142.000000    4.900000   15.000000  \n",
       "max    490.000000  391.000000   76.000000  163.000000   47.000000   17.800000  "
      ]
     },
     "execution_count": 9,
     "metadata": {},
     "output_type": "execute_result"
    }
   ],
   "source": [
    "kidney.describe()"
   ]
  },
  {
   "cell_type": "markdown",
   "id": "7f3d734c",
   "metadata": {},
   "source": [
    "# Performing Exploitory Data Analysis ( EDA )\n",
    "- Modifying the Column Names as per our requirements"
   ]
  },
  {
   "cell_type": "code",
   "execution_count": 10,
   "id": "cheap-pricing",
   "metadata": {
    "execution": {
     "iopub.execute_input": "2021-06-28T12:47:43.883545Z",
     "iopub.status.busy": "2021-06-28T12:47:43.882547Z",
     "iopub.status.idle": "2021-06-28T12:47:43.897467Z",
     "shell.execute_reply": "2021-06-28T12:47:43.896880Z",
     "shell.execute_reply.started": "2021-06-28T12:40:52.466471Z"
    },
    "papermill": {
     "duration": 0.118626,
     "end_time": "2021-06-28T12:47:43.897625",
     "exception": false,
     "start_time": "2021-06-28T12:47:43.778999",
     "status": "completed"
    },
    "slideshow": {
     "slide_type": "subslide"
    },
    "tags": []
   },
   "outputs": [],
   "source": [
    "columns=pd.read_csv(\"data_description.txt\",sep='-')\n",
    "columns=columns.reset_index()"
   ]
  },
  {
   "cell_type": "code",
   "execution_count": 11,
   "id": "quarterly-friday",
   "metadata": {
    "execution": {
     "iopub.execute_input": "2021-06-28T12:47:44.108338Z",
     "iopub.status.busy": "2021-06-28T12:47:44.107586Z",
     "iopub.status.idle": "2021-06-28T12:47:44.110631Z",
     "shell.execute_reply": "2021-06-28T12:47:44.110030Z",
     "shell.execute_reply.started": "2021-06-28T12:40:52.486805Z"
    },
    "papermill": {
     "duration": 0.1104,
     "end_time": "2021-06-28T12:47:44.110768",
     "exception": false,
     "start_time": "2021-06-28T12:47:44.000368",
     "status": "completed"
    },
    "slideshow": {
     "slide_type": "subslide"
    },
    "tags": []
   },
   "outputs": [],
   "source": [
    "columns.columns=['cols','abb_col_names']"
   ]
  },
  {
   "cell_type": "code",
   "execution_count": 12,
   "id": "chemical-builder",
   "metadata": {
    "execution": {
     "iopub.execute_input": "2021-06-28T12:47:44.324996Z",
     "iopub.status.busy": "2021-06-28T12:47:44.323846Z",
     "iopub.status.idle": "2021-06-28T12:47:44.328519Z",
     "shell.execute_reply": "2021-06-28T12:47:44.327983Z",
     "shell.execute_reply.started": "2021-06-28T12:40:52.498032Z"
    },
    "papermill": {
     "duration": 0.116583,
     "end_time": "2021-06-28T12:47:44.328669",
     "exception": false,
     "start_time": "2021-06-28T12:47:44.212086",
     "status": "completed"
    },
    "slideshow": {
     "slide_type": "subslide"
    },
    "tags": []
   },
   "outputs": [
    {
     "data": {
      "text/html": [
       "<div>\n",
       "<style scoped>\n",
       "    .dataframe tbody tr th:only-of-type {\n",
       "        vertical-align: middle;\n",
       "    }\n",
       "\n",
       "    .dataframe tbody tr th {\n",
       "        vertical-align: top;\n",
       "    }\n",
       "\n",
       "    .dataframe thead th {\n",
       "        text-align: right;\n",
       "    }\n",
       "</style>\n",
       "<table border=\"1\" class=\"dataframe\">\n",
       "  <thead>\n",
       "    <tr style=\"text-align: right;\">\n",
       "      <th></th>\n",
       "      <th>cols</th>\n",
       "      <th>abb_col_names</th>\n",
       "    </tr>\n",
       "  </thead>\n",
       "  <tbody>\n",
       "    <tr>\n",
       "      <th>0</th>\n",
       "      <td>id</td>\n",
       "      <td>id</td>\n",
       "    </tr>\n",
       "    <tr>\n",
       "      <th>1</th>\n",
       "      <td>age</td>\n",
       "      <td>age</td>\n",
       "    </tr>\n",
       "    <tr>\n",
       "      <th>2</th>\n",
       "      <td>bp</td>\n",
       "      <td>blood pressure</td>\n",
       "    </tr>\n",
       "    <tr>\n",
       "      <th>3</th>\n",
       "      <td>sg</td>\n",
       "      <td>specific gravity</td>\n",
       "    </tr>\n",
       "    <tr>\n",
       "      <th>4</th>\n",
       "      <td>al</td>\n",
       "      <td>albumin</td>\n",
       "    </tr>\n",
       "    <tr>\n",
       "      <th>5</th>\n",
       "      <td>su</td>\n",
       "      <td>sugar</td>\n",
       "    </tr>\n",
       "    <tr>\n",
       "      <th>6</th>\n",
       "      <td>rbc</td>\n",
       "      <td>red blood cells</td>\n",
       "    </tr>\n",
       "    <tr>\n",
       "      <th>7</th>\n",
       "      <td>pc</td>\n",
       "      <td>pus cell</td>\n",
       "    </tr>\n",
       "    <tr>\n",
       "      <th>8</th>\n",
       "      <td>pcc</td>\n",
       "      <td>pus cell clumps</td>\n",
       "    </tr>\n",
       "    <tr>\n",
       "      <th>9</th>\n",
       "      <td>ba</td>\n",
       "      <td>bacteria</td>\n",
       "    </tr>\n",
       "    <tr>\n",
       "      <th>10</th>\n",
       "      <td>bgr</td>\n",
       "      <td>blood glucose random</td>\n",
       "    </tr>\n",
       "    <tr>\n",
       "      <th>11</th>\n",
       "      <td>bu</td>\n",
       "      <td>blood urea</td>\n",
       "    </tr>\n",
       "    <tr>\n",
       "      <th>12</th>\n",
       "      <td>sc</td>\n",
       "      <td>serum creatinine</td>\n",
       "    </tr>\n",
       "    <tr>\n",
       "      <th>13</th>\n",
       "      <td>sod</td>\n",
       "      <td>sodium</td>\n",
       "    </tr>\n",
       "    <tr>\n",
       "      <th>14</th>\n",
       "      <td>pot</td>\n",
       "      <td>potassium</td>\n",
       "    </tr>\n",
       "    <tr>\n",
       "      <th>15</th>\n",
       "      <td>hemo</td>\n",
       "      <td>haemoglobin</td>\n",
       "    </tr>\n",
       "    <tr>\n",
       "      <th>16</th>\n",
       "      <td>pcv</td>\n",
       "      <td>packed cell volume</td>\n",
       "    </tr>\n",
       "    <tr>\n",
       "      <th>17</th>\n",
       "      <td>wc</td>\n",
       "      <td>white blood cell count</td>\n",
       "    </tr>\n",
       "    <tr>\n",
       "      <th>18</th>\n",
       "      <td>rc</td>\n",
       "      <td>red blood cell count</td>\n",
       "    </tr>\n",
       "    <tr>\n",
       "      <th>19</th>\n",
       "      <td>htn</td>\n",
       "      <td>ypertension</td>\n",
       "    </tr>\n",
       "    <tr>\n",
       "      <th>20</th>\n",
       "      <td>dm</td>\n",
       "      <td>diabetes mellitus</td>\n",
       "    </tr>\n",
       "    <tr>\n",
       "      <th>21</th>\n",
       "      <td>cad</td>\n",
       "      <td>coronary artery disease</td>\n",
       "    </tr>\n",
       "    <tr>\n",
       "      <th>22</th>\n",
       "      <td>appet</td>\n",
       "      <td>appetite</td>\n",
       "    </tr>\n",
       "    <tr>\n",
       "      <th>23</th>\n",
       "      <td>pe</td>\n",
       "      <td>pedal edema</td>\n",
       "    </tr>\n",
       "    <tr>\n",
       "      <th>24</th>\n",
       "      <td>ane</td>\n",
       "      <td>anemia</td>\n",
       "    </tr>\n",
       "    <tr>\n",
       "      <th>25</th>\n",
       "      <td>classification</td>\n",
       "      <td>class</td>\n",
       "    </tr>\n",
       "  </tbody>\n",
       "</table>\n",
       "</div>"
      ],
      "text/plain": [
       "               cols            abb_col_names\n",
       "0               id                        id\n",
       "1              age                       age\n",
       "2               bp            blood pressure\n",
       "3               sg          specific gravity\n",
       "4               al                   albumin\n",
       "5               su                     sugar\n",
       "6              rbc           red blood cells\n",
       "7               pc                  pus cell\n",
       "8              pcc           pus cell clumps\n",
       "9               ba                  bacteria\n",
       "10             bgr      blood glucose random\n",
       "11              bu                blood urea\n",
       "12              sc          serum creatinine\n",
       "13             sod                    sodium\n",
       "14             pot                 potassium\n",
       "15            hemo               haemoglobin\n",
       "16             pcv        packed cell volume\n",
       "17              wc    white blood cell count\n",
       "18              rc      red blood cell count\n",
       "19             htn               ypertension\n",
       "20              dm         diabetes mellitus\n",
       "21             cad   coronary artery disease\n",
       "22           appet                  appetite\n",
       "23              pe               pedal edema\n",
       "24             ane                    anemia\n",
       "25  classification                     class"
      ]
     },
     "execution_count": 12,
     "metadata": {},
     "output_type": "execute_result"
    }
   ],
   "source": [
    "columns"
   ]
  },
  {
   "cell_type": "code",
   "execution_count": 13,
   "id": "sunset-dover",
   "metadata": {
    "execution": {
     "iopub.execute_input": "2021-06-28T12:47:44.561945Z",
     "iopub.status.busy": "2021-06-28T12:47:44.561267Z",
     "iopub.status.idle": "2021-06-28T12:47:44.566296Z",
     "shell.execute_reply": "2021-06-28T12:47:44.565756Z",
     "shell.execute_reply.started": "2021-06-28T12:40:52.519804Z"
    },
    "papermill": {
     "duration": 0.136747,
     "end_time": "2021-06-28T12:47:44.566446",
     "exception": false,
     "start_time": "2021-06-28T12:47:44.429699",
     "status": "completed"
    },
    "scrolled": true,
    "slideshow": {
     "slide_type": "subslide"
    },
    "tags": []
   },
   "outputs": [
    {
     "data": {
      "text/html": [
       "<div>\n",
       "<style scoped>\n",
       "    .dataframe tbody tr th:only-of-type {\n",
       "        vertical-align: middle;\n",
       "    }\n",
       "\n",
       "    .dataframe tbody tr th {\n",
       "        vertical-align: top;\n",
       "    }\n",
       "\n",
       "    .dataframe thead th {\n",
       "        text-align: right;\n",
       "    }\n",
       "</style>\n",
       "<table border=\"1\" class=\"dataframe\">\n",
       "  <thead>\n",
       "    <tr style=\"text-align: right;\">\n",
       "      <th></th>\n",
       "      <th>id</th>\n",
       "      <th>age</th>\n",
       "      <th>bp</th>\n",
       "      <th>sg</th>\n",
       "      <th>al</th>\n",
       "      <th>su</th>\n",
       "      <th>rbc</th>\n",
       "      <th>pc</th>\n",
       "      <th>pcc</th>\n",
       "      <th>ba</th>\n",
       "      <th>...</th>\n",
       "      <th>pcv</th>\n",
       "      <th>wc</th>\n",
       "      <th>rc</th>\n",
       "      <th>htn</th>\n",
       "      <th>dm</th>\n",
       "      <th>cad</th>\n",
       "      <th>appet</th>\n",
       "      <th>pe</th>\n",
       "      <th>ane</th>\n",
       "      <th>classification</th>\n",
       "    </tr>\n",
       "  </thead>\n",
       "  <tbody>\n",
       "    <tr>\n",
       "      <th>0</th>\n",
       "      <td>0</td>\n",
       "      <td>48.0</td>\n",
       "      <td>80.0</td>\n",
       "      <td>1.020</td>\n",
       "      <td>1.0</td>\n",
       "      <td>0.0</td>\n",
       "      <td>NaN</td>\n",
       "      <td>normal</td>\n",
       "      <td>notpresent</td>\n",
       "      <td>notpresent</td>\n",
       "      <td>...</td>\n",
       "      <td>44</td>\n",
       "      <td>7800</td>\n",
       "      <td>5.2</td>\n",
       "      <td>yes</td>\n",
       "      <td>yes</td>\n",
       "      <td>no</td>\n",
       "      <td>good</td>\n",
       "      <td>no</td>\n",
       "      <td>no</td>\n",
       "      <td>ckd</td>\n",
       "    </tr>\n",
       "    <tr>\n",
       "      <th>1</th>\n",
       "      <td>1</td>\n",
       "      <td>7.0</td>\n",
       "      <td>50.0</td>\n",
       "      <td>1.020</td>\n",
       "      <td>4.0</td>\n",
       "      <td>0.0</td>\n",
       "      <td>NaN</td>\n",
       "      <td>normal</td>\n",
       "      <td>notpresent</td>\n",
       "      <td>notpresent</td>\n",
       "      <td>...</td>\n",
       "      <td>38</td>\n",
       "      <td>6000</td>\n",
       "      <td>NaN</td>\n",
       "      <td>no</td>\n",
       "      <td>no</td>\n",
       "      <td>no</td>\n",
       "      <td>good</td>\n",
       "      <td>no</td>\n",
       "      <td>no</td>\n",
       "      <td>ckd</td>\n",
       "    </tr>\n",
       "    <tr>\n",
       "      <th>2</th>\n",
       "      <td>2</td>\n",
       "      <td>62.0</td>\n",
       "      <td>80.0</td>\n",
       "      <td>1.010</td>\n",
       "      <td>2.0</td>\n",
       "      <td>3.0</td>\n",
       "      <td>normal</td>\n",
       "      <td>normal</td>\n",
       "      <td>notpresent</td>\n",
       "      <td>notpresent</td>\n",
       "      <td>...</td>\n",
       "      <td>31</td>\n",
       "      <td>7500</td>\n",
       "      <td>NaN</td>\n",
       "      <td>no</td>\n",
       "      <td>yes</td>\n",
       "      <td>no</td>\n",
       "      <td>poor</td>\n",
       "      <td>no</td>\n",
       "      <td>yes</td>\n",
       "      <td>ckd</td>\n",
       "    </tr>\n",
       "    <tr>\n",
       "      <th>3</th>\n",
       "      <td>3</td>\n",
       "      <td>48.0</td>\n",
       "      <td>70.0</td>\n",
       "      <td>1.005</td>\n",
       "      <td>4.0</td>\n",
       "      <td>0.0</td>\n",
       "      <td>normal</td>\n",
       "      <td>abnormal</td>\n",
       "      <td>present</td>\n",
       "      <td>notpresent</td>\n",
       "      <td>...</td>\n",
       "      <td>32</td>\n",
       "      <td>6700</td>\n",
       "      <td>3.9</td>\n",
       "      <td>yes</td>\n",
       "      <td>no</td>\n",
       "      <td>no</td>\n",
       "      <td>poor</td>\n",
       "      <td>yes</td>\n",
       "      <td>yes</td>\n",
       "      <td>ckd</td>\n",
       "    </tr>\n",
       "    <tr>\n",
       "      <th>4</th>\n",
       "      <td>4</td>\n",
       "      <td>51.0</td>\n",
       "      <td>80.0</td>\n",
       "      <td>1.010</td>\n",
       "      <td>2.0</td>\n",
       "      <td>0.0</td>\n",
       "      <td>normal</td>\n",
       "      <td>normal</td>\n",
       "      <td>notpresent</td>\n",
       "      <td>notpresent</td>\n",
       "      <td>...</td>\n",
       "      <td>35</td>\n",
       "      <td>7300</td>\n",
       "      <td>4.6</td>\n",
       "      <td>no</td>\n",
       "      <td>no</td>\n",
       "      <td>no</td>\n",
       "      <td>good</td>\n",
       "      <td>no</td>\n",
       "      <td>no</td>\n",
       "      <td>ckd</td>\n",
       "    </tr>\n",
       "  </tbody>\n",
       "</table>\n",
       "<p>5 rows × 26 columns</p>\n",
       "</div>"
      ],
      "text/plain": [
       "   id   age    bp     sg   al   su     rbc        pc         pcc          ba  \\\n",
       "0   0  48.0  80.0  1.020  1.0  0.0     NaN    normal  notpresent  notpresent   \n",
       "1   1   7.0  50.0  1.020  4.0  0.0     NaN    normal  notpresent  notpresent   \n",
       "2   2  62.0  80.0  1.010  2.0  3.0  normal    normal  notpresent  notpresent   \n",
       "3   3  48.0  70.0  1.005  4.0  0.0  normal  abnormal     present  notpresent   \n",
       "4   4  51.0  80.0  1.010  2.0  0.0  normal    normal  notpresent  notpresent   \n",
       "\n",
       "   ...  pcv    wc   rc  htn   dm  cad appet   pe  ane classification  \n",
       "0  ...   44  7800  5.2  yes  yes   no  good   no   no            ckd  \n",
       "1  ...   38  6000  NaN   no   no   no  good   no   no            ckd  \n",
       "2  ...   31  7500  NaN   no  yes   no  poor   no  yes            ckd  \n",
       "3  ...   32  6700  3.9  yes   no   no  poor  yes  yes            ckd  \n",
       "4  ...   35  7300  4.6   no   no   no  good   no   no            ckd  \n",
       "\n",
       "[5 rows x 26 columns]"
      ]
     },
     "execution_count": 13,
     "metadata": {},
     "output_type": "execute_result"
    }
   ],
   "source": [
    "kidney.head()"
   ]
  },
  {
   "cell_type": "code",
   "execution_count": 14,
   "id": "hourly-stranger",
   "metadata": {
    "execution": {
     "iopub.execute_input": "2021-06-28T12:47:44.775188Z",
     "iopub.status.busy": "2021-06-28T12:47:44.774543Z",
     "iopub.status.idle": "2021-06-28T12:47:44.777927Z",
     "shell.execute_reply": "2021-06-28T12:47:44.777294Z",
     "shell.execute_reply.started": "2021-06-28T12:40:52.560634Z"
    },
    "papermill": {
     "duration": 0.109334,
     "end_time": "2021-06-28T12:47:44.778075",
     "exception": false,
     "start_time": "2021-06-28T12:47:44.668741",
     "status": "completed"
    },
    "slideshow": {
     "slide_type": "subslide"
    },
    "tags": []
   },
   "outputs": [],
   "source": [
    "kidney.columns=columns['abb_col_names'].values"
   ]
  },
  {
   "cell_type": "code",
   "execution_count": 15,
   "id": "senior-tower",
   "metadata": {
    "execution": {
     "iopub.execute_input": "2021-06-28T12:47:45.046753Z",
     "iopub.status.busy": "2021-06-28T12:47:45.045880Z",
     "iopub.status.idle": "2021-06-28T12:47:45.050610Z",
     "shell.execute_reply": "2021-06-28T12:47:45.050050Z",
     "shell.execute_reply.started": "2021-06-28T12:40:52.568623Z"
    },
    "papermill": {
     "duration": 0.170099,
     "end_time": "2021-06-28T12:47:45.050770",
     "exception": false,
     "start_time": "2021-06-28T12:47:44.880671",
     "status": "completed"
    },
    "slideshow": {
     "slide_type": "subslide"
    },
    "tags": []
   },
   "outputs": [
    {
     "data": {
      "text/html": [
       "<div>\n",
       "<style scoped>\n",
       "    .dataframe tbody tr th:only-of-type {\n",
       "        vertical-align: middle;\n",
       "    }\n",
       "\n",
       "    .dataframe tbody tr th {\n",
       "        vertical-align: top;\n",
       "    }\n",
       "\n",
       "    .dataframe thead th {\n",
       "        text-align: right;\n",
       "    }\n",
       "</style>\n",
       "<table border=\"1\" class=\"dataframe\">\n",
       "  <thead>\n",
       "    <tr style=\"text-align: right;\">\n",
       "      <th></th>\n",
       "      <th>id</th>\n",
       "      <th>age</th>\n",
       "      <th>blood pressure</th>\n",
       "      <th>specific gravity</th>\n",
       "      <th>albumin</th>\n",
       "      <th>sugar</th>\n",
       "      <th>red blood cells</th>\n",
       "      <th>pus cell</th>\n",
       "      <th>pus cell clumps</th>\n",
       "      <th>bacteria</th>\n",
       "      <th>...</th>\n",
       "      <th>packed cell volume</th>\n",
       "      <th>white blood cell count</th>\n",
       "      <th>red blood cell count</th>\n",
       "      <th>ypertension</th>\n",
       "      <th>diabetes mellitus</th>\n",
       "      <th>coronary artery disease</th>\n",
       "      <th>appetite</th>\n",
       "      <th>pedal edema</th>\n",
       "      <th>anemia</th>\n",
       "      <th>class</th>\n",
       "    </tr>\n",
       "  </thead>\n",
       "  <tbody>\n",
       "    <tr>\n",
       "      <th>0</th>\n",
       "      <td>0</td>\n",
       "      <td>48.0</td>\n",
       "      <td>80.0</td>\n",
       "      <td>1.020</td>\n",
       "      <td>1.0</td>\n",
       "      <td>0.0</td>\n",
       "      <td>NaN</td>\n",
       "      <td>normal</td>\n",
       "      <td>notpresent</td>\n",
       "      <td>notpresent</td>\n",
       "      <td>...</td>\n",
       "      <td>44</td>\n",
       "      <td>7800</td>\n",
       "      <td>5.2</td>\n",
       "      <td>yes</td>\n",
       "      <td>yes</td>\n",
       "      <td>no</td>\n",
       "      <td>good</td>\n",
       "      <td>no</td>\n",
       "      <td>no</td>\n",
       "      <td>ckd</td>\n",
       "    </tr>\n",
       "    <tr>\n",
       "      <th>1</th>\n",
       "      <td>1</td>\n",
       "      <td>7.0</td>\n",
       "      <td>50.0</td>\n",
       "      <td>1.020</td>\n",
       "      <td>4.0</td>\n",
       "      <td>0.0</td>\n",
       "      <td>NaN</td>\n",
       "      <td>normal</td>\n",
       "      <td>notpresent</td>\n",
       "      <td>notpresent</td>\n",
       "      <td>...</td>\n",
       "      <td>38</td>\n",
       "      <td>6000</td>\n",
       "      <td>NaN</td>\n",
       "      <td>no</td>\n",
       "      <td>no</td>\n",
       "      <td>no</td>\n",
       "      <td>good</td>\n",
       "      <td>no</td>\n",
       "      <td>no</td>\n",
       "      <td>ckd</td>\n",
       "    </tr>\n",
       "    <tr>\n",
       "      <th>2</th>\n",
       "      <td>2</td>\n",
       "      <td>62.0</td>\n",
       "      <td>80.0</td>\n",
       "      <td>1.010</td>\n",
       "      <td>2.0</td>\n",
       "      <td>3.0</td>\n",
       "      <td>normal</td>\n",
       "      <td>normal</td>\n",
       "      <td>notpresent</td>\n",
       "      <td>notpresent</td>\n",
       "      <td>...</td>\n",
       "      <td>31</td>\n",
       "      <td>7500</td>\n",
       "      <td>NaN</td>\n",
       "      <td>no</td>\n",
       "      <td>yes</td>\n",
       "      <td>no</td>\n",
       "      <td>poor</td>\n",
       "      <td>no</td>\n",
       "      <td>yes</td>\n",
       "      <td>ckd</td>\n",
       "    </tr>\n",
       "    <tr>\n",
       "      <th>3</th>\n",
       "      <td>3</td>\n",
       "      <td>48.0</td>\n",
       "      <td>70.0</td>\n",
       "      <td>1.005</td>\n",
       "      <td>4.0</td>\n",
       "      <td>0.0</td>\n",
       "      <td>normal</td>\n",
       "      <td>abnormal</td>\n",
       "      <td>present</td>\n",
       "      <td>notpresent</td>\n",
       "      <td>...</td>\n",
       "      <td>32</td>\n",
       "      <td>6700</td>\n",
       "      <td>3.9</td>\n",
       "      <td>yes</td>\n",
       "      <td>no</td>\n",
       "      <td>no</td>\n",
       "      <td>poor</td>\n",
       "      <td>yes</td>\n",
       "      <td>yes</td>\n",
       "      <td>ckd</td>\n",
       "    </tr>\n",
       "    <tr>\n",
       "      <th>4</th>\n",
       "      <td>4</td>\n",
       "      <td>51.0</td>\n",
       "      <td>80.0</td>\n",
       "      <td>1.010</td>\n",
       "      <td>2.0</td>\n",
       "      <td>0.0</td>\n",
       "      <td>normal</td>\n",
       "      <td>normal</td>\n",
       "      <td>notpresent</td>\n",
       "      <td>notpresent</td>\n",
       "      <td>...</td>\n",
       "      <td>35</td>\n",
       "      <td>7300</td>\n",
       "      <td>4.6</td>\n",
       "      <td>no</td>\n",
       "      <td>no</td>\n",
       "      <td>no</td>\n",
       "      <td>good</td>\n",
       "      <td>no</td>\n",
       "      <td>no</td>\n",
       "      <td>ckd</td>\n",
       "    </tr>\n",
       "  </tbody>\n",
       "</table>\n",
       "<p>5 rows × 26 columns</p>\n",
       "</div>"
      ],
      "text/plain": [
       "   id   age  blood pressure  specific gravity  albumin  sugar red blood cells  \\\n",
       "0   0  48.0            80.0             1.020      1.0    0.0             NaN   \n",
       "1   1   7.0            50.0             1.020      4.0    0.0             NaN   \n",
       "2   2  62.0            80.0             1.010      2.0    3.0          normal   \n",
       "3   3  48.0            70.0             1.005      4.0    0.0          normal   \n",
       "4   4  51.0            80.0             1.010      2.0    0.0          normal   \n",
       "\n",
       "   pus cell pus cell clumps    bacteria  ...  packed cell volume  \\\n",
       "0    normal      notpresent  notpresent  ...                  44   \n",
       "1    normal      notpresent  notpresent  ...                  38   \n",
       "2    normal      notpresent  notpresent  ...                  31   \n",
       "3  abnormal         present  notpresent  ...                  32   \n",
       "4    normal      notpresent  notpresent  ...                  35   \n",
       "\n",
       "   white blood cell count  red blood cell count  ypertension  \\\n",
       "0                    7800                   5.2          yes   \n",
       "1                    6000                   NaN           no   \n",
       "2                    7500                   NaN           no   \n",
       "3                    6700                   3.9          yes   \n",
       "4                    7300                   4.6           no   \n",
       "\n",
       "   diabetes mellitus  coronary artery disease appetite pedal edema anemia  \\\n",
       "0                yes                       no     good          no     no   \n",
       "1                 no                       no     good          no     no   \n",
       "2                yes                       no     poor          no    yes   \n",
       "3                 no                       no     poor         yes    yes   \n",
       "4                 no                       no     good          no     no   \n",
       "\n",
       "  class  \n",
       "0   ckd  \n",
       "1   ckd  \n",
       "2   ckd  \n",
       "3   ckd  \n",
       "4   ckd  \n",
       "\n",
       "[5 rows x 26 columns]"
      ]
     },
     "execution_count": 15,
     "metadata": {},
     "output_type": "execute_result"
    }
   ],
   "source": [
    "kidney.head()"
   ]
  },
  {
   "cell_type": "code",
   "execution_count": 16,
   "id": "cutting-default",
   "metadata": {
    "execution": {
     "iopub.execute_input": "2021-06-28T12:47:45.272502Z",
     "iopub.status.busy": "2021-06-28T12:47:45.271507Z",
     "iopub.status.idle": "2021-06-28T12:47:45.317996Z",
     "shell.execute_reply": "2021-06-28T12:47:45.317442Z",
     "shell.execute_reply.started": "2021-06-28T12:40:52.613650Z"
    },
    "papermill": {
     "duration": 0.157958,
     "end_time": "2021-06-28T12:47:45.318151",
     "exception": false,
     "start_time": "2021-06-28T12:47:45.160193",
     "status": "completed"
    },
    "slideshow": {
     "slide_type": "subslide"
    },
    "tags": []
   },
   "outputs": [
    {
     "data": {
      "text/html": [
       "<div>\n",
       "<style scoped>\n",
       "    .dataframe tbody tr th:only-of-type {\n",
       "        vertical-align: middle;\n",
       "    }\n",
       "\n",
       "    .dataframe tbody tr th {\n",
       "        vertical-align: top;\n",
       "    }\n",
       "\n",
       "    .dataframe thead th {\n",
       "        text-align: right;\n",
       "    }\n",
       "</style>\n",
       "<table border=\"1\" class=\"dataframe\">\n",
       "  <thead>\n",
       "    <tr style=\"text-align: right;\">\n",
       "      <th></th>\n",
       "      <th>count</th>\n",
       "      <th>mean</th>\n",
       "      <th>std</th>\n",
       "      <th>min</th>\n",
       "      <th>25%</th>\n",
       "      <th>50%</th>\n",
       "      <th>75%</th>\n",
       "      <th>max</th>\n",
       "    </tr>\n",
       "  </thead>\n",
       "  <tbody>\n",
       "    <tr>\n",
       "      <th>id</th>\n",
       "      <td>400.0</td>\n",
       "      <td>199.500000</td>\n",
       "      <td>115.614301</td>\n",
       "      <td>0.000</td>\n",
       "      <td>99.75</td>\n",
       "      <td>199.50</td>\n",
       "      <td>299.25</td>\n",
       "      <td>399.000</td>\n",
       "    </tr>\n",
       "    <tr>\n",
       "      <th>age</th>\n",
       "      <td>391.0</td>\n",
       "      <td>51.483376</td>\n",
       "      <td>17.169714</td>\n",
       "      <td>2.000</td>\n",
       "      <td>42.00</td>\n",
       "      <td>55.00</td>\n",
       "      <td>64.50</td>\n",
       "      <td>90.000</td>\n",
       "    </tr>\n",
       "    <tr>\n",
       "      <th>blood pressure</th>\n",
       "      <td>388.0</td>\n",
       "      <td>76.469072</td>\n",
       "      <td>13.683637</td>\n",
       "      <td>50.000</td>\n",
       "      <td>70.00</td>\n",
       "      <td>80.00</td>\n",
       "      <td>80.00</td>\n",
       "      <td>180.000</td>\n",
       "    </tr>\n",
       "    <tr>\n",
       "      <th>specific gravity</th>\n",
       "      <td>353.0</td>\n",
       "      <td>1.017408</td>\n",
       "      <td>0.005717</td>\n",
       "      <td>1.005</td>\n",
       "      <td>1.01</td>\n",
       "      <td>1.02</td>\n",
       "      <td>1.02</td>\n",
       "      <td>1.025</td>\n",
       "    </tr>\n",
       "    <tr>\n",
       "      <th>albumin</th>\n",
       "      <td>354.0</td>\n",
       "      <td>1.016949</td>\n",
       "      <td>1.352679</td>\n",
       "      <td>0.000</td>\n",
       "      <td>0.00</td>\n",
       "      <td>0.00</td>\n",
       "      <td>2.00</td>\n",
       "      <td>5.000</td>\n",
       "    </tr>\n",
       "    <tr>\n",
       "      <th>sugar</th>\n",
       "      <td>351.0</td>\n",
       "      <td>0.450142</td>\n",
       "      <td>1.099191</td>\n",
       "      <td>0.000</td>\n",
       "      <td>0.00</td>\n",
       "      <td>0.00</td>\n",
       "      <td>0.00</td>\n",
       "      <td>5.000</td>\n",
       "    </tr>\n",
       "    <tr>\n",
       "      <th>blood glucose random</th>\n",
       "      <td>356.0</td>\n",
       "      <td>148.036517</td>\n",
       "      <td>79.281714</td>\n",
       "      <td>22.000</td>\n",
       "      <td>99.00</td>\n",
       "      <td>121.00</td>\n",
       "      <td>163.00</td>\n",
       "      <td>490.000</td>\n",
       "    </tr>\n",
       "    <tr>\n",
       "      <th>blood urea</th>\n",
       "      <td>381.0</td>\n",
       "      <td>57.425722</td>\n",
       "      <td>50.503006</td>\n",
       "      <td>1.500</td>\n",
       "      <td>27.00</td>\n",
       "      <td>42.00</td>\n",
       "      <td>66.00</td>\n",
       "      <td>391.000</td>\n",
       "    </tr>\n",
       "    <tr>\n",
       "      <th>serum creatinine</th>\n",
       "      <td>383.0</td>\n",
       "      <td>3.072454</td>\n",
       "      <td>5.741126</td>\n",
       "      <td>0.400</td>\n",
       "      <td>0.90</td>\n",
       "      <td>1.30</td>\n",
       "      <td>2.80</td>\n",
       "      <td>76.000</td>\n",
       "    </tr>\n",
       "    <tr>\n",
       "      <th>sodium</th>\n",
       "      <td>313.0</td>\n",
       "      <td>137.528754</td>\n",
       "      <td>10.408752</td>\n",
       "      <td>4.500</td>\n",
       "      <td>135.00</td>\n",
       "      <td>138.00</td>\n",
       "      <td>142.00</td>\n",
       "      <td>163.000</td>\n",
       "    </tr>\n",
       "    <tr>\n",
       "      <th>potassium</th>\n",
       "      <td>312.0</td>\n",
       "      <td>4.627244</td>\n",
       "      <td>3.193904</td>\n",
       "      <td>2.500</td>\n",
       "      <td>3.80</td>\n",
       "      <td>4.40</td>\n",
       "      <td>4.90</td>\n",
       "      <td>47.000</td>\n",
       "    </tr>\n",
       "    <tr>\n",
       "      <th>haemoglobin</th>\n",
       "      <td>348.0</td>\n",
       "      <td>12.526437</td>\n",
       "      <td>2.912587</td>\n",
       "      <td>3.100</td>\n",
       "      <td>10.30</td>\n",
       "      <td>12.65</td>\n",
       "      <td>15.00</td>\n",
       "      <td>17.800</td>\n",
       "    </tr>\n",
       "  </tbody>\n",
       "</table>\n",
       "</div>"
      ],
      "text/plain": [
       "                      count        mean         std     min     25%     50%  \\\n",
       "id                    400.0  199.500000  115.614301   0.000   99.75  199.50   \n",
       "age                   391.0   51.483376   17.169714   2.000   42.00   55.00   \n",
       "blood pressure        388.0   76.469072   13.683637  50.000   70.00   80.00   \n",
       "specific gravity      353.0    1.017408    0.005717   1.005    1.01    1.02   \n",
       "albumin               354.0    1.016949    1.352679   0.000    0.00    0.00   \n",
       "sugar                 351.0    0.450142    1.099191   0.000    0.00    0.00   \n",
       "blood glucose random  356.0  148.036517   79.281714  22.000   99.00  121.00   \n",
       "blood urea            381.0   57.425722   50.503006   1.500   27.00   42.00   \n",
       "serum creatinine      383.0    3.072454    5.741126   0.400    0.90    1.30   \n",
       "sodium                313.0  137.528754   10.408752   4.500  135.00  138.00   \n",
       "potassium             312.0    4.627244    3.193904   2.500    3.80    4.40   \n",
       "haemoglobin           348.0   12.526437    2.912587   3.100   10.30   12.65   \n",
       "\n",
       "                         75%      max  \n",
       "id                    299.25  399.000  \n",
       "age                    64.50   90.000  \n",
       "blood pressure         80.00  180.000  \n",
       "specific gravity        1.02    1.025  \n",
       "albumin                 2.00    5.000  \n",
       "sugar                   0.00    5.000  \n",
       "blood glucose random  163.00  490.000  \n",
       "blood urea             66.00  391.000  \n",
       "serum creatinine        2.80   76.000  \n",
       "sodium                142.00  163.000  \n",
       "potassium               4.90   47.000  \n",
       "haemoglobin            15.00   17.800  "
      ]
     },
     "execution_count": 16,
     "metadata": {},
     "output_type": "execute_result"
    }
   ],
   "source": [
    "kidney.describe().T"
   ]
  },
  {
   "cell_type": "code",
   "execution_count": 17,
   "id": "modified-anthony",
   "metadata": {
    "execution": {
     "iopub.execute_input": "2021-06-28T12:47:45.531735Z",
     "iopub.status.busy": "2021-06-28T12:47:45.530692Z",
     "iopub.status.idle": "2021-06-28T12:47:45.533266Z",
     "shell.execute_reply": "2021-06-28T12:47:45.533783Z",
     "shell.execute_reply.started": "2021-06-28T12:40:52.675627Z"
    },
    "papermill": {
     "duration": 0.113016,
     "end_time": "2021-06-28T12:47:45.533977",
     "exception": false,
     "start_time": "2021-06-28T12:47:45.420961",
     "status": "completed"
    },
    "slideshow": {
     "slide_type": "slide"
    },
    "tags": []
   },
   "outputs": [],
   "source": [
    "def convert_dtype(kidney,feature):\n",
    "    kidney[feature]=pd.to_numeric(kidney[feature],errors='coerce')    #whereever we have Nan values , this errors parameter will hanfle that "
   ]
  },
  {
   "cell_type": "code",
   "execution_count": 18,
   "id": "interracial-brisbane",
   "metadata": {
    "execution": {
     "iopub.execute_input": "2021-06-28T12:47:45.742372Z",
     "iopub.status.busy": "2021-06-28T12:47:45.741686Z",
     "iopub.status.idle": "2021-06-28T12:47:45.747841Z",
     "shell.execute_reply": "2021-06-28T12:47:45.748320Z",
     "shell.execute_reply.started": "2021-06-28T12:40:52.682800Z"
    },
    "papermill": {
     "duration": 0.111901,
     "end_time": "2021-06-28T12:47:45.748512",
     "exception": false,
     "start_time": "2021-06-28T12:47:45.636611",
     "status": "completed"
    },
    "slideshow": {
     "slide_type": "slide"
    },
    "tags": []
   },
   "outputs": [],
   "source": [
    "features=['packed cell volume','white blood cell count','red blood cell count']\n",
    "for i in features:\n",
    "    convert_dtype(kidney,i)"
   ]
  },
  {
   "cell_type": "code",
   "execution_count": 19,
   "id": "outer-method",
   "metadata": {
    "execution": {
     "iopub.execute_input": "2021-06-28T12:47:45.960418Z",
     "iopub.status.busy": "2021-06-28T12:47:45.959783Z",
     "iopub.status.idle": "2021-06-28T12:47:45.966853Z",
     "shell.execute_reply": "2021-06-28T12:47:45.967363Z",
     "shell.execute_reply.started": "2021-06-28T12:40:52.698053Z"
    },
    "papermill": {
     "duration": 0.1138,
     "end_time": "2021-06-28T12:47:45.967544",
     "exception": false,
     "start_time": "2021-06-28T12:47:45.853744",
     "status": "completed"
    },
    "slideshow": {
     "slide_type": "subslide"
    },
    "tags": []
   },
   "outputs": [
    {
     "data": {
      "text/plain": [
       "id                           int64\n",
       "age                        float64\n",
       "blood pressure             float64\n",
       "specific gravity           float64\n",
       "albumin                    float64\n",
       "sugar                      float64\n",
       "red blood cells             object\n",
       " pus cell                   object\n",
       "pus cell clumps             object\n",
       "bacteria                    object\n",
       "blood glucose random       float64\n",
       "blood urea                 float64\n",
       "serum creatinine           float64\n",
       "sodium                     float64\n",
       "potassium                  float64\n",
       "haemoglobin                float64\n",
       "packed cell volume         float64\n",
       "white blood cell count     float64\n",
       "red blood cell count       float64\n",
       "ypertension                 object\n",
       "diabetes mellitus           object\n",
       "coronary artery disease     object\n",
       "appetite                    object\n",
       "pedal edema                 object\n",
       "anemia                      object\n",
       "class                       object\n",
       "dtype: object"
      ]
     },
     "execution_count": 19,
     "metadata": {},
     "output_type": "execute_result"
    }
   ],
   "source": [
    "kidney.dtypes"
   ]
  },
  {
   "cell_type": "code",
   "execution_count": 20,
   "id": "upper-voluntary",
   "metadata": {
    "execution": {
     "iopub.execute_input": "2021-06-28T12:47:46.182803Z",
     "iopub.status.busy": "2021-06-28T12:47:46.182159Z",
     "iopub.status.idle": "2021-06-28T12:47:46.187437Z",
     "shell.execute_reply": "2021-06-28T12:47:46.187991Z",
     "shell.execute_reply.started": "2021-06-28T12:40:52.712183Z"
    },
    "papermill": {
     "duration": 0.114497,
     "end_time": "2021-06-28T12:47:46.188176",
     "exception": false,
     "start_time": "2021-06-28T12:47:46.073679",
     "status": "completed"
    },
    "slideshow": {
     "slide_type": "subslide"
    },
    "tags": []
   },
   "outputs": [],
   "source": [
    "kidney.drop('id',inplace=True,axis=1)"
   ]
  },
  {
   "cell_type": "markdown",
   "id": "sticky-venture",
   "metadata": {
    "papermill": {
     "duration": 0.106718,
     "end_time": "2021-06-28T12:47:46.405391",
     "exception": false,
     "start_time": "2021-06-28T12:47:46.298673",
     "status": "completed"
    },
    "slideshow": {
     "slide_type": "slide"
    },
    "tags": []
   },
   "source": [
    "# Performing Data cleaning"
   ]
  },
  {
   "cell_type": "code",
   "execution_count": 21,
   "id": "controversial-spirit",
   "metadata": {
    "execution": {
     "iopub.execute_input": "2021-06-28T12:47:46.617785Z",
     "iopub.status.busy": "2021-06-28T12:47:46.617108Z",
     "iopub.status.idle": "2021-06-28T12:47:46.623765Z",
     "shell.execute_reply": "2021-06-28T12:47:46.623197Z",
     "shell.execute_reply.started": "2021-06-28T12:40:52.725178Z"
    },
    "papermill": {
     "duration": 0.112815,
     "end_time": "2021-06-28T12:47:46.623927",
     "exception": false,
     "start_time": "2021-06-28T12:47:46.511112",
     "status": "completed"
    },
    "slideshow": {
     "slide_type": "subslide"
    },
    "tags": []
   },
   "outputs": [],
   "source": [
    "def extract_cat_num(kidney):\n",
    "    cat_col=[col for col in kidney.columns if kidney[col].dtype=='O']\n",
    "    num_col=[col for col in kidney.columns if kidney[col].dtype!='O']\n",
    "    return cat_col,num_col"
   ]
  },
  {
   "cell_type": "code",
   "execution_count": 22,
   "id": "chubby-cargo",
   "metadata": {
    "execution": {
     "iopub.execute_input": "2021-06-28T12:47:46.836771Z",
     "iopub.status.busy": "2021-06-28T12:47:46.835787Z",
     "iopub.status.idle": "2021-06-28T12:47:46.839164Z",
     "shell.execute_reply": "2021-06-28T12:47:46.838497Z",
     "shell.execute_reply.started": "2021-06-28T12:40:52.736638Z"
    },
    "papermill": {
     "duration": 0.111976,
     "end_time": "2021-06-28T12:47:46.839308",
     "exception": false,
     "start_time": "2021-06-28T12:47:46.727332",
     "status": "completed"
    },
    "slideshow": {
     "slide_type": "subslide"
    },
    "tags": []
   },
   "outputs": [],
   "source": [
    "cat_col,num_col=extract_cat_num(kidney)"
   ]
  },
  {
   "cell_type": "code",
   "execution_count": 23,
   "id": "focal-submission",
   "metadata": {
    "execution": {
     "iopub.execute_input": "2021-06-28T12:47:47.056320Z",
     "iopub.status.busy": "2021-06-28T12:47:47.055342Z",
     "iopub.status.idle": "2021-06-28T12:47:47.059878Z",
     "shell.execute_reply": "2021-06-28T12:47:47.059286Z",
     "shell.execute_reply.started": "2021-06-28T12:40:52.750607Z"
    },
    "papermill": {
     "duration": 0.116518,
     "end_time": "2021-06-28T12:47:47.060039",
     "exception": false,
     "start_time": "2021-06-28T12:47:46.943521",
     "status": "completed"
    },
    "slideshow": {
     "slide_type": "subslide"
    },
    "tags": []
   },
   "outputs": [
    {
     "data": {
      "text/plain": [
       "['red blood cells',\n",
       " ' pus cell',\n",
       " 'pus cell clumps',\n",
       " 'bacteria',\n",
       " 'ypertension',\n",
       " 'diabetes mellitus',\n",
       " 'coronary artery disease',\n",
       " 'appetite',\n",
       " 'pedal edema',\n",
       " 'anemia',\n",
       " 'class']"
      ]
     },
     "execution_count": 23,
     "metadata": {},
     "output_type": "execute_result"
    }
   ],
   "source": [
    "cat_col"
   ]
  },
  {
   "cell_type": "code",
   "execution_count": 24,
   "id": "printable-handling",
   "metadata": {
    "execution": {
     "iopub.execute_input": "2021-06-28T12:47:47.270800Z",
     "iopub.status.busy": "2021-06-28T12:47:47.270183Z",
     "iopub.status.idle": "2021-06-28T12:47:47.274992Z",
     "shell.execute_reply": "2021-06-28T12:47:47.275637Z",
     "shell.execute_reply.started": "2021-06-28T12:40:52.765425Z"
    },
    "papermill": {
     "duration": 0.111855,
     "end_time": "2021-06-28T12:47:47.275814",
     "exception": false,
     "start_time": "2021-06-28T12:47:47.163959",
     "status": "completed"
    },
    "slideshow": {
     "slide_type": "subslide"
    },
    "tags": []
   },
   "outputs": [
    {
     "data": {
      "text/plain": [
       "['age',\n",
       " 'blood pressure',\n",
       " 'specific gravity',\n",
       " 'albumin',\n",
       " 'sugar',\n",
       " 'blood glucose random',\n",
       " 'blood urea',\n",
       " 'serum creatinine',\n",
       " 'sodium',\n",
       " 'potassium',\n",
       " 'haemoglobin',\n",
       " 'packed cell volume',\n",
       " 'white blood cell count',\n",
       " 'red blood cell count']"
      ]
     },
     "execution_count": 24,
     "metadata": {},
     "output_type": "execute_result"
    }
   ],
   "source": [
    "num_col"
   ]
  },
  {
   "cell_type": "code",
   "execution_count": 25,
   "id": "unknown-ocean",
   "metadata": {
    "execution": {
     "iopub.execute_input": "2021-06-28T12:47:47.487515Z",
     "iopub.status.busy": "2021-06-28T12:47:47.486900Z",
     "iopub.status.idle": "2021-06-28T12:47:47.498174Z",
     "shell.execute_reply": "2021-06-28T12:47:47.498846Z",
     "shell.execute_reply.started": "2021-06-28T12:40:52.781691Z"
    },
    "papermill": {
     "duration": 0.119482,
     "end_time": "2021-06-28T12:47:47.499036",
     "exception": false,
     "start_time": "2021-06-28T12:47:47.379554",
     "status": "completed"
    },
    "slideshow": {
     "slide_type": "subslide"
    },
    "tags": []
   },
   "outputs": [
    {
     "name": "stdout",
     "output_type": "stream",
     "text": [
      "red blood cells has [nan 'normal' 'abnormal'] values\n",
      "\n",
      "\n",
      " pus cell has ['normal' 'abnormal' nan] values\n",
      "\n",
      "\n",
      "pus cell clumps has ['notpresent' 'present' nan] values\n",
      "\n",
      "\n",
      "bacteria has ['notpresent' 'present' nan] values\n",
      "\n",
      "\n",
      "ypertension has ['yes' 'no' nan] values\n",
      "\n",
      "\n",
      "diabetes mellitus has ['yes' 'no' ' yes' '\\tno' '\\tyes' nan] values\n",
      "\n",
      "\n",
      "coronary artery disease has ['no' 'yes' '\\tno' nan] values\n",
      "\n",
      "\n",
      "appetite has ['good' 'poor' nan] values\n",
      "\n",
      "\n",
      "pedal edema has ['no' 'yes' nan] values\n",
      "\n",
      "\n",
      "anemia has ['no' 'yes' nan] values\n",
      "\n",
      "\n",
      "class has ['ckd' 'ckd\\t' 'notckd'] values\n",
      "\n",
      "\n"
     ]
    }
   ],
   "source": [
    "# dirtiness in categorical data\n",
    "for col in cat_col:\n",
    "    print('{} has {} values'.format(col,kidney[col].unique()))\n",
    "    print(\"\\n\")"
   ]
  },
  {
   "cell_type": "code",
   "execution_count": 26,
   "id": "insured-schedule",
   "metadata": {
    "execution": {
     "iopub.execute_input": "2021-06-28T12:47:47.710432Z",
     "iopub.status.busy": "2021-06-28T12:47:47.709795Z",
     "iopub.status.idle": "2021-06-28T12:47:47.717123Z",
     "shell.execute_reply": "2021-06-28T12:47:47.717633Z",
     "shell.execute_reply.started": "2021-06-28T12:40:52.803018Z"
    },
    "papermill": {
     "duration": 0.115113,
     "end_time": "2021-06-28T12:47:47.717843",
     "exception": false,
     "start_time": "2021-06-28T12:47:47.602730",
     "status": "completed"
    },
    "slideshow": {
     "slide_type": "subslide"
    },
    "tags": []
   },
   "outputs": [],
   "source": [
    "kidney['diabetes mellitus'].replace(to_replace={'\\tno':'no','\\tyes':'yes'},inplace=True)\n",
    "kidney['coronary artery disease'].replace(to_replace={'\\tno':'no'},inplace=True)\n",
    "kidney['class'].replace(to_replace={'ckd\\t':'ckd'},inplace=True)"
   ]
  },
  {
   "cell_type": "code",
   "execution_count": 27,
   "id": "least-holder",
   "metadata": {
    "execution": {
     "iopub.execute_input": "2021-06-28T12:47:47.931236Z",
     "iopub.status.busy": "2021-06-28T12:47:47.930593Z",
     "iopub.status.idle": "2021-06-28T12:47:47.942536Z",
     "shell.execute_reply": "2021-06-28T12:47:47.941980Z",
     "shell.execute_reply.started": "2021-06-28T12:40:52.826434Z"
    },
    "papermill": {
     "duration": 0.119719,
     "end_time": "2021-06-28T12:47:47.942687",
     "exception": false,
     "start_time": "2021-06-28T12:47:47.822968",
     "status": "completed"
    },
    "slideshow": {
     "slide_type": "subslide"
    },
    "tags": []
   },
   "outputs": [
    {
     "name": "stdout",
     "output_type": "stream",
     "text": [
      "red blood cells has [nan 'normal' 'abnormal'] values\n",
      "\n",
      "\n",
      " pus cell has ['normal' 'abnormal' nan] values\n",
      "\n",
      "\n",
      "pus cell clumps has ['notpresent' 'present' nan] values\n",
      "\n",
      "\n",
      "bacteria has ['notpresent' 'present' nan] values\n",
      "\n",
      "\n",
      "ypertension has ['yes' 'no' nan] values\n",
      "\n",
      "\n",
      "diabetes mellitus has ['yes' 'no' ' yes' nan] values\n",
      "\n",
      "\n",
      "coronary artery disease has ['no' 'yes' nan] values\n",
      "\n",
      "\n",
      "appetite has ['good' 'poor' nan] values\n",
      "\n",
      "\n",
      "pedal edema has ['no' 'yes' nan] values\n",
      "\n",
      "\n",
      "anemia has ['no' 'yes' nan] values\n",
      "\n",
      "\n",
      "class has ['ckd' 'notckd'] values\n",
      "\n",
      "\n"
     ]
    }
   ],
   "source": [
    "# no dirtiness\n",
    "for col in cat_col:\n",
    "    print('{} has {} values'.format(col,kidney[col].unique()))\n",
    "    print(\"\\n\")"
   ]
  },
  {
   "cell_type": "markdown",
   "id": "external-polish",
   "metadata": {
    "papermill": {
     "duration": 0.111334,
     "end_time": "2021-06-28T12:47:48.370441",
     "exception": false,
     "start_time": "2021-06-28T12:47:48.259107",
     "status": "completed"
    },
    "slideshow": {
     "slide_type": "slide"
    },
    "tags": []
   },
   "source": [
    "## Analysing distribution of each and every column"
   ]
  },
  {
   "cell_type": "code",
   "execution_count": 28,
   "id": "weighted-royalty",
   "metadata": {
    "execution": {
     "iopub.execute_input": "2021-06-28T12:47:48.622205Z",
     "iopub.status.busy": "2021-06-28T12:47:48.621180Z",
     "iopub.status.idle": "2021-06-28T12:47:48.624997Z",
     "shell.execute_reply": "2021-06-28T12:47:48.625756Z",
     "shell.execute_reply.started": "2021-06-28T12:40:52.852460Z"
    },
    "papermill": {
     "duration": 0.140242,
     "end_time": "2021-06-28T12:47:48.626034",
     "exception": false,
     "start_time": "2021-06-28T12:47:48.485792",
     "status": "completed"
    },
    "slideshow": {
     "slide_type": "subslide"
    },
    "tags": []
   },
   "outputs": [
    {
     "data": {
      "text/plain": [
       "14"
      ]
     },
     "execution_count": 28,
     "metadata": {},
     "output_type": "execute_result"
    }
   ],
   "source": [
    "len(num_col)"
   ]
  },
  {
   "cell_type": "code",
   "execution_count": 29,
   "id": "separated-accessory",
   "metadata": {
    "execution": {
     "iopub.execute_input": "2021-06-28T12:47:48.867281Z",
     "iopub.status.busy": "2021-06-28T12:47:48.866571Z",
     "iopub.status.idle": "2021-06-28T12:47:51.420567Z",
     "shell.execute_reply": "2021-06-28T12:47:51.421119Z",
     "shell.execute_reply.started": "2021-06-28T12:40:52.865219Z"
    },
    "papermill": {
     "duration": 2.669254,
     "end_time": "2021-06-28T12:47:51.421305",
     "exception": false,
     "start_time": "2021-06-28T12:47:48.752051",
     "status": "completed"
    },
    "slideshow": {
     "slide_type": "subslide"
    },
    "tags": []
   },
   "outputs": [
    {
     "data": {
      "image/png": "[encoded data removed]",
      "text/plain": [
       "<Figure size 2160x2160 with 14 Axes>"
      ]
     },
     "metadata": {
      "needs_background": "light"
     },
     "output_type": "display_data"
    }
   ],
   "source": [
    "plt.figure(figsize=(30,30))\n",
    "for i,feature in enumerate(num_col):\n",
    "    plt.subplot(5,3,i+1)   # 5 rows and 3 columns        \n",
    "    kidney[feature].hist()\n",
    "    plt.title(feature)"
   ]
  },
  {
   "cell_type": "markdown",
   "id": "settled-hampton",
   "metadata": {
    "papermill": {
     "duration": 0.106712,
     "end_time": "2021-06-28T12:47:51.638654",
     "exception": false,
     "start_time": "2021-06-28T12:47:51.531942",
     "status": "completed"
    },
    "slideshow": {
     "slide_type": "slide"
    },
    "tags": []
   },
   "source": [
    "## Check Label distribution of categorical Data"
   ]
  },
  {
   "cell_type": "code",
   "execution_count": 30,
   "id": "static-warning",
   "metadata": {
    "execution": {
     "iopub.execute_input": "2021-06-28T12:47:51.862060Z",
     "iopub.status.busy": "2021-06-28T12:47:51.861061Z",
     "iopub.status.idle": "2021-06-28T12:47:51.866453Z",
     "shell.execute_reply": "2021-06-28T12:47:51.866934Z",
     "shell.execute_reply.started": "2021-06-28T12:40:55.248080Z"
    },
    "papermill": {
     "duration": 0.116452,
     "end_time": "2021-06-28T12:47:51.867117",
     "exception": false,
     "start_time": "2021-06-28T12:47:51.750665",
     "status": "completed"
    },
    "slideshow": {
     "slide_type": "subslide"
    },
    "tags": []
   },
   "outputs": [
    {
     "data": {
      "text/plain": [
       "11"
      ]
     },
     "execution_count": 30,
     "metadata": {},
     "output_type": "execute_result"
    }
   ],
   "source": [
    "len(cat_col)"
   ]
  },
  {
   "cell_type": "code",
   "execution_count": 31,
   "id": "studied-corrections",
   "metadata": {
    "execution": {
     "iopub.execute_input": "2021-06-28T12:47:52.093787Z",
     "iopub.status.busy": "2021-06-28T12:47:52.092691Z",
     "iopub.status.idle": "2021-06-28T12:47:53.425704Z",
     "shell.execute_reply": "2021-06-28T12:47:53.426182Z",
     "shell.execute_reply.started": "2021-06-28T12:40:55.256065Z"
    },
    "papermill": {
     "duration": 1.450356,
     "end_time": "2021-06-28T12:47:53.426366",
     "exception": false,
     "start_time": "2021-06-28T12:47:51.976010",
     "status": "completed"
    },
    "slideshow": {
     "slide_type": "subslide"
    },
    "tags": []
   },
   "outputs": [
    {
     "data": {
      "image/png": "[encoded data removed]",
      "text/plain": [
       "<Figure size 1440x1440 with 11 Axes>"
      ]
     },
     "metadata": {
      "needs_background": "light"
     },
     "output_type": "display_data"
    }
   ],
   "source": [
    "plt.figure(figsize=(20,20))\n",
    "\n",
    "for i,feature in enumerate(cat_col):\n",
    "    plt.subplot(4,3,i+1)\n",
    "    sns.countplot(kidney[feature])"
   ]
  },
  {
   "cell_type": "code",
   "execution_count": 32,
   "id": "weird-array",
   "metadata": {
    "execution": {
     "iopub.execute_input": "2021-06-28T12:47:53.880978Z",
     "iopub.status.busy": "2021-06-28T12:47:53.879988Z",
     "iopub.status.idle": "2021-06-28T12:47:55.450330Z",
     "shell.execute_reply": "2021-06-28T12:47:55.449778Z",
     "shell.execute_reply.started": "2021-06-28T12:40:56.505983Z"
    },
    "papermill": {
     "duration": 1.68435,
     "end_time": "2021-06-28T12:47:55.450471",
     "exception": false,
     "start_time": "2021-06-28T12:47:53.766121",
     "status": "completed"
    },
    "tags": []
   },
   "outputs": [
    {
     "data": {
      "image/png": "[encoded data removed]",
      "text/plain": [
       "<Figure size 1440x1440 with 11 Axes>"
      ]
     },
     "metadata": {
      "needs_background": "light"
     },
     "output_type": "display_data"
    }
   ],
   "source": [
    "plt.figure(figsize=(20,20))\n",
    "\n",
    "for i,feature in enumerate(cat_col):\n",
    "    plt.subplot(4,3,i+1)\n",
    "    sns.countplot(kidney[feature],hue=kidney['class'])"
   ]
  },
  {
   "cell_type": "code",
   "execution_count": 33,
   "id": "institutional-meditation",
   "metadata": {
    "execution": {
     "iopub.execute_input": "2021-06-28T12:47:55.691153Z",
     "iopub.status.busy": "2021-06-28T12:47:55.690117Z",
     "iopub.status.idle": "2021-06-28T12:47:55.795488Z",
     "shell.execute_reply": "2021-06-28T12:47:55.794826Z",
     "shell.execute_reply.started": "2021-06-28T12:40:57.980822Z"
    },
    "papermill": {
     "duration": 0.232744,
     "end_time": "2021-06-28T12:47:55.795633",
     "exception": false,
     "start_time": "2021-06-28T12:47:55.562889",
     "status": "completed"
    },
    "tags": []
   },
   "outputs": [
    {
     "data": {
      "text/plain": [
       "<AxesSubplot:xlabel='class', ylabel='count'>"
      ]
     },
     "execution_count": 33,
     "metadata": {},
     "output_type": "execute_result"
    },
    {
     "data": {
      "image/png": "[encoded data removed]",
      "text/plain": [
       "<Figure size 432x288 with 1 Axes>"
      ]
     },
     "metadata": {
      "needs_background": "light"
     },
     "output_type": "display_data"
    }
   ],
   "source": [
    "sns.countplot(kidney['class'])"
   ]
  },
  {
   "cell_type": "markdown",
   "id": "disciplinary-crystal",
   "metadata": {
    "papermill": {
     "duration": 0.128796,
     "end_time": "2021-06-28T12:47:56.047689",
     "exception": false,
     "start_time": "2021-06-28T12:47:55.918893",
     "status": "completed"
    },
    "tags": []
   },
   "source": [
    "## Correlation between features"
   ]
  },
  {
   "cell_type": "code",
   "execution_count": 34,
   "id": "flying-landscape",
   "metadata": {
    "execution": {
     "iopub.execute_input": "2021-06-28T12:47:56.282764Z",
     "iopub.status.busy": "2021-06-28T12:47:56.281757Z",
     "iopub.status.idle": "2021-06-28T12:47:56.309741Z",
     "shell.execute_reply": "2021-06-28T12:47:56.310245Z",
     "shell.execute_reply.started": "2021-06-28T12:40:58.114410Z"
    },
    "papermill": {
     "duration": 0.147944,
     "end_time": "2021-06-28T12:47:56.310414",
     "exception": false,
     "start_time": "2021-06-28T12:47:56.162470",
     "status": "completed"
    },
    "tags": []
   },
   "outputs": [
    {
     "data": {
      "text/html": [
       "<div>\n",
       "<style scoped>\n",
       "    .dataframe tbody tr th:only-of-type {\n",
       "        vertical-align: middle;\n",
       "    }\n",
       "\n",
       "    .dataframe tbody tr th {\n",
       "        vertical-align: top;\n",
       "    }\n",
       "\n",
       "    .dataframe thead th {\n",
       "        text-align: right;\n",
       "    }\n",
       "</style>\n",
       "<table border=\"1\" class=\"dataframe\">\n",
       "  <thead>\n",
       "    <tr style=\"text-align: right;\">\n",
       "      <th></th>\n",
       "      <th>age</th>\n",
       "      <th>blood pressure</th>\n",
       "      <th>specific gravity</th>\n",
       "      <th>albumin</th>\n",
       "      <th>sugar</th>\n",
       "      <th>blood glucose random</th>\n",
       "      <th>blood urea</th>\n",
       "      <th>serum creatinine</th>\n",
       "      <th>sodium</th>\n",
       "      <th>potassium</th>\n",
       "      <th>haemoglobin</th>\n",
       "      <th>packed cell volume</th>\n",
       "      <th>white blood cell count</th>\n",
       "      <th>red blood cell count</th>\n",
       "    </tr>\n",
       "  </thead>\n",
       "  <tbody>\n",
       "    <tr>\n",
       "      <th>age</th>\n",
       "      <td>1.000000</td>\n",
       "      <td>0.159480</td>\n",
       "      <td>-0.191096</td>\n",
       "      <td>0.122091</td>\n",
       "      <td>0.220866</td>\n",
       "      <td>0.244992</td>\n",
       "      <td>0.196985</td>\n",
       "      <td>0.132531</td>\n",
       "      <td>-0.100046</td>\n",
       "      <td>0.058377</td>\n",
       "      <td>-0.192928</td>\n",
       "      <td>-0.242119</td>\n",
       "      <td>0.118339</td>\n",
       "      <td>-0.268896</td>\n",
       "    </tr>\n",
       "    <tr>\n",
       "      <th>blood pressure</th>\n",
       "      <td>0.159480</td>\n",
       "      <td>1.000000</td>\n",
       "      <td>-0.218836</td>\n",
       "      <td>0.160689</td>\n",
       "      <td>0.222576</td>\n",
       "      <td>0.160193</td>\n",
       "      <td>0.188517</td>\n",
       "      <td>0.146222</td>\n",
       "      <td>-0.116422</td>\n",
       "      <td>0.075151</td>\n",
       "      <td>-0.306540</td>\n",
       "      <td>-0.326319</td>\n",
       "      <td>0.029753</td>\n",
       "      <td>-0.261936</td>\n",
       "    </tr>\n",
       "    <tr>\n",
       "      <th>specific gravity</th>\n",
       "      <td>-0.191096</td>\n",
       "      <td>-0.218836</td>\n",
       "      <td>1.000000</td>\n",
       "      <td>-0.469760</td>\n",
       "      <td>-0.296234</td>\n",
       "      <td>-0.374710</td>\n",
       "      <td>-0.314295</td>\n",
       "      <td>-0.361473</td>\n",
       "      <td>0.412190</td>\n",
       "      <td>-0.072787</td>\n",
       "      <td>0.602582</td>\n",
       "      <td>0.603560</td>\n",
       "      <td>-0.236215</td>\n",
       "      <td>0.579476</td>\n",
       "    </tr>\n",
       "    <tr>\n",
       "      <th>albumin</th>\n",
       "      <td>0.122091</td>\n",
       "      <td>0.160689</td>\n",
       "      <td>-0.469760</td>\n",
       "      <td>1.000000</td>\n",
       "      <td>0.269305</td>\n",
       "      <td>0.379464</td>\n",
       "      <td>0.453528</td>\n",
       "      <td>0.399198</td>\n",
       "      <td>-0.459896</td>\n",
       "      <td>0.129038</td>\n",
       "      <td>-0.634632</td>\n",
       "      <td>-0.611891</td>\n",
       "      <td>0.231989</td>\n",
       "      <td>-0.566437</td>\n",
       "    </tr>\n",
       "    <tr>\n",
       "      <th>sugar</th>\n",
       "      <td>0.220866</td>\n",
       "      <td>0.222576</td>\n",
       "      <td>-0.296234</td>\n",
       "      <td>0.269305</td>\n",
       "      <td>1.000000</td>\n",
       "      <td>0.717827</td>\n",
       "      <td>0.168583</td>\n",
       "      <td>0.223244</td>\n",
       "      <td>-0.131776</td>\n",
       "      <td>0.219450</td>\n",
       "      <td>-0.224775</td>\n",
       "      <td>-0.239189</td>\n",
       "      <td>0.184893</td>\n",
       "      <td>-0.237448</td>\n",
       "    </tr>\n",
       "    <tr>\n",
       "      <th>blood glucose random</th>\n",
       "      <td>0.244992</td>\n",
       "      <td>0.160193</td>\n",
       "      <td>-0.374710</td>\n",
       "      <td>0.379464</td>\n",
       "      <td>0.717827</td>\n",
       "      <td>1.000000</td>\n",
       "      <td>0.143322</td>\n",
       "      <td>0.114875</td>\n",
       "      <td>-0.267848</td>\n",
       "      <td>0.066966</td>\n",
       "      <td>-0.306189</td>\n",
       "      <td>-0.301385</td>\n",
       "      <td>0.150015</td>\n",
       "      <td>-0.281541</td>\n",
       "    </tr>\n",
       "    <tr>\n",
       "      <th>blood urea</th>\n",
       "      <td>0.196985</td>\n",
       "      <td>0.188517</td>\n",
       "      <td>-0.314295</td>\n",
       "      <td>0.453528</td>\n",
       "      <td>0.168583</td>\n",
       "      <td>0.143322</td>\n",
       "      <td>1.000000</td>\n",
       "      <td>0.586368</td>\n",
       "      <td>-0.323054</td>\n",
       "      <td>0.357049</td>\n",
       "      <td>-0.610360</td>\n",
       "      <td>-0.607621</td>\n",
       "      <td>0.050462</td>\n",
       "      <td>-0.579087</td>\n",
       "    </tr>\n",
       "    <tr>\n",
       "      <th>serum creatinine</th>\n",
       "      <td>0.132531</td>\n",
       "      <td>0.146222</td>\n",
       "      <td>-0.361473</td>\n",
       "      <td>0.399198</td>\n",
       "      <td>0.223244</td>\n",
       "      <td>0.114875</td>\n",
       "      <td>0.586368</td>\n",
       "      <td>1.000000</td>\n",
       "      <td>-0.690158</td>\n",
       "      <td>0.326107</td>\n",
       "      <td>-0.401670</td>\n",
       "      <td>-0.404193</td>\n",
       "      <td>-0.006390</td>\n",
       "      <td>-0.400852</td>\n",
       "    </tr>\n",
       "    <tr>\n",
       "      <th>sodium</th>\n",
       "      <td>-0.100046</td>\n",
       "      <td>-0.116422</td>\n",
       "      <td>0.412190</td>\n",
       "      <td>-0.459896</td>\n",
       "      <td>-0.131776</td>\n",
       "      <td>-0.267848</td>\n",
       "      <td>-0.323054</td>\n",
       "      <td>-0.690158</td>\n",
       "      <td>1.000000</td>\n",
       "      <td>0.097887</td>\n",
       "      <td>0.365183</td>\n",
       "      <td>0.376914</td>\n",
       "      <td>0.007277</td>\n",
       "      <td>0.344873</td>\n",
       "    </tr>\n",
       "    <tr>\n",
       "      <th>potassium</th>\n",
       "      <td>0.058377</td>\n",
       "      <td>0.075151</td>\n",
       "      <td>-0.072787</td>\n",
       "      <td>0.129038</td>\n",
       "      <td>0.219450</td>\n",
       "      <td>0.066966</td>\n",
       "      <td>0.357049</td>\n",
       "      <td>0.326107</td>\n",
       "      <td>0.097887</td>\n",
       "      <td>1.000000</td>\n",
       "      <td>-0.133746</td>\n",
       "      <td>-0.163182</td>\n",
       "      <td>-0.105576</td>\n",
       "      <td>-0.158309</td>\n",
       "    </tr>\n",
       "    <tr>\n",
       "      <th>haemoglobin</th>\n",
       "      <td>-0.192928</td>\n",
       "      <td>-0.306540</td>\n",
       "      <td>0.602582</td>\n",
       "      <td>-0.634632</td>\n",
       "      <td>-0.224775</td>\n",
       "      <td>-0.306189</td>\n",
       "      <td>-0.610360</td>\n",
       "      <td>-0.401670</td>\n",
       "      <td>0.365183</td>\n",
       "      <td>-0.133746</td>\n",
       "      <td>1.000000</td>\n",
       "      <td>0.895382</td>\n",
       "      <td>-0.169413</td>\n",
       "      <td>0.798880</td>\n",
       "    </tr>\n",
       "    <tr>\n",
       "      <th>packed cell volume</th>\n",
       "      <td>-0.242119</td>\n",
       "      <td>-0.326319</td>\n",
       "      <td>0.603560</td>\n",
       "      <td>-0.611891</td>\n",
       "      <td>-0.239189</td>\n",
       "      <td>-0.301385</td>\n",
       "      <td>-0.607621</td>\n",
       "      <td>-0.404193</td>\n",
       "      <td>0.376914</td>\n",
       "      <td>-0.163182</td>\n",
       "      <td>0.895382</td>\n",
       "      <td>1.000000</td>\n",
       "      <td>-0.197022</td>\n",
       "      <td>0.791625</td>\n",
       "    </tr>\n",
       "    <tr>\n",
       "      <th>white blood cell count</th>\n",
       "      <td>0.118339</td>\n",
       "      <td>0.029753</td>\n",
       "      <td>-0.236215</td>\n",
       "      <td>0.231989</td>\n",
       "      <td>0.184893</td>\n",
       "      <td>0.150015</td>\n",
       "      <td>0.050462</td>\n",
       "      <td>-0.006390</td>\n",
       "      <td>0.007277</td>\n",
       "      <td>-0.105576</td>\n",
       "      <td>-0.169413</td>\n",
       "      <td>-0.197022</td>\n",
       "      <td>1.000000</td>\n",
       "      <td>-0.158163</td>\n",
       "    </tr>\n",
       "    <tr>\n",
       "      <th>red blood cell count</th>\n",
       "      <td>-0.268896</td>\n",
       "      <td>-0.261936</td>\n",
       "      <td>0.579476</td>\n",
       "      <td>-0.566437</td>\n",
       "      <td>-0.237448</td>\n",
       "      <td>-0.281541</td>\n",
       "      <td>-0.579087</td>\n",
       "      <td>-0.400852</td>\n",
       "      <td>0.344873</td>\n",
       "      <td>-0.158309</td>\n",
       "      <td>0.798880</td>\n",
       "      <td>0.791625</td>\n",
       "      <td>-0.158163</td>\n",
       "      <td>1.000000</td>\n",
       "    </tr>\n",
       "  </tbody>\n",
       "</table>\n",
       "</div>"
      ],
      "text/plain": [
       "                             age  blood pressure  specific gravity   albumin  \\\n",
       "age                     1.000000        0.159480         -0.191096  0.122091   \n",
       "blood pressure          0.159480        1.000000         -0.218836  0.160689   \n",
       "specific gravity       -0.191096       -0.218836          1.000000 -0.469760   \n",
       "albumin                 0.122091        0.160689         -0.469760  1.000000   \n",
       "sugar                   0.220866        0.222576         -0.296234  0.269305   \n",
       "blood glucose random    0.244992        0.160193         -0.374710  0.379464   \n",
       "blood urea              0.196985        0.188517         -0.314295  0.453528   \n",
       "serum creatinine        0.132531        0.146222         -0.361473  0.399198   \n",
       "sodium                 -0.100046       -0.116422          0.412190 -0.459896   \n",
       "potassium               0.058377        0.075151         -0.072787  0.129038   \n",
       "haemoglobin            -0.192928       -0.306540          0.602582 -0.634632   \n",
       "packed cell volume     -0.242119       -0.326319          0.603560 -0.611891   \n",
       "white blood cell count  0.118339        0.029753         -0.236215  0.231989   \n",
       "red blood cell count   -0.268896       -0.261936          0.579476 -0.566437   \n",
       "\n",
       "                           sugar  blood glucose random  blood urea  \\\n",
       "age                     0.220866              0.244992    0.196985   \n",
       "blood pressure          0.222576              0.160193    0.188517   \n",
       "specific gravity       -0.296234             -0.374710   -0.314295   \n",
       "albumin                 0.269305              0.379464    0.453528   \n",
       "sugar                   1.000000              0.717827    0.168583   \n",
       "blood glucose random    0.717827              1.000000    0.143322   \n",
       "blood urea              0.168583              0.143322    1.000000   \n",
       "serum creatinine        0.223244              0.114875    0.586368   \n",
       "sodium                 -0.131776             -0.267848   -0.323054   \n",
       "potassium               0.219450              0.066966    0.357049   \n",
       "haemoglobin            -0.224775             -0.306189   -0.610360   \n",
       "packed cell volume     -0.239189             -0.301385   -0.607621   \n",
       "white blood cell count  0.184893              0.150015    0.050462   \n",
       "red blood cell count   -0.237448             -0.281541   -0.579087   \n",
       "\n",
       "                        serum creatinine    sodium  potassium  haemoglobin  \\\n",
       "age                             0.132531 -0.100046   0.058377    -0.192928   \n",
       "blood pressure                  0.146222 -0.116422   0.075151    -0.306540   \n",
       "specific gravity               -0.361473  0.412190  -0.072787     0.602582   \n",
       "albumin                         0.399198 -0.459896   0.129038    -0.634632   \n",
       "sugar                           0.223244 -0.131776   0.219450    -0.224775   \n",
       "blood glucose random            0.114875 -0.267848   0.066966    -0.306189   \n",
       "blood urea                      0.586368 -0.323054   0.357049    -0.610360   \n",
       "serum creatinine                1.000000 -0.690158   0.326107    -0.401670   \n",
       "sodium                         -0.690158  1.000000   0.097887     0.365183   \n",
       "potassium                       0.326107  0.097887   1.000000    -0.133746   \n",
       "haemoglobin                    -0.401670  0.365183  -0.133746     1.000000   \n",
       "packed cell volume             -0.404193  0.376914  -0.163182     0.895382   \n",
       "white blood cell count         -0.006390  0.007277  -0.105576    -0.169413   \n",
       "red blood cell count           -0.400852  0.344873  -0.158309     0.798880   \n",
       "\n",
       "                        packed cell volume  white blood cell count  \\\n",
       "age                              -0.242119                0.118339   \n",
       "blood pressure                   -0.326319                0.029753   \n",
       "specific gravity                  0.603560               -0.236215   \n",
       "albumin                          -0.611891                0.231989   \n",
       "sugar                            -0.239189                0.184893   \n",
       "blood glucose random             -0.301385                0.150015   \n",
       "blood urea                       -0.607621                0.050462   \n",
       "serum creatinine                 -0.404193               -0.006390   \n",
       "sodium                            0.376914                0.007277   \n",
       "potassium                        -0.163182               -0.105576   \n",
       "haemoglobin                       0.895382               -0.169413   \n",
       "packed cell volume                1.000000               -0.197022   \n",
       "white blood cell count           -0.197022                1.000000   \n",
       "red blood cell count              0.791625               -0.158163   \n",
       "\n",
       "                        red blood cell count  \n",
       "age                                -0.268896  \n",
       "blood pressure                     -0.261936  \n",
       "specific gravity                    0.579476  \n",
       "albumin                            -0.566437  \n",
       "sugar                              -0.237448  \n",
       "blood glucose random               -0.281541  \n",
       "blood urea                         -0.579087  \n",
       "serum creatinine                   -0.400852  \n",
       "sodium                              0.344873  \n",
       "potassium                          -0.158309  \n",
       "haemoglobin                         0.798880  \n",
       "packed cell volume                  0.791625  \n",
       "white blood cell count             -0.158163  \n",
       "red blood cell count                1.000000  "
      ]
     },
     "execution_count": 34,
     "metadata": {},
     "output_type": "execute_result"
    }
   ],
   "source": [
    "kidney.corr()"
   ]
  },
  {
   "cell_type": "code",
   "execution_count": 35,
   "id": "approved-joyce",
   "metadata": {
    "execution": {
     "iopub.execute_input": "2021-06-28T12:47:56.552052Z",
     "iopub.status.busy": "2021-06-28T12:47:56.551335Z",
     "iopub.status.idle": "2021-06-28T12:47:57.829466Z",
     "shell.execute_reply": "2021-06-28T12:47:57.828941Z",
     "shell.execute_reply.started": "2021-06-28T12:40:58.145237Z"
    },
    "papermill": {
     "duration": 1.403103,
     "end_time": "2021-06-28T12:47:57.829611",
     "exception": false,
     "start_time": "2021-06-28T12:47:56.426508",
     "status": "completed"
    },
    "tags": []
   },
   "outputs": [
    {
     "data": {
      "text/plain": [
       "<AxesSubplot:>"
      ]
     },
     "execution_count": 35,
     "metadata": {},
     "output_type": "execute_result"
    },
    {
     "data": {
      "image/png": "[encoded data removed]",
      "text/plain": [
       "<Figure size 864x864 with 2 Axes>"
      ]
     },
     "metadata": {
      "needs_background": "light"
     },
     "output_type": "display_data"
    }
   ],
   "source": [
    "plt.figure(figsize=(12,12))\n",
    "sns.heatmap(kidney.corr(method='pearson'),cbar=True,cmap='BuPu',annot=True)"
   ]
  },
  {
   "cell_type": "markdown",
   "id": "decreased-trunk",
   "metadata": {
    "papermill": {
     "duration": 0.119505,
     "end_time": "2021-06-28T12:47:58.068154",
     "exception": false,
     "start_time": "2021-06-28T12:47:57.948649",
     "status": "completed"
    },
    "tags": []
   },
   "source": [
    "* Rbc count is positively correlated with specific gravity,haemoglobin,packed cell volume\n",
    "* Rbc count is negatively correlated with albumin, blood urea\n",
    "* Packed cell volume and haemoglobin are highly positive correlated\n",
    "* Packed cell volume is negatively correlated with albumin and blood urea\n",
    "* haemoglobin and albumin are negatively correlated"
   ]
  },
  {
   "cell_type": "code",
   "execution_count": 36,
   "id": "cubic-welsh",
   "metadata": {
    "execution": {
     "iopub.execute_input": "2021-06-28T12:47:58.333372Z",
     "iopub.status.busy": "2021-06-28T12:47:58.332643Z",
     "iopub.status.idle": "2021-06-28T12:47:58.336922Z",
     "shell.execute_reply": "2021-06-28T12:47:58.336303Z",
     "shell.execute_reply.started": "2021-06-28T12:40:59.481196Z"
    },
    "papermill": {
     "duration": 0.150756,
     "end_time": "2021-06-28T12:47:58.337067",
     "exception": false,
     "start_time": "2021-06-28T12:47:58.186311",
     "status": "completed"
    },
    "tags": []
   },
   "outputs": [
    {
     "data": {
      "text/html": [
       "<div>\n",
       "<style scoped>\n",
       "    .dataframe tbody tr th:only-of-type {\n",
       "        vertical-align: middle;\n",
       "    }\n",
       "\n",
       "    .dataframe tbody tr th {\n",
       "        vertical-align: top;\n",
       "    }\n",
       "\n",
       "    .dataframe thead th {\n",
       "        text-align: right;\n",
       "    }\n",
       "</style>\n",
       "<table border=\"1\" class=\"dataframe\">\n",
       "  <thead>\n",
       "    <tr style=\"text-align: right;\">\n",
       "      <th></th>\n",
       "      <th></th>\n",
       "      <th>count</th>\n",
       "      <th>mean</th>\n",
       "      <th>median</th>\n",
       "      <th>min</th>\n",
       "      <th>max</th>\n",
       "    </tr>\n",
       "    <tr>\n",
       "      <th>red blood cells</th>\n",
       "      <th>class</th>\n",
       "      <th></th>\n",
       "      <th></th>\n",
       "      <th></th>\n",
       "      <th></th>\n",
       "      <th></th>\n",
       "    </tr>\n",
       "  </thead>\n",
       "  <tbody>\n",
       "    <tr>\n",
       "      <th>abnormal</th>\n",
       "      <th>ckd</th>\n",
       "      <td>25</td>\n",
       "      <td>3.832000</td>\n",
       "      <td>3.7</td>\n",
       "      <td>2.5</td>\n",
       "      <td>5.6</td>\n",
       "    </tr>\n",
       "    <tr>\n",
       "      <th rowspan=\"2\" valign=\"top\">normal</th>\n",
       "      <th>ckd</th>\n",
       "      <td>40</td>\n",
       "      <td>3.782500</td>\n",
       "      <td>3.8</td>\n",
       "      <td>2.1</td>\n",
       "      <td>8.0</td>\n",
       "    </tr>\n",
       "    <tr>\n",
       "      <th>notckd</th>\n",
       "      <td>134</td>\n",
       "      <td>5.368657</td>\n",
       "      <td>5.3</td>\n",
       "      <td>4.4</td>\n",
       "      <td>6.5</td>\n",
       "    </tr>\n",
       "  </tbody>\n",
       "</table>\n",
       "</div>"
      ],
      "text/plain": [
       "                        count      mean  median  min  max\n",
       "red blood cells class                                    \n",
       "abnormal        ckd        25  3.832000     3.7  2.5  5.6\n",
       "normal          ckd        40  3.782500     3.8  2.1  8.0\n",
       "                notckd    134  5.368657     5.3  4.4  6.5"
      ]
     },
     "execution_count": 36,
     "metadata": {},
     "output_type": "execute_result"
    }
   ],
   "source": [
    "kidney.groupby(['red blood cells','class'])['red blood cell count'].agg(['count','mean','median','min','max'])"
   ]
  },
  {
   "cell_type": "markdown",
   "id": "adjusted-litigation",
   "metadata": {
    "papermill": {
     "duration": 0.118307,
     "end_time": "2021-06-28T12:47:58.573807",
     "exception": false,
     "start_time": "2021-06-28T12:47:58.455500",
     "status": "completed"
    },
    "tags": []
   },
   "source": [
    "We can observe that when a person is not diseased its rbc count is 134, mean is also high whereas when he is diseased count drop downs to 25-40 and mean is low."
   ]
  },
  {
   "cell_type": "markdown",
   "id": "dangerous-charge",
   "metadata": {
    "papermill": {
     "duration": 0.117619,
     "end_time": "2021-06-28T12:47:58.809745",
     "exception": false,
     "start_time": "2021-06-28T12:47:58.692126",
     "status": "completed"
    },
    "tags": []
   },
   "source": [
    "#### Relationship between haemoglobin and packed cell volume"
   ]
  },
  {
   "cell_type": "code",
   "execution_count": 37,
   "id": "upset-building",
   "metadata": {
    "execution": {
     "iopub.execute_input": "2021-06-28T12:47:59.223962Z",
     "iopub.status.busy": "2021-06-28T12:47:59.222327Z",
     "iopub.status.idle": "2021-06-28T12:47:59.405746Z",
     "shell.execute_reply": "2021-06-28T12:47:59.405176Z",
     "shell.execute_reply.started": "2021-06-28T12:40:59.518604Z"
    },
    "papermill": {
     "duration": 0.476823,
     "end_time": "2021-06-28T12:47:59.405899",
     "exception": false,
     "start_time": "2021-06-28T12:47:58.929076",
     "status": "completed"
    },
    "tags": []
   },
   "outputs": [
    {
     "data": {
      "text/plain": [
       "Text(0.5, 1.0, 'Relationship between haemoglobin and packed cell volume')"
      ]
     },
     "execution_count": 37,
     "metadata": {},
     "output_type": "execute_result"
    },
    {
     "data": {
      "image/png": "[encoded data removed]",
      "text/plain": [
       "<Figure size 720x720 with 1 Axes>"
      ]
     },
     "metadata": {
      "needs_background": "light"
     },
     "output_type": "display_data"
    }
   ],
   "source": [
    "plt.figure(figsize=(10,10))\n",
    "plt.scatter(x=kidney.haemoglobin,y=kidney['packed cell volume'])\n",
    "plt.xlabel('Haemoglobin')\n",
    "plt.ylabel('packed cell volume')\n",
    "plt.title('Relationship between haemoglobin and packed cell volume')\n"
   ]
  },
  {
   "cell_type": "markdown",
   "id": "preceding-glance",
   "metadata": {
    "papermill": {
     "duration": 0.120371,
     "end_time": "2021-06-28T12:47:59.647311",
     "exception": false,
     "start_time": "2021-06-28T12:47:59.526940",
     "status": "completed"
    },
    "tags": []
   },
   "source": [
    "We can see that there is a linear relationship between haemoglobin and pacled cell volume"
   ]
  },
  {
   "cell_type": "markdown",
   "id": "filled-employee",
   "metadata": {
    "papermill": {
     "duration": 0.119425,
     "end_time": "2021-06-28T12:47:59.886872",
     "exception": false,
     "start_time": "2021-06-28T12:47:59.767447",
     "status": "completed"
    },
    "tags": []
   },
   "source": [
    "### Analyse distribution of red blood cell count chronic as well as non chronic"
   ]
  },
  {
   "cell_type": "code",
   "execution_count": 38,
   "id": "motivated-master",
   "metadata": {
    "execution": {
     "iopub.execute_input": "2021-06-28T12:48:00.171444Z",
     "iopub.status.busy": "2021-06-28T12:48:00.170745Z",
     "iopub.status.idle": "2021-06-28T12:48:00.496255Z",
     "shell.execute_reply": "2021-06-28T12:48:00.495555Z",
     "shell.execute_reply.started": "2021-06-28T12:40:59.722704Z"
    },
    "papermill": {
     "duration": 0.489041,
     "end_time": "2021-06-28T12:48:00.496402",
     "exception": false,
     "start_time": "2021-06-28T12:48:00.007361",
     "status": "completed"
    },
    "tags": []
   },
   "outputs": [
    {
     "data": {
      "text/plain": [
       "<seaborn.axisgrid.FacetGrid at 0x1b79a613460>"
      ]
     },
     "execution_count": 38,
     "metadata": {},
     "output_type": "execute_result"
    },
    {
     "data": {
      "image/png": "[encoded data removed]",
      "text/plain": [
       "<Figure size 501.875x216 with 1 Axes>"
      ]
     },
     "metadata": {
      "needs_background": "light"
     },
     "output_type": "display_data"
    }
   ],
   "source": [
    "grid=sns.FacetGrid(kidney,hue='class',aspect=2)\n",
    "grid.map(sns.kdeplot,'red blood cell count')\n",
    "grid.add_legend()"
   ]
  },
  {
   "cell_type": "markdown",
   "id": "usual-ceramic",
   "metadata": {
    "papermill": {
     "duration": 0.120823,
     "end_time": "2021-06-28T12:48:00.737782",
     "exception": false,
     "start_time": "2021-06-28T12:48:00.616959",
     "status": "completed"
    },
    "tags": []
   },
   "source": [
    "from above visuals we can say that person with lower rbc count have high chances of having chronic disease"
   ]
  },
  {
   "cell_type": "code",
   "execution_count": 39,
   "id": "capable-melissa",
   "metadata": {
    "execution": {
     "iopub.execute_input": "2021-06-28T12:48:01.003788Z",
     "iopub.status.busy": "2021-06-28T12:48:00.997937Z",
     "iopub.status.idle": "2021-06-28T12:48:01.338710Z",
     "shell.execute_reply": "2021-06-28T12:48:01.339234Z",
     "shell.execute_reply.started": "2021-06-28T12:41:00.083538Z"
    },
    "papermill": {
     "duration": 0.481346,
     "end_time": "2021-06-28T12:48:01.339409",
     "exception": false,
     "start_time": "2021-06-28T12:48:00.858063",
     "status": "completed"
    },
    "tags": []
   },
   "outputs": [
    {
     "data": {
      "text/plain": [
       "<seaborn.axisgrid.FacetGrid at 0x1b7991fbaf0>"
      ]
     },
     "execution_count": 39,
     "metadata": {},
     "output_type": "execute_result"
    },
    {
     "data": {
      "image/png": "[encoded data removed]",
      "text/plain": [
       "<Figure size 501.875x216 with 1 Axes>"
      ]
     },
     "metadata": {
      "needs_background": "light"
     },
     "output_type": "display_data"
    }
   ],
   "source": [
    "grid=sns.FacetGrid(kidney,hue='class',aspect=2)\n",
    "grid.map(sns.kdeplot,'haemoglobin')\n",
    "grid.add_legend()"
   ]
  },
  {
   "cell_type": "code",
   "execution_count": 40,
   "id": "unique-handy",
   "metadata": {
    "execution": {
     "iopub.execute_input": "2021-06-28T12:48:01.674949Z",
     "iopub.status.busy": "2021-06-28T12:48:01.671404Z",
     "iopub.status.idle": "2021-06-28T12:48:01.921544Z",
     "shell.execute_reply": "2021-06-28T12:48:01.920869Z",
     "shell.execute_reply.started": "2021-06-28T12:41:00.417617Z"
    },
    "papermill": {
     "duration": 0.458277,
     "end_time": "2021-06-28T12:48:01.921686",
     "exception": false,
     "start_time": "2021-06-28T12:48:01.463409",
     "status": "completed"
    },
    "tags": []
   },
   "outputs": [
    {
     "data": {
      "text/plain": [
       "Text(0.5, 1.0, 'Relationship between red blood cell count and packed cell volume')"
      ]
     },
     "execution_count": 40,
     "metadata": {},
     "output_type": "execute_result"
    },
    {
     "data": {
      "image/png": "[encoded data removed]",
      "text/plain": [
       "<Figure size 864x720 with 1 Axes>"
      ]
     },
     "metadata": {
      "needs_background": "light"
     },
     "output_type": "display_data"
    }
   ],
   "source": [
    "plt.figure(figsize=(12,10))\n",
    "sns.scatterplot(x=kidney['red blood cell count'],y=kidney['packed cell volume'],hue=kidney['class'])\n",
    "plt.xlabel('red blood cell count')\n",
    "plt.ylabel('packed cell volume')\n",
    "plt.title('Relationship between red blood cell count and packed cell volume')\n"
   ]
  },
  {
   "cell_type": "code",
   "execution_count": 41,
   "id": "distributed-trinidad",
   "metadata": {
    "execution": {
     "iopub.execute_input": "2021-06-28T12:48:02.251969Z",
     "iopub.status.busy": "2021-06-28T12:48:02.220573Z",
     "iopub.status.idle": "2021-06-28T12:48:02.475230Z",
     "shell.execute_reply": "2021-06-28T12:48:02.475729Z",
     "shell.execute_reply.started": "2021-06-28T12:41:00.693447Z"
    },
    "papermill": {
     "duration": 0.42634,
     "end_time": "2021-06-28T12:48:02.475899",
     "exception": false,
     "start_time": "2021-06-28T12:48:02.049559",
     "status": "completed"
    },
    "tags": []
   },
   "outputs": [
    {
     "data": {
      "text/plain": [
       "Text(0.5, 1.0, 'Relationship between haemoglobin and red blood cell count')"
      ]
     },
     "execution_count": 41,
     "metadata": {},
     "output_type": "execute_result"
    },
    {
     "data": {
      "image/png": "[encoded data removed]",
      "text/plain": [
       "<Figure size 864x720 with 1 Axes>"
      ]
     },
     "metadata": {
      "needs_background": "light"
     },
     "output_type": "display_data"
    }
   ],
   "source": [
    "plt.figure(figsize=(12,10))\n",
    "sns.scatterplot(x=kidney['red blood cell count'],y=kidney['haemoglobin'],hue=kidney['class'])\n",
    "plt.xlabel('red blood cell count')\n",
    "plt.ylabel('haemoglobin')\n",
    "plt.title('Relationship between haemoglobin and red blood cell count')"
   ]
  },
  {
   "cell_type": "markdown",
   "id": "committed-redhead",
   "metadata": {
    "papermill": {
     "duration": 0.126717,
     "end_time": "2021-06-28T12:48:02.730965",
     "exception": false,
     "start_time": "2021-06-28T12:48:02.604248",
     "status": "completed"
    },
    "tags": []
   },
   "source": [
    "* We can see that there is some kind of linearity in all the relationships\n",
    "* Whenever haemoglobin is below 13-14 he is positive for chronic disease , Whenever haemoglobin is near 18 he is negative"
   ]
  },
  {
   "cell_type": "markdown",
   "id": "thermal-greensboro",
   "metadata": {
    "papermill": {
     "duration": 0.135516,
     "end_time": "2021-06-28T12:48:02.993808",
     "exception": false,
     "start_time": "2021-06-28T12:48:02.858292",
     "status": "completed"
    },
    "tags": []
   },
   "source": [
    "## Handling Missing Values"
   ]
  },
  {
   "cell_type": "code",
   "execution_count": 42,
   "id": "fossil-deadline",
   "metadata": {
    "execution": {
     "iopub.execute_input": "2021-06-28T12:48:03.257072Z",
     "iopub.status.busy": "2021-06-28T12:48:03.256383Z",
     "iopub.status.idle": "2021-06-28T12:48:03.265865Z",
     "shell.execute_reply": "2021-06-28T12:48:03.265288Z",
     "shell.execute_reply.started": "2021-06-28T12:41:00.978400Z"
    },
    "papermill": {
     "duration": 0.141225,
     "end_time": "2021-06-28T12:48:03.266034",
     "exception": false,
     "start_time": "2021-06-28T12:48:03.124809",
     "status": "completed"
    },
    "tags": []
   },
   "outputs": [
    {
     "data": {
      "text/plain": [
       "age                          9\n",
       "blood pressure              12\n",
       "specific gravity            47\n",
       "albumin                     46\n",
       "sugar                       49\n",
       "red blood cells            152\n",
       " pus cell                   65\n",
       "pus cell clumps              4\n",
       "bacteria                     4\n",
       "blood glucose random        44\n",
       "blood urea                  19\n",
       "serum creatinine            17\n",
       "sodium                      87\n",
       "potassium                   88\n",
       "haemoglobin                 52\n",
       "packed cell volume          71\n",
       "white blood cell count     106\n",
       "red blood cell count       131\n",
       "ypertension                  2\n",
       "diabetes mellitus            2\n",
       "coronary artery disease      2\n",
       "appetite                     1\n",
       "pedal edema                  1\n",
       "anemia                       1\n",
       "class                        0\n",
       "dtype: int64"
      ]
     },
     "execution_count": 42,
     "metadata": {},
     "output_type": "execute_result"
    }
   ],
   "source": [
    "kidney.isnull().sum()"
   ]
  },
  {
   "cell_type": "code",
   "execution_count": 43,
   "id": "liquid-running",
   "metadata": {
    "execution": {
     "iopub.execute_input": "2021-06-28T12:48:03.532663Z",
     "iopub.status.busy": "2021-06-28T12:48:03.531797Z",
     "iopub.status.idle": "2021-06-28T12:48:03.535222Z",
     "shell.execute_reply": "2021-06-28T12:48:03.535657Z",
     "shell.execute_reply.started": "2021-06-28T12:41:00.988972Z"
    },
    "papermill": {
     "duration": 0.140283,
     "end_time": "2021-06-28T12:48:03.535828",
     "exception": false,
     "start_time": "2021-06-28T12:48:03.395545",
     "status": "completed"
    },
    "tags": []
   },
   "outputs": [
    {
     "data": {
      "text/plain": [
       "red blood cells            152\n",
       "red blood cell count       131\n",
       "white blood cell count     106\n",
       "potassium                   88\n",
       "sodium                      87\n",
       "packed cell volume          71\n",
       " pus cell                   65\n",
       "haemoglobin                 52\n",
       "sugar                       49\n",
       "specific gravity            47\n",
       "albumin                     46\n",
       "blood glucose random        44\n",
       "blood urea                  19\n",
       "serum creatinine            17\n",
       "blood pressure              12\n",
       "age                          9\n",
       "bacteria                     4\n",
       "pus cell clumps              4\n",
       "ypertension                  2\n",
       "diabetes mellitus            2\n",
       "coronary artery disease      2\n",
       "appetite                     1\n",
       "pedal edema                  1\n",
       "anemia                       1\n",
       "class                        0\n",
       "dtype: int64"
      ]
     },
     "execution_count": 43,
     "metadata": {},
     "output_type": "execute_result"
    }
   ],
   "source": [
    "kidney.isnull().sum().sort_values(ascending=False)"
   ]
  },
  {
   "cell_type": "markdown",
   "id": "expected-business",
   "metadata": {
    "papermill": {
     "duration": 0.127698,
     "end_time": "2021-06-28T12:48:03.794955",
     "exception": false,
     "start_time": "2021-06-28T12:48:03.667257",
     "status": "completed"
    },
    "tags": []
   },
   "source": [
    "We can fill this missing values with mean,median or std deviat"
   ]
  },
  {
   "cell_type": "code",
   "execution_count": 44,
   "id": "usual-volleyball",
   "metadata": {
    "execution": {
     "iopub.execute_input": "2021-06-28T12:48:04.056271Z",
     "iopub.status.busy": "2021-06-28T12:48:04.055579Z",
     "iopub.status.idle": "2021-06-28T12:48:04.190640Z",
     "shell.execute_reply": "2021-06-28T12:48:04.191132Z",
     "shell.execute_reply.started": "2021-06-28T12:41:01.009390Z"
    },
    "papermill": {
     "duration": 0.267222,
     "end_time": "2021-06-28T12:48:04.191319",
     "exception": false,
     "start_time": "2021-06-28T12:48:03.924097",
     "status": "completed"
    },
    "tags": []
   },
   "outputs": [
    {
     "data": {
      "text/plain": [
       "<AxesSubplot:xlabel='class', ylabel='age'>"
      ]
     },
     "execution_count": 44,
     "metadata": {},
     "output_type": "execute_result"
    },
    {
     "data": {
      "image/png": "[encoded data removed]",
      "text/plain": [
       "<Figure size 432x288 with 1 Axes>"
      ]
     },
     "metadata": {
      "needs_background": "light"
     },
     "output_type": "display_data"
    }
   ],
   "source": [
    "plt.subplot(1,2,1)\n",
    "sns.boxplot(x=kidney['class'],y=kidney['age'])"
   ]
  },
  {
   "cell_type": "code",
   "execution_count": 45,
   "id": "eight-paint",
   "metadata": {
    "execution": {
     "iopub.execute_input": "2021-06-28T12:48:04.453060Z",
     "iopub.status.busy": "2021-06-28T12:48:04.452407Z",
     "iopub.status.idle": "2021-06-28T12:48:04.459383Z",
     "shell.execute_reply": "2021-06-28T12:48:04.458840Z",
     "shell.execute_reply.started": "2021-06-28T12:41:01.147817Z"
    },
    "papermill": {
     "duration": 0.138685,
     "end_time": "2021-06-28T12:48:04.459529",
     "exception": false,
     "start_time": "2021-06-28T12:48:04.320844",
     "status": "completed"
    },
    "tags": []
   },
   "outputs": [
    {
     "data": {
      "text/plain": [
       "[(0, 'red blood cells'),\n",
       " (1, ' pus cell'),\n",
       " (2, 'pus cell clumps'),\n",
       " (3, 'bacteria'),\n",
       " (4, 'ypertension'),\n",
       " (5, 'diabetes mellitus'),\n",
       " (6, 'coronary artery disease'),\n",
       " (7, 'appetite'),\n",
       " (8, 'pedal edema'),\n",
       " (9, 'anemia'),\n",
       " (10, 'class')]"
      ]
     },
     "execution_count": 45,
     "metadata": {},
     "output_type": "execute_result"
    }
   ],
   "source": [
    "list(enumerate(cat_col))"
   ]
  },
  {
   "cell_type": "code",
   "execution_count": 46,
   "id": "promising-luxembourg",
   "metadata": {
    "execution": {
     "iopub.execute_input": "2021-06-28T12:48:04.752367Z",
     "iopub.status.busy": "2021-06-28T12:48:04.749889Z",
     "iopub.status.idle": "2021-06-28T12:48:06.740010Z",
     "shell.execute_reply": "2021-06-28T12:48:06.739086Z",
     "shell.execute_reply.started": "2021-06-28T12:41:01.158629Z"
    },
    "papermill": {
     "duration": 2.151171,
     "end_time": "2021-06-28T12:48:06.740170",
     "exception": false,
     "start_time": "2021-06-28T12:48:04.588999",
     "status": "completed"
    },
    "tags": []
   },
   "outputs": [
    {
     "data": {
      "image/png": "[encoded data removed]",
      "text/plain": [
       "<Figure size 1080x1080 with 14 Axes>"
      ]
     },
     "metadata": {
      "needs_background": "light"
     },
     "output_type": "display_data"
    }
   ],
   "source": [
    "plt.figure(figsize=(15,15))\n",
    "for i in enumerate(num_col):\n",
    "    plt.subplot(4,4,i[0]+1)\n",
    "    sns.boxplot(x=kidney['class'],y=i[1],data=kidney.reset_index())"
   ]
  },
  {
   "cell_type": "markdown",
   "id": "rocky-injury",
   "metadata": {
    "papermill": {
     "duration": 0.169888,
     "end_time": "2021-06-28T12:48:07.043679",
     "exception": false,
     "start_time": "2021-06-28T12:48:06.873791",
     "status": "completed"
    },
    "tags": []
   },
   "source": [
    "there are outliers in dataset so filling missing values with mean is not feasible , i will use median to fill missing values"
   ]
  },
  {
   "cell_type": "code",
   "execution_count": 47,
   "id": "technological-blackjack",
   "metadata": {
    "execution": {
     "iopub.execute_input": "2021-06-28T12:48:07.321941Z",
     "iopub.status.busy": "2021-06-28T12:48:07.321145Z",
     "iopub.status.idle": "2021-06-28T12:48:07.325008Z",
     "shell.execute_reply": "2021-06-28T12:48:07.324425Z",
     "shell.execute_reply.started": "2021-06-28T12:41:03.095135Z"
    },
    "papermill": {
     "duration": 0.145735,
     "end_time": "2021-06-28T12:48:07.325167",
     "exception": false,
     "start_time": "2021-06-28T12:48:07.179432",
     "status": "completed"
    },
    "tags": []
   },
   "outputs": [
    {
     "data": {
      "text/plain": [
       "age                         51.483376\n",
       "blood pressure              76.469072\n",
       "specific gravity             1.017408\n",
       "albumin                      1.016949\n",
       "sugar                        0.450142\n",
       "blood glucose random       148.036517\n",
       "blood urea                  57.425722\n",
       "serum creatinine             3.072454\n",
       "sodium                     137.528754\n",
       "potassium                    4.627244\n",
       "haemoglobin                 12.526437\n",
       "packed cell volume          38.884498\n",
       "white blood cell count    8406.122449\n",
       "red blood cell count         4.707435\n",
       "dtype: float64"
      ]
     },
     "execution_count": 47,
     "metadata": {},
     "output_type": "execute_result"
    }
   ],
   "source": [
    "np.mean(kidney)"
   ]
  },
  {
   "cell_type": "code",
   "execution_count": 48,
   "id": "defined-conditions",
   "metadata": {
    "execution": {
     "iopub.execute_input": "2021-06-28T12:48:07.608770Z",
     "iopub.status.busy": "2021-06-28T12:48:07.608120Z",
     "iopub.status.idle": "2021-06-28T12:48:07.611875Z",
     "shell.execute_reply": "2021-06-28T12:48:07.611332Z",
     "shell.execute_reply.started": "2021-06-28T12:41:03.119807Z"
    },
    "papermill": {
     "duration": 0.143208,
     "end_time": "2021-06-28T12:48:07.612030",
     "exception": false,
     "start_time": "2021-06-28T12:48:07.468822",
     "status": "completed"
    },
    "tags": []
   },
   "outputs": [
    {
     "data": {
      "text/plain": [
       "age                          9\n",
       "blood pressure              12\n",
       "specific gravity            47\n",
       "albumin                     46\n",
       "sugar                       49\n",
       "red blood cells            152\n",
       " pus cell                   65\n",
       "pus cell clumps              4\n",
       "bacteria                     4\n",
       "blood glucose random        44\n",
       "blood urea                  19\n",
       "serum creatinine            17\n",
       "sodium                      87\n",
       "potassium                   88\n",
       "haemoglobin                 52\n",
       "packed cell volume          71\n",
       "white blood cell count     106\n",
       "red blood cell count       131\n",
       "ypertension                  2\n",
       "diabetes mellitus            2\n",
       "coronary artery disease      2\n",
       "appetite                     1\n",
       "pedal edema                  1\n",
       "anemia                       1\n",
       "class                        0\n",
       "dtype: int64"
      ]
     },
     "execution_count": 48,
     "metadata": {},
     "output_type": "execute_result"
    }
   ],
   "source": [
    "kidney.isnull().sum()"
   ]
  },
  {
   "cell_type": "code",
   "execution_count": 49,
   "id": "pressing-efficiency",
   "metadata": {
    "execution": {
     "iopub.execute_input": "2021-06-28T12:48:07.880345Z",
     "iopub.status.busy": "2021-06-28T12:48:07.879698Z",
     "iopub.status.idle": "2021-06-28T12:48:07.888068Z",
     "shell.execute_reply": "2021-06-28T12:48:07.888620Z",
     "shell.execute_reply.started": "2021-06-28T12:41:03.133136Z"
    },
    "papermill": {
     "duration": 0.144546,
     "end_time": "2021-06-28T12:48:07.888840",
     "exception": false,
     "start_time": "2021-06-28T12:48:07.744294",
     "status": "completed"
    },
    "tags": []
   },
   "outputs": [],
   "source": [
    "for i in num_col:\n",
    "    kidney[i].fillna(kidney[i].median(),inplace=True)"
   ]
  },
  {
   "cell_type": "code",
   "execution_count": 50,
   "id": "floating-judgment",
   "metadata": {
    "execution": {
     "iopub.execute_input": "2021-06-28T12:48:08.165499Z",
     "iopub.status.busy": "2021-06-28T12:48:08.164810Z",
     "iopub.status.idle": "2021-06-28T12:48:08.172973Z",
     "shell.execute_reply": "2021-06-28T12:48:08.173577Z",
     "shell.execute_reply.started": "2021-06-28T12:41:03.149220Z"
    },
    "papermill": {
     "duration": 0.151757,
     "end_time": "2021-06-28T12:48:08.173745",
     "exception": false,
     "start_time": "2021-06-28T12:48:08.021988",
     "status": "completed"
    },
    "tags": []
   },
   "outputs": [
    {
     "data": {
      "text/plain": [
       "age                          0\n",
       "blood pressure               0\n",
       "specific gravity             0\n",
       "albumin                      0\n",
       "sugar                        0\n",
       "red blood cells            152\n",
       " pus cell                   65\n",
       "pus cell clumps              4\n",
       "bacteria                     4\n",
       "blood glucose random         0\n",
       "blood urea                   0\n",
       "serum creatinine             0\n",
       "sodium                       0\n",
       "potassium                    0\n",
       "haemoglobin                  0\n",
       "packed cell volume           0\n",
       "white blood cell count       0\n",
       "red blood cell count         0\n",
       "ypertension                  2\n",
       "diabetes mellitus            2\n",
       "coronary artery disease      2\n",
       "appetite                     1\n",
       "pedal edema                  1\n",
       "anemia                       1\n",
       "class                        0\n",
       "dtype: int64"
      ]
     },
     "execution_count": 50,
     "metadata": {},
     "output_type": "execute_result"
    }
   ],
   "source": [
    "kidney.isnull().sum()"
   ]
  },
  {
   "cell_type": "code",
   "execution_count": 51,
   "id": "complicated-foster",
   "metadata": {
    "execution": {
     "iopub.execute_input": "2021-06-28T12:48:08.440785Z",
     "iopub.status.busy": "2021-06-28T12:48:08.440168Z",
     "iopub.status.idle": "2021-06-28T12:48:08.495688Z",
     "shell.execute_reply": "2021-06-28T12:48:08.496147Z",
     "shell.execute_reply.started": "2021-06-28T12:41:03.166482Z"
    },
    "papermill": {
     "duration": 0.190612,
     "end_time": "2021-06-28T12:48:08.496322",
     "exception": false,
     "start_time": "2021-06-28T12:48:08.305710",
     "status": "completed"
    },
    "tags": []
   },
   "outputs": [
    {
     "data": {
      "text/html": [
       "<div>\n",
       "<style scoped>\n",
       "    .dataframe tbody tr th:only-of-type {\n",
       "        vertical-align: middle;\n",
       "    }\n",
       "\n",
       "    .dataframe tbody tr th {\n",
       "        vertical-align: top;\n",
       "    }\n",
       "\n",
       "    .dataframe thead th {\n",
       "        text-align: right;\n",
       "    }\n",
       "</style>\n",
       "<table border=\"1\" class=\"dataframe\">\n",
       "  <thead>\n",
       "    <tr style=\"text-align: right;\">\n",
       "      <th></th>\n",
       "      <th>age</th>\n",
       "      <th>blood pressure</th>\n",
       "      <th>specific gravity</th>\n",
       "      <th>albumin</th>\n",
       "      <th>sugar</th>\n",
       "      <th>blood glucose random</th>\n",
       "      <th>blood urea</th>\n",
       "      <th>serum creatinine</th>\n",
       "      <th>sodium</th>\n",
       "      <th>potassium</th>\n",
       "      <th>haemoglobin</th>\n",
       "      <th>packed cell volume</th>\n",
       "      <th>white blood cell count</th>\n",
       "      <th>red blood cell count</th>\n",
       "    </tr>\n",
       "  </thead>\n",
       "  <tbody>\n",
       "    <tr>\n",
       "      <th>count</th>\n",
       "      <td>400.000000</td>\n",
       "      <td>400.000000</td>\n",
       "      <td>400.000000</td>\n",
       "      <td>400.00000</td>\n",
       "      <td>400.000000</td>\n",
       "      <td>400.000000</td>\n",
       "      <td>400.000000</td>\n",
       "      <td>400.000000</td>\n",
       "      <td>400.000000</td>\n",
       "      <td>400.000000</td>\n",
       "      <td>400.00000</td>\n",
       "      <td>400.000000</td>\n",
       "      <td>400.000000</td>\n",
       "      <td>400.000000</td>\n",
       "    </tr>\n",
       "    <tr>\n",
       "      <th>mean</th>\n",
       "      <td>51.562500</td>\n",
       "      <td>76.575000</td>\n",
       "      <td>1.017712</td>\n",
       "      <td>0.90000</td>\n",
       "      <td>0.395000</td>\n",
       "      <td>145.062500</td>\n",
       "      <td>56.693000</td>\n",
       "      <td>2.997125</td>\n",
       "      <td>137.631250</td>\n",
       "      <td>4.577250</td>\n",
       "      <td>12.54250</td>\n",
       "      <td>39.082500</td>\n",
       "      <td>8298.500000</td>\n",
       "      <td>4.737750</td>\n",
       "    </tr>\n",
       "    <tr>\n",
       "      <th>std</th>\n",
       "      <td>16.982996</td>\n",
       "      <td>13.489785</td>\n",
       "      <td>0.005434</td>\n",
       "      <td>1.31313</td>\n",
       "      <td>1.040038</td>\n",
       "      <td>75.260774</td>\n",
       "      <td>49.395258</td>\n",
       "      <td>5.628886</td>\n",
       "      <td>9.206332</td>\n",
       "      <td>2.821357</td>\n",
       "      <td>2.71649</td>\n",
       "      <td>8.162245</td>\n",
       "      <td>2529.593814</td>\n",
       "      <td>0.841439</td>\n",
       "    </tr>\n",
       "    <tr>\n",
       "      <th>min</th>\n",
       "      <td>2.000000</td>\n",
       "      <td>50.000000</td>\n",
       "      <td>1.005000</td>\n",
       "      <td>0.00000</td>\n",
       "      <td>0.000000</td>\n",
       "      <td>22.000000</td>\n",
       "      <td>1.500000</td>\n",
       "      <td>0.400000</td>\n",
       "      <td>4.500000</td>\n",
       "      <td>2.500000</td>\n",
       "      <td>3.10000</td>\n",
       "      <td>9.000000</td>\n",
       "      <td>2200.000000</td>\n",
       "      <td>2.100000</td>\n",
       "    </tr>\n",
       "    <tr>\n",
       "      <th>25%</th>\n",
       "      <td>42.000000</td>\n",
       "      <td>70.000000</td>\n",
       "      <td>1.015000</td>\n",
       "      <td>0.00000</td>\n",
       "      <td>0.000000</td>\n",
       "      <td>101.000000</td>\n",
       "      <td>27.000000</td>\n",
       "      <td>0.900000</td>\n",
       "      <td>135.000000</td>\n",
       "      <td>4.000000</td>\n",
       "      <td>10.87500</td>\n",
       "      <td>34.000000</td>\n",
       "      <td>6975.000000</td>\n",
       "      <td>4.500000</td>\n",
       "    </tr>\n",
       "    <tr>\n",
       "      <th>50%</th>\n",
       "      <td>55.000000</td>\n",
       "      <td>80.000000</td>\n",
       "      <td>1.020000</td>\n",
       "      <td>0.00000</td>\n",
       "      <td>0.000000</td>\n",
       "      <td>121.000000</td>\n",
       "      <td>42.000000</td>\n",
       "      <td>1.300000</td>\n",
       "      <td>138.000000</td>\n",
       "      <td>4.400000</td>\n",
       "      <td>12.65000</td>\n",
       "      <td>40.000000</td>\n",
       "      <td>8000.000000</td>\n",
       "      <td>4.800000</td>\n",
       "    </tr>\n",
       "    <tr>\n",
       "      <th>75%</th>\n",
       "      <td>64.000000</td>\n",
       "      <td>80.000000</td>\n",
       "      <td>1.020000</td>\n",
       "      <td>2.00000</td>\n",
       "      <td>0.000000</td>\n",
       "      <td>150.000000</td>\n",
       "      <td>61.750000</td>\n",
       "      <td>2.725000</td>\n",
       "      <td>141.000000</td>\n",
       "      <td>4.800000</td>\n",
       "      <td>14.62500</td>\n",
       "      <td>44.000000</td>\n",
       "      <td>9400.000000</td>\n",
       "      <td>5.100000</td>\n",
       "    </tr>\n",
       "    <tr>\n",
       "      <th>max</th>\n",
       "      <td>90.000000</td>\n",
       "      <td>180.000000</td>\n",
       "      <td>1.025000</td>\n",
       "      <td>5.00000</td>\n",
       "      <td>5.000000</td>\n",
       "      <td>490.000000</td>\n",
       "      <td>391.000000</td>\n",
       "      <td>76.000000</td>\n",
       "      <td>163.000000</td>\n",
       "      <td>47.000000</td>\n",
       "      <td>17.80000</td>\n",
       "      <td>54.000000</td>\n",
       "      <td>26400.000000</td>\n",
       "      <td>8.000000</td>\n",
       "    </tr>\n",
       "  </tbody>\n",
       "</table>\n",
       "</div>"
      ],
      "text/plain": [
       "              age  blood pressure  specific gravity    albumin       sugar  \\\n",
       "count  400.000000      400.000000        400.000000  400.00000  400.000000   \n",
       "mean    51.562500       76.575000          1.017712    0.90000    0.395000   \n",
       "std     16.982996       13.489785          0.005434    1.31313    1.040038   \n",
       "min      2.000000       50.000000          1.005000    0.00000    0.000000   \n",
       "25%     42.000000       70.000000          1.015000    0.00000    0.000000   \n",
       "50%     55.000000       80.000000          1.020000    0.00000    0.000000   \n",
       "75%     64.000000       80.000000          1.020000    2.00000    0.000000   \n",
       "max     90.000000      180.000000          1.025000    5.00000    5.000000   \n",
       "\n",
       "       blood glucose random  blood urea  serum creatinine      sodium  \\\n",
       "count            400.000000  400.000000        400.000000  400.000000   \n",
       "mean             145.062500   56.693000          2.997125  137.631250   \n",
       "std               75.260774   49.395258          5.628886    9.206332   \n",
       "min               22.000000    1.500000          0.400000    4.500000   \n",
       "25%              101.000000   27.000000          0.900000  135.000000   \n",
       "50%              121.000000   42.000000          1.300000  138.000000   \n",
       "75%              150.000000   61.750000          2.725000  141.000000   \n",
       "max              490.000000  391.000000         76.000000  163.000000   \n",
       "\n",
       "        potassium  haemoglobin  packed cell volume  white blood cell count  \\\n",
       "count  400.000000    400.00000          400.000000              400.000000   \n",
       "mean     4.577250     12.54250           39.082500             8298.500000   \n",
       "std      2.821357      2.71649            8.162245             2529.593814   \n",
       "min      2.500000      3.10000            9.000000             2200.000000   \n",
       "25%      4.000000     10.87500           34.000000             6975.000000   \n",
       "50%      4.400000     12.65000           40.000000             8000.000000   \n",
       "75%      4.800000     14.62500           44.000000             9400.000000   \n",
       "max     47.000000     17.80000           54.000000            26400.000000   \n",
       "\n",
       "       red blood cell count  \n",
       "count            400.000000  \n",
       "mean               4.737750  \n",
       "std                0.841439  \n",
       "min                2.100000  \n",
       "25%                4.500000  \n",
       "50%                4.800000  \n",
       "75%                5.100000  \n",
       "max                8.000000  "
      ]
     },
     "execution_count": 51,
     "metadata": {},
     "output_type": "execute_result"
    }
   ],
   "source": [
    "kidney.describe()"
   ]
  },
  {
   "cell_type": "code",
   "execution_count": 52,
   "id": "silent-mirror",
   "metadata": {
    "execution": {
     "iopub.execute_input": "2021-06-28T12:48:09.038337Z",
     "iopub.status.busy": "2021-06-28T12:48:09.037313Z",
     "iopub.status.idle": "2021-06-28T12:48:09.041564Z",
     "shell.execute_reply": "2021-06-28T12:48:09.041058Z",
     "shell.execute_reply.started": "2021-06-28T12:41:03.223885Z"
    },
    "papermill": {
     "duration": 0.14526,
     "end_time": "2021-06-28T12:48:09.041706",
     "exception": false,
     "start_time": "2021-06-28T12:48:08.896446",
     "status": "completed"
    },
    "tags": []
   },
   "outputs": [
    {
     "data": {
      "text/plain": [
       "152"
      ]
     },
     "execution_count": 52,
     "metadata": {},
     "output_type": "execute_result"
    }
   ],
   "source": [
    "kidney['red blood cells'].isnull().sum()"
   ]
  },
  {
   "cell_type": "code",
   "execution_count": 53,
   "id": "adaptive-happiness",
   "metadata": {
    "execution": {
     "iopub.execute_input": "2021-06-28T12:48:09.318679Z",
     "iopub.status.busy": "2021-06-28T12:48:09.317950Z",
     "iopub.status.idle": "2021-06-28T12:48:09.321366Z",
     "shell.execute_reply": "2021-06-28T12:48:09.320815Z",
     "shell.execute_reply.started": "2021-06-28T12:41:03.234458Z"
    },
    "papermill": {
     "duration": 0.143791,
     "end_time": "2021-06-28T12:48:09.321518",
     "exception": false,
     "start_time": "2021-06-28T12:48:09.177727",
     "status": "completed"
    },
    "tags": []
   },
   "outputs": [],
   "source": [
    "random_sample=kidney['red blood cells'].dropna().sample(152)"
   ]
  },
  {
   "cell_type": "code",
   "execution_count": 54,
   "id": "straight-detail",
   "metadata": {
    "execution": {
     "iopub.execute_input": "2021-06-28T12:48:09.597573Z",
     "iopub.status.busy": "2021-06-28T12:48:09.596754Z",
     "iopub.status.idle": "2021-06-28T12:48:09.600123Z",
     "shell.execute_reply": "2021-06-28T12:48:09.600671Z",
     "shell.execute_reply.started": "2021-06-28T12:41:03.245981Z"
    },
    "papermill": {
     "duration": 0.145429,
     "end_time": "2021-06-28T12:48:09.600840",
     "exception": false,
     "start_time": "2021-06-28T12:48:09.455411",
     "status": "completed"
    },
    "tags": []
   },
   "outputs": [
    {
     "data": {
      "text/plain": [
       "161    abnormal\n",
       "341      normal\n",
       "298      normal\n",
       "333      normal\n",
       "299      normal\n",
       "         ...   \n",
       "297      normal\n",
       "326      normal\n",
       "260      normal\n",
       "180    abnormal\n",
       "128      normal\n",
       "Name: red blood cells, Length: 152, dtype: object"
      ]
     },
     "execution_count": 54,
     "metadata": {},
     "output_type": "execute_result"
    }
   ],
   "source": [
    "random_sample"
   ]
  },
  {
   "cell_type": "code",
   "execution_count": 55,
   "id": "grave-congo",
   "metadata": {
    "execution": {
     "iopub.execute_input": "2021-06-28T12:48:09.874107Z",
     "iopub.status.busy": "2021-06-28T12:48:09.873044Z",
     "iopub.status.idle": "2021-06-28T12:48:09.880251Z",
     "shell.execute_reply": "2021-06-28T12:48:09.880727Z",
     "shell.execute_reply.started": "2021-06-28T12:41:03.262534Z"
    },
    "papermill": {
     "duration": 0.14658,
     "end_time": "2021-06-28T12:48:09.880944",
     "exception": false,
     "start_time": "2021-06-28T12:48:09.734364",
     "status": "completed"
    },
    "tags": []
   },
   "outputs": [
    {
     "data": {
      "text/plain": [
       "Int64Index([  0,   1,   5,   6,  10,  12,  13,  15,  16,  17,\n",
       "            ...\n",
       "            245, 268, 280, 290, 295, 309, 322, 349, 350, 381],\n",
       "           dtype='int64', length=152)"
      ]
     },
     "execution_count": 55,
     "metadata": {},
     "output_type": "execute_result"
    }
   ],
   "source": [
    "kidney[kidney['red blood cells'].isnull()].index"
   ]
  },
  {
   "cell_type": "code",
   "execution_count": 56,
   "id": "considerable-meter",
   "metadata": {
    "execution": {
     "iopub.execute_input": "2021-06-28T12:48:10.154900Z",
     "iopub.status.busy": "2021-06-28T12:48:10.154191Z",
     "iopub.status.idle": "2021-06-28T12:48:10.159693Z",
     "shell.execute_reply": "2021-06-28T12:48:10.160155Z",
     "shell.execute_reply.started": "2021-06-28T12:41:03.279039Z"
    },
    "papermill": {
     "duration": 0.14487,
     "end_time": "2021-06-28T12:48:10.160326",
     "exception": false,
     "start_time": "2021-06-28T12:48:10.015456",
     "status": "completed"
    },
    "tags": []
   },
   "outputs": [
    {
     "data": {
      "text/plain": [
       "Int64Index([161, 341, 298, 333, 299, 270, 316, 178, 196, 344,\n",
       "            ...\n",
       "            339, 250, 301,   7, 155, 297, 326, 260, 180, 128],\n",
       "           dtype='int64', length=152)"
      ]
     },
     "execution_count": 56,
     "metadata": {},
     "output_type": "execute_result"
    }
   ],
   "source": [
    "random_sample.index"
   ]
  },
  {
   "cell_type": "markdown",
   "id": "confident-sending",
   "metadata": {
    "papermill": {
     "duration": 0.133257,
     "end_time": "2021-06-28T12:48:10.427727",
     "exception": false,
     "start_time": "2021-06-28T12:48:10.294470",
     "status": "completed"
    },
    "tags": []
   },
   "source": [
    "We can see that indexes are different , while putting random values indexes must be equal"
   ]
  },
  {
   "cell_type": "code",
   "execution_count": 57,
   "id": "native-grave",
   "metadata": {
    "execution": {
     "iopub.execute_input": "2021-06-28T12:48:10.700176Z",
     "iopub.status.busy": "2021-06-28T12:48:10.699185Z",
     "iopub.status.idle": "2021-06-28T12:48:10.704227Z",
     "shell.execute_reply": "2021-06-28T12:48:10.704677Z",
     "shell.execute_reply.started": "2021-06-28T12:41:03.290866Z"
    },
    "papermill": {
     "duration": 0.142562,
     "end_time": "2021-06-28T12:48:10.704850",
     "exception": false,
     "start_time": "2021-06-28T12:48:10.562288",
     "status": "completed"
    },
    "tags": []
   },
   "outputs": [],
   "source": [
    "random_sample.index=kidney[kidney['red blood cells'].isnull()].index    #in this way index will be equal"
   ]
  },
  {
   "cell_type": "code",
   "execution_count": 58,
   "id": "gross-forest",
   "metadata": {
    "execution": {
     "iopub.execute_input": "2021-06-28T12:48:10.978583Z",
     "iopub.status.busy": "2021-06-28T12:48:10.977613Z",
     "iopub.status.idle": "2021-06-28T12:48:10.984455Z",
     "shell.execute_reply": "2021-06-28T12:48:10.983901Z",
     "shell.execute_reply.started": "2021-06-28T12:41:03.303622Z"
    },
    "papermill": {
     "duration": 0.14525,
     "end_time": "2021-06-28T12:48:10.984594",
     "exception": false,
     "start_time": "2021-06-28T12:48:10.839344",
     "status": "completed"
    },
    "tags": []
   },
   "outputs": [
    {
     "data": {
      "text/plain": [
       "Int64Index([  0,   1,   5,   6,  10,  12,  13,  15,  16,  17,\n",
       "            ...\n",
       "            245, 268, 280, 290, 295, 309, 322, 349, 350, 381],\n",
       "           dtype='int64', length=152)"
      ]
     },
     "execution_count": 58,
     "metadata": {},
     "output_type": "execute_result"
    }
   ],
   "source": [
    "random_sample.index"
   ]
  },
  {
   "cell_type": "code",
   "execution_count": 59,
   "id": "literary-jackson",
   "metadata": {
    "execution": {
     "iopub.execute_input": "2021-06-28T12:48:11.260823Z",
     "iopub.status.busy": "2021-06-28T12:48:11.259837Z",
     "iopub.status.idle": "2021-06-28T12:48:11.265178Z",
     "shell.execute_reply": "2021-06-28T12:48:11.265619Z",
     "shell.execute_reply.started": "2021-06-28T12:41:03.318890Z"
    },
    "papermill": {
     "duration": 0.145334,
     "end_time": "2021-06-28T12:48:11.265807",
     "exception": false,
     "start_time": "2021-06-28T12:48:11.120473",
     "status": "completed"
    },
    "tags": []
   },
   "outputs": [],
   "source": [
    "kidney.loc[kidney['red blood cells'].isnull(),'red blood cells']=random_sample"
   ]
  },
  {
   "cell_type": "code",
   "execution_count": 60,
   "id": "refined-pacific",
   "metadata": {
    "execution": {
     "iopub.execute_input": "2021-06-28T12:48:11.540804Z",
     "iopub.status.busy": "2021-06-28T12:48:11.539857Z",
     "iopub.status.idle": "2021-06-28T12:48:11.574282Z",
     "shell.execute_reply": "2021-06-28T12:48:11.573583Z",
     "shell.execute_reply.started": "2021-06-28T12:41:03.331241Z"
    },
    "papermill": {
     "duration": 0.173703,
     "end_time": "2021-06-28T12:48:11.574432",
     "exception": false,
     "start_time": "2021-06-28T12:48:11.400729",
     "status": "completed"
    },
    "tags": []
   },
   "outputs": [
    {
     "data": {
      "text/html": [
       "<div>\n",
       "<style scoped>\n",
       "    .dataframe tbody tr th:only-of-type {\n",
       "        vertical-align: middle;\n",
       "    }\n",
       "\n",
       "    .dataframe tbody tr th {\n",
       "        vertical-align: top;\n",
       "    }\n",
       "\n",
       "    .dataframe thead th {\n",
       "        text-align: right;\n",
       "    }\n",
       "</style>\n",
       "<table border=\"1\" class=\"dataframe\">\n",
       "  <thead>\n",
       "    <tr style=\"text-align: right;\">\n",
       "      <th></th>\n",
       "      <th>age</th>\n",
       "      <th>blood pressure</th>\n",
       "      <th>specific gravity</th>\n",
       "      <th>albumin</th>\n",
       "      <th>sugar</th>\n",
       "      <th>red blood cells</th>\n",
       "      <th>pus cell</th>\n",
       "      <th>pus cell clumps</th>\n",
       "      <th>bacteria</th>\n",
       "      <th>blood glucose random</th>\n",
       "      <th>...</th>\n",
       "      <th>packed cell volume</th>\n",
       "      <th>white blood cell count</th>\n",
       "      <th>red blood cell count</th>\n",
       "      <th>ypertension</th>\n",
       "      <th>diabetes mellitus</th>\n",
       "      <th>coronary artery disease</th>\n",
       "      <th>appetite</th>\n",
       "      <th>pedal edema</th>\n",
       "      <th>anemia</th>\n",
       "      <th>class</th>\n",
       "    </tr>\n",
       "  </thead>\n",
       "  <tbody>\n",
       "    <tr>\n",
       "      <th>0</th>\n",
       "      <td>48.0</td>\n",
       "      <td>80.0</td>\n",
       "      <td>1.020</td>\n",
       "      <td>1.0</td>\n",
       "      <td>0.0</td>\n",
       "      <td>abnormal</td>\n",
       "      <td>normal</td>\n",
       "      <td>notpresent</td>\n",
       "      <td>notpresent</td>\n",
       "      <td>121.0</td>\n",
       "      <td>...</td>\n",
       "      <td>44.0</td>\n",
       "      <td>7800.0</td>\n",
       "      <td>5.2</td>\n",
       "      <td>yes</td>\n",
       "      <td>yes</td>\n",
       "      <td>no</td>\n",
       "      <td>good</td>\n",
       "      <td>no</td>\n",
       "      <td>no</td>\n",
       "      <td>ckd</td>\n",
       "    </tr>\n",
       "    <tr>\n",
       "      <th>1</th>\n",
       "      <td>7.0</td>\n",
       "      <td>50.0</td>\n",
       "      <td>1.020</td>\n",
       "      <td>4.0</td>\n",
       "      <td>0.0</td>\n",
       "      <td>normal</td>\n",
       "      <td>normal</td>\n",
       "      <td>notpresent</td>\n",
       "      <td>notpresent</td>\n",
       "      <td>121.0</td>\n",
       "      <td>...</td>\n",
       "      <td>38.0</td>\n",
       "      <td>6000.0</td>\n",
       "      <td>4.8</td>\n",
       "      <td>no</td>\n",
       "      <td>no</td>\n",
       "      <td>no</td>\n",
       "      <td>good</td>\n",
       "      <td>no</td>\n",
       "      <td>no</td>\n",
       "      <td>ckd</td>\n",
       "    </tr>\n",
       "    <tr>\n",
       "      <th>2</th>\n",
       "      <td>62.0</td>\n",
       "      <td>80.0</td>\n",
       "      <td>1.010</td>\n",
       "      <td>2.0</td>\n",
       "      <td>3.0</td>\n",
       "      <td>normal</td>\n",
       "      <td>normal</td>\n",
       "      <td>notpresent</td>\n",
       "      <td>notpresent</td>\n",
       "      <td>423.0</td>\n",
       "      <td>...</td>\n",
       "      <td>31.0</td>\n",
       "      <td>7500.0</td>\n",
       "      <td>4.8</td>\n",
       "      <td>no</td>\n",
       "      <td>yes</td>\n",
       "      <td>no</td>\n",
       "      <td>poor</td>\n",
       "      <td>no</td>\n",
       "      <td>yes</td>\n",
       "      <td>ckd</td>\n",
       "    </tr>\n",
       "    <tr>\n",
       "      <th>3</th>\n",
       "      <td>48.0</td>\n",
       "      <td>70.0</td>\n",
       "      <td>1.005</td>\n",
       "      <td>4.0</td>\n",
       "      <td>0.0</td>\n",
       "      <td>normal</td>\n",
       "      <td>abnormal</td>\n",
       "      <td>present</td>\n",
       "      <td>notpresent</td>\n",
       "      <td>117.0</td>\n",
       "      <td>...</td>\n",
       "      <td>32.0</td>\n",
       "      <td>6700.0</td>\n",
       "      <td>3.9</td>\n",
       "      <td>yes</td>\n",
       "      <td>no</td>\n",
       "      <td>no</td>\n",
       "      <td>poor</td>\n",
       "      <td>yes</td>\n",
       "      <td>yes</td>\n",
       "      <td>ckd</td>\n",
       "    </tr>\n",
       "    <tr>\n",
       "      <th>4</th>\n",
       "      <td>51.0</td>\n",
       "      <td>80.0</td>\n",
       "      <td>1.010</td>\n",
       "      <td>2.0</td>\n",
       "      <td>0.0</td>\n",
       "      <td>normal</td>\n",
       "      <td>normal</td>\n",
       "      <td>notpresent</td>\n",
       "      <td>notpresent</td>\n",
       "      <td>106.0</td>\n",
       "      <td>...</td>\n",
       "      <td>35.0</td>\n",
       "      <td>7300.0</td>\n",
       "      <td>4.6</td>\n",
       "      <td>no</td>\n",
       "      <td>no</td>\n",
       "      <td>no</td>\n",
       "      <td>good</td>\n",
       "      <td>no</td>\n",
       "      <td>no</td>\n",
       "      <td>ckd</td>\n",
       "    </tr>\n",
       "  </tbody>\n",
       "</table>\n",
       "<p>5 rows × 25 columns</p>\n",
       "</div>"
      ],
      "text/plain": [
       "    age  blood pressure  specific gravity  albumin  sugar red blood cells  \\\n",
       "0  48.0            80.0             1.020      1.0    0.0        abnormal   \n",
       "1   7.0            50.0             1.020      4.0    0.0          normal   \n",
       "2  62.0            80.0             1.010      2.0    3.0          normal   \n",
       "3  48.0            70.0             1.005      4.0    0.0          normal   \n",
       "4  51.0            80.0             1.010      2.0    0.0          normal   \n",
       "\n",
       "   pus cell pus cell clumps    bacteria  blood glucose random  ...  \\\n",
       "0    normal      notpresent  notpresent                 121.0  ...   \n",
       "1    normal      notpresent  notpresent                 121.0  ...   \n",
       "2    normal      notpresent  notpresent                 423.0  ...   \n",
       "3  abnormal         present  notpresent                 117.0  ...   \n",
       "4    normal      notpresent  notpresent                 106.0  ...   \n",
       "\n",
       "   packed cell volume  white blood cell count  red blood cell count  \\\n",
       "0                44.0                  7800.0                   5.2   \n",
       "1                38.0                  6000.0                   4.8   \n",
       "2                31.0                  7500.0                   4.8   \n",
       "3                32.0                  6700.0                   3.9   \n",
       "4                35.0                  7300.0                   4.6   \n",
       "\n",
       "   ypertension  diabetes mellitus  coronary artery disease  appetite  \\\n",
       "0          yes                yes                       no      good   \n",
       "1           no                 no                       no      good   \n",
       "2           no                yes                       no      poor   \n",
       "3          yes                 no                       no      poor   \n",
       "4           no                 no                       no      good   \n",
       "\n",
       "   pedal edema anemia class  \n",
       "0           no     no   ckd  \n",
       "1           no     no   ckd  \n",
       "2           no    yes   ckd  \n",
       "3          yes    yes   ckd  \n",
       "4           no     no   ckd  \n",
       "\n",
       "[5 rows x 25 columns]"
      ]
     },
     "execution_count": 60,
     "metadata": {},
     "output_type": "execute_result"
    }
   ],
   "source": [
    "kidney.head()"
   ]
  },
  {
   "cell_type": "code",
   "execution_count": 61,
   "id": "essential-cancer",
   "metadata": {
    "execution": {
     "iopub.execute_input": "2021-06-28T12:48:11.863347Z",
     "iopub.status.busy": "2021-06-28T12:48:11.862622Z",
     "iopub.status.idle": "2021-06-28T12:48:11.865353Z",
     "shell.execute_reply": "2021-06-28T12:48:11.865823Z",
     "shell.execute_reply.started": "2021-06-28T12:41:03.374336Z"
    },
    "papermill": {
     "duration": 0.144357,
     "end_time": "2021-06-28T12:48:11.866004",
     "exception": false,
     "start_time": "2021-06-28T12:48:11.721647",
     "status": "completed"
    },
    "tags": []
   },
   "outputs": [
    {
     "data": {
      "text/plain": [
       "0"
      ]
     },
     "execution_count": 61,
     "metadata": {},
     "output_type": "execute_result"
    }
   ],
   "source": [
    "kidney['red blood cells'].isnull().sum()"
   ]
  },
  {
   "cell_type": "code",
   "execution_count": 62,
   "id": "verbal-battery",
   "metadata": {
    "execution": {
     "iopub.execute_input": "2021-06-28T12:48:12.143458Z",
     "iopub.status.busy": "2021-06-28T12:48:12.142758Z",
     "iopub.status.idle": "2021-06-28T12:48:12.264108Z",
     "shell.execute_reply": "2021-06-28T12:48:12.264586Z",
     "shell.execute_reply.started": "2021-06-28T12:41:03.388895Z"
    },
    "papermill": {
     "duration": 0.263807,
     "end_time": "2021-06-28T12:48:12.264765",
     "exception": false,
     "start_time": "2021-06-28T12:48:12.000958",
     "status": "completed"
    },
    "tags": []
   },
   "outputs": [
    {
     "data": {
      "text/plain": [
       "<AxesSubplot:xlabel='red blood cells', ylabel='count'>"
      ]
     },
     "execution_count": 62,
     "metadata": {},
     "output_type": "execute_result"
    },
    {
     "data": {
      "image/png": "[encoded data removed]",
      "text/plain": [
       "<Figure size 432x288 with 1 Axes>"
      ]
     },
     "metadata": {
      "needs_background": "light"
     },
     "output_type": "display_data"
    }
   ],
   "source": [
    "sns.countplot(kidney['red blood cells'])       # checking that ratio didnt change after filling missing values"
   ]
  },
  {
   "cell_type": "markdown",
   "id": "bizarre-hunter",
   "metadata": {
    "papermill": {
     "duration": 0.137295,
     "end_time": "2021-06-28T12:48:12.539667",
     "exception": false,
     "start_time": "2021-06-28T12:48:12.402372",
     "status": "completed"
    },
    "tags": []
   },
   "source": [
    "ratio didnt changed"
   ]
  },
  {
   "cell_type": "code",
   "execution_count": 63,
   "id": "organized-appeal",
   "metadata": {
    "execution": {
     "iopub.execute_input": "2021-06-28T12:48:12.819204Z",
     "iopub.status.busy": "2021-06-28T12:48:12.818413Z",
     "iopub.status.idle": "2021-06-28T12:48:12.823316Z",
     "shell.execute_reply": "2021-06-28T12:48:12.823822Z",
     "shell.execute_reply.started": "2021-06-28T12:41:03.513297Z"
    },
    "papermill": {
     "duration": 0.147546,
     "end_time": "2021-06-28T12:48:12.824022",
     "exception": false,
     "start_time": "2021-06-28T12:48:12.676476",
     "status": "completed"
    },
    "tags": []
   },
   "outputs": [],
   "source": [
    "#filling random values in all categorical columns\n",
    "def Random_value_Imputation(feature):\n",
    "    random_sample=kidney[feature].dropna().sample(kidney[feature].isnull().sum())\n",
    "    random_sample.index=kidney[kidney[feature].isnull()].index\n",
    "    kidney.loc[kidney[feature].isnull(),feature]=random_sample"
   ]
  },
  {
   "cell_type": "code",
   "execution_count": 64,
   "id": "static-reserve",
   "metadata": {
    "execution": {
     "iopub.execute_input": "2021-06-28T12:48:13.110578Z",
     "iopub.status.busy": "2021-06-28T12:48:13.109840Z",
     "iopub.status.idle": "2021-06-28T12:48:13.116543Z",
     "shell.execute_reply": "2021-06-28T12:48:13.117106Z",
     "shell.execute_reply.started": "2021-06-28T12:41:03.522404Z"
    },
    "papermill": {
     "duration": 0.14982,
     "end_time": "2021-06-28T12:48:13.117284",
     "exception": false,
     "start_time": "2021-06-28T12:48:12.967464",
     "status": "completed"
    },
    "tags": []
   },
   "outputs": [],
   "source": [
    "Random_value_Imputation(' pus cell')     #only this column because it has higher no. of missing value"
   ]
  },
  {
   "cell_type": "code",
   "execution_count": 65,
   "id": "acting-ordinary",
   "metadata": {
    "execution": {
     "iopub.execute_input": "2021-06-28T12:48:13.400219Z",
     "iopub.status.busy": "2021-06-28T12:48:13.399543Z",
     "iopub.status.idle": "2021-06-28T12:48:13.407584Z",
     "shell.execute_reply": "2021-06-28T12:48:13.408140Z",
     "shell.execute_reply.started": "2021-06-28T12:41:03.538308Z"
    },
    "papermill": {
     "duration": 0.150647,
     "end_time": "2021-06-28T12:48:13.408315",
     "exception": false,
     "start_time": "2021-06-28T12:48:13.257668",
     "status": "completed"
    },
    "tags": []
   },
   "outputs": [
    {
     "data": {
      "text/plain": [
       "age                        0\n",
       "blood pressure             0\n",
       "specific gravity           0\n",
       "albumin                    0\n",
       "sugar                      0\n",
       "red blood cells            0\n",
       " pus cell                  0\n",
       "pus cell clumps            4\n",
       "bacteria                   4\n",
       "blood glucose random       0\n",
       "blood urea                 0\n",
       "serum creatinine           0\n",
       "sodium                     0\n",
       "potassium                  0\n",
       "haemoglobin                0\n",
       "packed cell volume         0\n",
       "white blood cell count     0\n",
       "red blood cell count       0\n",
       "ypertension                2\n",
       "diabetes mellitus          2\n",
       "coronary artery disease    2\n",
       "appetite                   1\n",
       "pedal edema                1\n",
       "anemia                     1\n",
       "class                      0\n",
       "dtype: int64"
      ]
     },
     "execution_count": 65,
     "metadata": {},
     "output_type": "execute_result"
    }
   ],
   "source": [
    "kidney.isnull().sum()"
   ]
  },
  {
   "cell_type": "markdown",
   "id": "several-lecture",
   "metadata": {
    "papermill": {
     "duration": 0.138759,
     "end_time": "2021-06-28T12:48:13.689051",
     "exception": false,
     "start_time": "2021-06-28T12:48:13.550292",
     "status": "completed"
    },
    "tags": []
   },
   "source": [
    "Those categorical variables who have less no. of missing values then we can replace it with mode"
   ]
  },
  {
   "cell_type": "code",
   "execution_count": 66,
   "id": "standing-shoulder",
   "metadata": {
    "execution": {
     "iopub.execute_input": "2021-06-28T12:48:13.974247Z",
     "iopub.status.busy": "2021-06-28T12:48:13.973536Z",
     "iopub.status.idle": "2021-06-28T12:48:13.977585Z",
     "shell.execute_reply": "2021-06-28T12:48:13.978159Z",
     "shell.execute_reply.started": "2021-06-28T12:41:03.558575Z"
    },
    "papermill": {
     "duration": 0.148233,
     "end_time": "2021-06-28T12:48:13.978339",
     "exception": false,
     "start_time": "2021-06-28T12:48:13.830106",
     "status": "completed"
    },
    "tags": []
   },
   "outputs": [],
   "source": [
    "def impute_mode(feature):\n",
    "    mode=kidney[feature].mode()[0]\n",
    "    kidney[feature]=kidney[feature].fillna(mode)"
   ]
  },
  {
   "cell_type": "code",
   "execution_count": 67,
   "id": "soviet-glory",
   "metadata": {
    "execution": {
     "iopub.execute_input": "2021-06-28T12:48:14.259369Z",
     "iopub.status.busy": "2021-06-28T12:48:14.258709Z",
     "iopub.status.idle": "2021-06-28T12:48:14.270530Z",
     "shell.execute_reply": "2021-06-28T12:48:14.271132Z",
     "shell.execute_reply.started": "2021-06-28T12:41:03.569500Z"
    },
    "papermill": {
     "duration": 0.15466,
     "end_time": "2021-06-28T12:48:14.271310",
     "exception": false,
     "start_time": "2021-06-28T12:48:14.116650",
     "status": "completed"
    },
    "tags": []
   },
   "outputs": [],
   "source": [
    "for col in cat_col:\n",
    "    impute_mode(col)"
   ]
  },
  {
   "cell_type": "code",
   "execution_count": 68,
   "id": "funded-steps",
   "metadata": {
    "execution": {
     "iopub.execute_input": "2021-06-28T12:48:14.557756Z",
     "iopub.status.busy": "2021-06-28T12:48:14.557091Z",
     "iopub.status.idle": "2021-06-28T12:48:14.566716Z",
     "shell.execute_reply": "2021-06-28T12:48:14.567206Z",
     "shell.execute_reply.started": "2021-06-28T12:41:03.590894Z"
    },
    "papermill": {
     "duration": 0.157575,
     "end_time": "2021-06-28T12:48:14.567398",
     "exception": false,
     "start_time": "2021-06-28T12:48:14.409823",
     "status": "completed"
    },
    "tags": []
   },
   "outputs": [
    {
     "data": {
      "text/plain": [
       "red blood cells            0\n",
       " pus cell                  0\n",
       "pus cell clumps            0\n",
       "bacteria                   0\n",
       "ypertension                0\n",
       "diabetes mellitus          0\n",
       "coronary artery disease    0\n",
       "appetite                   0\n",
       "pedal edema                0\n",
       "anemia                     0\n",
       "class                      0\n",
       "dtype: int64"
      ]
     },
     "execution_count": 68,
     "metadata": {},
     "output_type": "execute_result"
    }
   ],
   "source": [
    "kidney[cat_col].isnull().sum()"
   ]
  },
  {
   "cell_type": "code",
   "execution_count": 69,
   "id": "modular-spider",
   "metadata": {
    "execution": {
     "iopub.execute_input": "2021-06-28T12:48:14.856406Z",
     "iopub.status.busy": "2021-06-28T12:48:14.855475Z",
     "iopub.status.idle": "2021-06-28T12:48:14.864515Z",
     "shell.execute_reply": "2021-06-28T12:48:14.863827Z",
     "shell.execute_reply.started": "2021-06-28T12:41:03.608874Z"
    },
    "papermill": {
     "duration": 0.156986,
     "end_time": "2021-06-28T12:48:14.864674",
     "exception": false,
     "start_time": "2021-06-28T12:48:14.707688",
     "status": "completed"
    },
    "tags": []
   },
   "outputs": [
    {
     "data": {
      "text/plain": [
       "age                        0\n",
       "blood pressure             0\n",
       "specific gravity           0\n",
       "albumin                    0\n",
       "sugar                      0\n",
       "red blood cells            0\n",
       " pus cell                  0\n",
       "pus cell clumps            0\n",
       "bacteria                   0\n",
       "blood glucose random       0\n",
       "blood urea                 0\n",
       "serum creatinine           0\n",
       "sodium                     0\n",
       "potassium                  0\n",
       "haemoglobin                0\n",
       "packed cell volume         0\n",
       "white blood cell count     0\n",
       "red blood cell count       0\n",
       "ypertension                0\n",
       "diabetes mellitus          0\n",
       "coronary artery disease    0\n",
       "appetite                   0\n",
       "pedal edema                0\n",
       "anemia                     0\n",
       "class                      0\n",
       "dtype: int64"
      ]
     },
     "execution_count": 69,
     "metadata": {},
     "output_type": "execute_result"
    }
   ],
   "source": [
    "kidney.isnull().sum()"
   ]
  },
  {
   "cell_type": "markdown",
   "id": "collect-consensus",
   "metadata": {
    "papermill": {
     "duration": 0.142372,
     "end_time": "2021-06-28T12:48:15.150243",
     "exception": false,
     "start_time": "2021-06-28T12:48:15.007871",
     "status": "completed"
    },
    "tags": []
   },
   "source": [
    "We can see that there is no missing value now"
   ]
  },
  {
   "cell_type": "markdown",
   "id": "bearing-chrome",
   "metadata": {
    "papermill": {
     "duration": 0.13913,
     "end_time": "2021-06-28T12:48:15.428597",
     "exception": false,
     "start_time": "2021-06-28T12:48:15.289467",
     "status": "completed"
    },
    "tags": []
   },
   "source": [
    "## Performing the Feature Encoding\n",
    "\n",
    "Machine learning models can only work with numerical values. For this reason, it is necessary to transform the categorical values of the relevant features into numerical ones. This process is called feature encoding."
   ]
  },
  {
   "cell_type": "code",
   "execution_count": 70,
   "id": "empty-floating",
   "metadata": {
    "execution": {
     "iopub.execute_input": "2021-06-28T12:48:15.716677Z",
     "iopub.status.busy": "2021-06-28T12:48:15.715684Z",
     "iopub.status.idle": "2021-06-28T12:48:15.729124Z",
     "shell.execute_reply": "2021-06-28T12:48:15.728560Z",
     "shell.execute_reply.started": "2021-06-28T12:41:03.620819Z"
    },
    "papermill": {
     "duration": 0.160115,
     "end_time": "2021-06-28T12:48:15.729274",
     "exception": false,
     "start_time": "2021-06-28T12:48:15.569159",
     "status": "completed"
    },
    "tags": []
   },
   "outputs": [
    {
     "name": "stdout",
     "output_type": "stream",
     "text": [
      "red blood cells has 2 categories\n",
      " pus cell has 2 categories\n",
      "pus cell clumps has 2 categories\n",
      "bacteria has 2 categories\n",
      "ypertension has 2 categories\n",
      "diabetes mellitus has 3 categories\n",
      "coronary artery disease has 2 categories\n",
      "appetite has 2 categories\n",
      "pedal edema has 2 categories\n",
      "anemia has 2 categories\n",
      "class has 2 categories\n"
     ]
    }
   ],
   "source": [
    "for col in cat_col:\n",
    "    print('{} has {} categories'.format(col,kidney[col].nunique()))"
   ]
  },
  {
   "cell_type": "code",
   "execution_count": 71,
   "id": "minus-canada",
   "metadata": {
    "execution": {
     "iopub.execute_input": "2021-06-28T12:48:16.313825Z",
     "iopub.status.busy": "2021-06-28T12:48:16.313052Z",
     "iopub.status.idle": "2021-06-28T12:48:16.494367Z",
     "shell.execute_reply": "2021-06-28T12:48:16.493597Z",
     "shell.execute_reply.started": "2021-06-28T12:41:03.653739Z"
    },
    "papermill": {
     "duration": 0.326595,
     "end_time": "2021-06-28T12:48:16.494525",
     "exception": false,
     "start_time": "2021-06-28T12:48:16.167930",
     "status": "completed"
    },
    "tags": []
   },
   "outputs": [],
   "source": [
    " from sklearn.preprocessing import LabelEncoder"
   ]
  },
  {
   "cell_type": "code",
   "execution_count": 72,
   "id": "understanding-snowboard",
   "metadata": {
    "execution": {
     "iopub.execute_input": "2021-06-28T12:48:16.778431Z",
     "iopub.status.busy": "2021-06-28T12:48:16.777751Z",
     "iopub.status.idle": "2021-06-28T12:48:16.779997Z",
     "shell.execute_reply": "2021-06-28T12:48:16.780483Z",
     "shell.execute_reply.started": "2021-06-28T12:41:03.824485Z"
    },
    "papermill": {
     "duration": 0.145595,
     "end_time": "2021-06-28T12:48:16.780674",
     "exception": false,
     "start_time": "2021-06-28T12:48:16.635079",
     "status": "completed"
    },
    "tags": []
   },
   "outputs": [],
   "source": [
    "le=LabelEncoder()"
   ]
  },
  {
   "cell_type": "code",
   "execution_count": 73,
   "id": "supported-adaptation",
   "metadata": {
    "execution": {
     "iopub.execute_input": "2021-06-28T12:48:17.063732Z",
     "iopub.status.busy": "2021-06-28T12:48:17.063088Z",
     "iopub.status.idle": "2021-06-28T12:48:17.072624Z",
     "shell.execute_reply": "2021-06-28T12:48:17.073120Z",
     "shell.execute_reply.started": "2021-06-28T12:41:03.830535Z"
    },
    "papermill": {
     "duration": 0.151038,
     "end_time": "2021-06-28T12:48:17.073309",
     "exception": false,
     "start_time": "2021-06-28T12:48:16.922271",
     "status": "completed"
    },
    "tags": []
   },
   "outputs": [],
   "source": [
    "for col in cat_col:\n",
    "    kidney[col]=le.fit_transform(kidney[col])"
   ]
  },
  {
   "cell_type": "code",
   "execution_count": 74,
   "id": "permanent-newton",
   "metadata": {
    "execution": {
     "iopub.execute_input": "2021-06-28T12:48:17.357168Z",
     "iopub.status.busy": "2021-06-28T12:48:17.356439Z",
     "iopub.status.idle": "2021-06-28T12:48:17.386843Z",
     "shell.execute_reply": "2021-06-28T12:48:17.386183Z",
     "shell.execute_reply.started": "2021-06-28T12:41:03.852025Z"
    },
    "papermill": {
     "duration": 0.172374,
     "end_time": "2021-06-28T12:48:17.387013",
     "exception": false,
     "start_time": "2021-06-28T12:48:17.214639",
     "status": "completed"
    },
    "tags": []
   },
   "outputs": [
    {
     "data": {
      "text/html": [
       "<div>\n",
       "<style scoped>\n",
       "    .dataframe tbody tr th:only-of-type {\n",
       "        vertical-align: middle;\n",
       "    }\n",
       "\n",
       "    .dataframe tbody tr th {\n",
       "        vertical-align: top;\n",
       "    }\n",
       "\n",
       "    .dataframe thead th {\n",
       "        text-align: right;\n",
       "    }\n",
       "</style>\n",
       "<table border=\"1\" class=\"dataframe\">\n",
       "  <thead>\n",
       "    <tr style=\"text-align: right;\">\n",
       "      <th></th>\n",
       "      <th>age</th>\n",
       "      <th>blood pressure</th>\n",
       "      <th>specific gravity</th>\n",
       "      <th>albumin</th>\n",
       "      <th>sugar</th>\n",
       "      <th>red blood cells</th>\n",
       "      <th>pus cell</th>\n",
       "      <th>pus cell clumps</th>\n",
       "      <th>bacteria</th>\n",
       "      <th>blood glucose random</th>\n",
       "      <th>...</th>\n",
       "      <th>packed cell volume</th>\n",
       "      <th>white blood cell count</th>\n",
       "      <th>red blood cell count</th>\n",
       "      <th>ypertension</th>\n",
       "      <th>diabetes mellitus</th>\n",
       "      <th>coronary artery disease</th>\n",
       "      <th>appetite</th>\n",
       "      <th>pedal edema</th>\n",
       "      <th>anemia</th>\n",
       "      <th>class</th>\n",
       "    </tr>\n",
       "  </thead>\n",
       "  <tbody>\n",
       "    <tr>\n",
       "      <th>0</th>\n",
       "      <td>48.0</td>\n",
       "      <td>80.0</td>\n",
       "      <td>1.020</td>\n",
       "      <td>1.0</td>\n",
       "      <td>0.0</td>\n",
       "      <td>0</td>\n",
       "      <td>1</td>\n",
       "      <td>0</td>\n",
       "      <td>0</td>\n",
       "      <td>121.0</td>\n",
       "      <td>...</td>\n",
       "      <td>44.0</td>\n",
       "      <td>7800.0</td>\n",
       "      <td>5.2</td>\n",
       "      <td>1</td>\n",
       "      <td>2</td>\n",
       "      <td>0</td>\n",
       "      <td>0</td>\n",
       "      <td>0</td>\n",
       "      <td>0</td>\n",
       "      <td>0</td>\n",
       "    </tr>\n",
       "    <tr>\n",
       "      <th>1</th>\n",
       "      <td>7.0</td>\n",
       "      <td>50.0</td>\n",
       "      <td>1.020</td>\n",
       "      <td>4.0</td>\n",
       "      <td>0.0</td>\n",
       "      <td>1</td>\n",
       "      <td>1</td>\n",
       "      <td>0</td>\n",
       "      <td>0</td>\n",
       "      <td>121.0</td>\n",
       "      <td>...</td>\n",
       "      <td>38.0</td>\n",
       "      <td>6000.0</td>\n",
       "      <td>4.8</td>\n",
       "      <td>0</td>\n",
       "      <td>1</td>\n",
       "      <td>0</td>\n",
       "      <td>0</td>\n",
       "      <td>0</td>\n",
       "      <td>0</td>\n",
       "      <td>0</td>\n",
       "    </tr>\n",
       "    <tr>\n",
       "      <th>2</th>\n",
       "      <td>62.0</td>\n",
       "      <td>80.0</td>\n",
       "      <td>1.010</td>\n",
       "      <td>2.0</td>\n",
       "      <td>3.0</td>\n",
       "      <td>1</td>\n",
       "      <td>1</td>\n",
       "      <td>0</td>\n",
       "      <td>0</td>\n",
       "      <td>423.0</td>\n",
       "      <td>...</td>\n",
       "      <td>31.0</td>\n",
       "      <td>7500.0</td>\n",
       "      <td>4.8</td>\n",
       "      <td>0</td>\n",
       "      <td>2</td>\n",
       "      <td>0</td>\n",
       "      <td>1</td>\n",
       "      <td>0</td>\n",
       "      <td>1</td>\n",
       "      <td>0</td>\n",
       "    </tr>\n",
       "    <tr>\n",
       "      <th>3</th>\n",
       "      <td>48.0</td>\n",
       "      <td>70.0</td>\n",
       "      <td>1.005</td>\n",
       "      <td>4.0</td>\n",
       "      <td>0.0</td>\n",
       "      <td>1</td>\n",
       "      <td>0</td>\n",
       "      <td>1</td>\n",
       "      <td>0</td>\n",
       "      <td>117.0</td>\n",
       "      <td>...</td>\n",
       "      <td>32.0</td>\n",
       "      <td>6700.0</td>\n",
       "      <td>3.9</td>\n",
       "      <td>1</td>\n",
       "      <td>1</td>\n",
       "      <td>0</td>\n",
       "      <td>1</td>\n",
       "      <td>1</td>\n",
       "      <td>1</td>\n",
       "      <td>0</td>\n",
       "    </tr>\n",
       "    <tr>\n",
       "      <th>4</th>\n",
       "      <td>51.0</td>\n",
       "      <td>80.0</td>\n",
       "      <td>1.010</td>\n",
       "      <td>2.0</td>\n",
       "      <td>0.0</td>\n",
       "      <td>1</td>\n",
       "      <td>1</td>\n",
       "      <td>0</td>\n",
       "      <td>0</td>\n",
       "      <td>106.0</td>\n",
       "      <td>...</td>\n",
       "      <td>35.0</td>\n",
       "      <td>7300.0</td>\n",
       "      <td>4.6</td>\n",
       "      <td>0</td>\n",
       "      <td>1</td>\n",
       "      <td>0</td>\n",
       "      <td>0</td>\n",
       "      <td>0</td>\n",
       "      <td>0</td>\n",
       "      <td>0</td>\n",
       "    </tr>\n",
       "  </tbody>\n",
       "</table>\n",
       "<p>5 rows × 25 columns</p>\n",
       "</div>"
      ],
      "text/plain": [
       "    age  blood pressure  specific gravity  albumin  sugar  red blood cells  \\\n",
       "0  48.0            80.0             1.020      1.0    0.0                0   \n",
       "1   7.0            50.0             1.020      4.0    0.0                1   \n",
       "2  62.0            80.0             1.010      2.0    3.0                1   \n",
       "3  48.0            70.0             1.005      4.0    0.0                1   \n",
       "4  51.0            80.0             1.010      2.0    0.0                1   \n",
       "\n",
       "    pus cell  pus cell clumps  bacteria  blood glucose random  ...  \\\n",
       "0          1                0         0                 121.0  ...   \n",
       "1          1                0         0                 121.0  ...   \n",
       "2          1                0         0                 423.0  ...   \n",
       "3          0                1         0                 117.0  ...   \n",
       "4          1                0         0                 106.0  ...   \n",
       "\n",
       "   packed cell volume  white blood cell count  red blood cell count  \\\n",
       "0                44.0                  7800.0                   5.2   \n",
       "1                38.0                  6000.0                   4.8   \n",
       "2                31.0                  7500.0                   4.8   \n",
       "3                32.0                  6700.0                   3.9   \n",
       "4                35.0                  7300.0                   4.6   \n",
       "\n",
       "   ypertension  diabetes mellitus  coronary artery disease  appetite  \\\n",
       "0            1                  2                        0         0   \n",
       "1            0                  1                        0         0   \n",
       "2            0                  2                        0         1   \n",
       "3            1                  1                        0         1   \n",
       "4            0                  1                        0         0   \n",
       "\n",
       "   pedal edema  anemia  class  \n",
       "0            0       0      0  \n",
       "1            0       0      0  \n",
       "2            0       1      0  \n",
       "3            1       1      0  \n",
       "4            0       0      0  \n",
       "\n",
       "[5 rows x 25 columns]"
      ]
     },
     "execution_count": 74,
     "metadata": {},
     "output_type": "execute_result"
    }
   ],
   "source": [
    "kidney.head()"
   ]
  },
  {
   "cell_type": "code",
   "execution_count": 75,
   "id": "identified-radio",
   "metadata": {
    "execution": {
     "iopub.execute_input": "2021-06-28T12:48:17.975735Z",
     "iopub.status.busy": "2021-06-28T12:48:17.974812Z",
     "iopub.status.idle": "2021-06-28T12:48:18.240507Z",
     "shell.execute_reply": "2021-06-28T12:48:18.241098Z",
     "shell.execute_reply.started": "2021-06-28T12:41:03.886250Z"
    },
    "papermill": {
     "duration": 0.43003,
     "end_time": "2021-06-28T12:48:18.241292",
     "exception": false,
     "start_time": "2021-06-28T12:48:17.811262",
     "status": "completed"
    },
    "tags": []
   },
   "outputs": [],
   "source": [
    "from sklearn.feature_selection import SelectKBest"
   ]
  },
  {
   "cell_type": "code",
   "execution_count": 76,
   "id": "furnished-snowboard",
   "metadata": {
    "execution": {
     "iopub.execute_input": "2021-06-28T12:48:18.523815Z",
     "iopub.status.busy": "2021-06-28T12:48:18.523153Z",
     "iopub.status.idle": "2021-06-28T12:48:18.526946Z",
     "shell.execute_reply": "2021-06-28T12:48:18.527481Z",
     "shell.execute_reply.started": "2021-06-28T12:41:04.130143Z"
    },
    "papermill": {
     "duration": 0.147029,
     "end_time": "2021-06-28T12:48:18.527656",
     "exception": false,
     "start_time": "2021-06-28T12:48:18.380627",
     "status": "completed"
    },
    "tags": []
   },
   "outputs": [],
   "source": [
    "from sklearn.feature_selection import chi2"
   ]
  },
  {
   "cell_type": "code",
   "execution_count": 77,
   "id": "forced-stick",
   "metadata": {
    "execution": {
     "iopub.execute_input": "2021-06-28T12:48:18.809832Z",
     "iopub.status.busy": "2021-06-28T12:48:18.809141Z",
     "iopub.status.idle": "2021-06-28T12:48:18.813224Z",
     "shell.execute_reply": "2021-06-28T12:48:18.813800Z",
     "shell.execute_reply.started": "2021-06-28T12:41:04.137068Z"
    },
    "papermill": {
     "duration": 0.146016,
     "end_time": "2021-06-28T12:48:18.813999",
     "exception": false,
     "start_time": "2021-06-28T12:48:18.667983",
     "status": "completed"
    },
    "tags": []
   },
   "outputs": [],
   "source": [
    "ind_col=[col for col in kidney.columns if col!='class']\n",
    "dep_col='class'"
   ]
  },
  {
   "cell_type": "code",
   "execution_count": 78,
   "id": "inclusive-honduras",
   "metadata": {
    "execution": {
     "iopub.execute_input": "2021-06-28T12:48:19.098972Z",
     "iopub.status.busy": "2021-06-28T12:48:19.098266Z",
     "iopub.status.idle": "2021-06-28T12:48:19.103989Z",
     "shell.execute_reply": "2021-06-28T12:48:19.104569Z",
     "shell.execute_reply.started": "2021-06-28T12:41:04.151022Z"
    },
    "papermill": {
     "duration": 0.149108,
     "end_time": "2021-06-28T12:48:19.104759",
     "exception": false,
     "start_time": "2021-06-28T12:48:18.955651",
     "status": "completed"
    },
    "tags": []
   },
   "outputs": [],
   "source": [
    "X=kidney[ind_col]\n",
    "y=kidney[dep_col]"
   ]
  },
  {
   "cell_type": "code",
   "execution_count": 79,
   "id": "charged-guatemala",
   "metadata": {
    "execution": {
     "iopub.execute_input": "2021-06-28T12:48:19.387986Z",
     "iopub.status.busy": "2021-06-28T12:48:19.387331Z",
     "iopub.status.idle": "2021-06-28T12:48:19.418773Z",
     "shell.execute_reply": "2021-06-28T12:48:19.417995Z",
     "shell.execute_reply.started": "2021-06-28T12:41:04.165475Z"
    },
    "papermill": {
     "duration": 0.172532,
     "end_time": "2021-06-28T12:48:19.418947",
     "exception": false,
     "start_time": "2021-06-28T12:48:19.246415",
     "status": "completed"
    },
    "tags": []
   },
   "outputs": [
    {
     "data": {
      "text/html": [
       "<div>\n",
       "<style scoped>\n",
       "    .dataframe tbody tr th:only-of-type {\n",
       "        vertical-align: middle;\n",
       "    }\n",
       "\n",
       "    .dataframe tbody tr th {\n",
       "        vertical-align: top;\n",
       "    }\n",
       "\n",
       "    .dataframe thead th {\n",
       "        text-align: right;\n",
       "    }\n",
       "</style>\n",
       "<table border=\"1\" class=\"dataframe\">\n",
       "  <thead>\n",
       "    <tr style=\"text-align: right;\">\n",
       "      <th></th>\n",
       "      <th>age</th>\n",
       "      <th>blood pressure</th>\n",
       "      <th>specific gravity</th>\n",
       "      <th>albumin</th>\n",
       "      <th>sugar</th>\n",
       "      <th>red blood cells</th>\n",
       "      <th>pus cell</th>\n",
       "      <th>pus cell clumps</th>\n",
       "      <th>bacteria</th>\n",
       "      <th>blood glucose random</th>\n",
       "      <th>...</th>\n",
       "      <th>haemoglobin</th>\n",
       "      <th>packed cell volume</th>\n",
       "      <th>white blood cell count</th>\n",
       "      <th>red blood cell count</th>\n",
       "      <th>ypertension</th>\n",
       "      <th>diabetes mellitus</th>\n",
       "      <th>coronary artery disease</th>\n",
       "      <th>appetite</th>\n",
       "      <th>pedal edema</th>\n",
       "      <th>anemia</th>\n",
       "    </tr>\n",
       "  </thead>\n",
       "  <tbody>\n",
       "    <tr>\n",
       "      <th>0</th>\n",
       "      <td>48.0</td>\n",
       "      <td>80.0</td>\n",
       "      <td>1.020</td>\n",
       "      <td>1.0</td>\n",
       "      <td>0.0</td>\n",
       "      <td>0</td>\n",
       "      <td>1</td>\n",
       "      <td>0</td>\n",
       "      <td>0</td>\n",
       "      <td>121.0</td>\n",
       "      <td>...</td>\n",
       "      <td>15.4</td>\n",
       "      <td>44.0</td>\n",
       "      <td>7800.0</td>\n",
       "      <td>5.2</td>\n",
       "      <td>1</td>\n",
       "      <td>2</td>\n",
       "      <td>0</td>\n",
       "      <td>0</td>\n",
       "      <td>0</td>\n",
       "      <td>0</td>\n",
       "    </tr>\n",
       "    <tr>\n",
       "      <th>1</th>\n",
       "      <td>7.0</td>\n",
       "      <td>50.0</td>\n",
       "      <td>1.020</td>\n",
       "      <td>4.0</td>\n",
       "      <td>0.0</td>\n",
       "      <td>1</td>\n",
       "      <td>1</td>\n",
       "      <td>0</td>\n",
       "      <td>0</td>\n",
       "      <td>121.0</td>\n",
       "      <td>...</td>\n",
       "      <td>11.3</td>\n",
       "      <td>38.0</td>\n",
       "      <td>6000.0</td>\n",
       "      <td>4.8</td>\n",
       "      <td>0</td>\n",
       "      <td>1</td>\n",
       "      <td>0</td>\n",
       "      <td>0</td>\n",
       "      <td>0</td>\n",
       "      <td>0</td>\n",
       "    </tr>\n",
       "    <tr>\n",
       "      <th>2</th>\n",
       "      <td>62.0</td>\n",
       "      <td>80.0</td>\n",
       "      <td>1.010</td>\n",
       "      <td>2.0</td>\n",
       "      <td>3.0</td>\n",
       "      <td>1</td>\n",
       "      <td>1</td>\n",
       "      <td>0</td>\n",
       "      <td>0</td>\n",
       "      <td>423.0</td>\n",
       "      <td>...</td>\n",
       "      <td>9.6</td>\n",
       "      <td>31.0</td>\n",
       "      <td>7500.0</td>\n",
       "      <td>4.8</td>\n",
       "      <td>0</td>\n",
       "      <td>2</td>\n",
       "      <td>0</td>\n",
       "      <td>1</td>\n",
       "      <td>0</td>\n",
       "      <td>1</td>\n",
       "    </tr>\n",
       "    <tr>\n",
       "      <th>3</th>\n",
       "      <td>48.0</td>\n",
       "      <td>70.0</td>\n",
       "      <td>1.005</td>\n",
       "      <td>4.0</td>\n",
       "      <td>0.0</td>\n",
       "      <td>1</td>\n",
       "      <td>0</td>\n",
       "      <td>1</td>\n",
       "      <td>0</td>\n",
       "      <td>117.0</td>\n",
       "      <td>...</td>\n",
       "      <td>11.2</td>\n",
       "      <td>32.0</td>\n",
       "      <td>6700.0</td>\n",
       "      <td>3.9</td>\n",
       "      <td>1</td>\n",
       "      <td>1</td>\n",
       "      <td>0</td>\n",
       "      <td>1</td>\n",
       "      <td>1</td>\n",
       "      <td>1</td>\n",
       "    </tr>\n",
       "    <tr>\n",
       "      <th>4</th>\n",
       "      <td>51.0</td>\n",
       "      <td>80.0</td>\n",
       "      <td>1.010</td>\n",
       "      <td>2.0</td>\n",
       "      <td>0.0</td>\n",
       "      <td>1</td>\n",
       "      <td>1</td>\n",
       "      <td>0</td>\n",
       "      <td>0</td>\n",
       "      <td>106.0</td>\n",
       "      <td>...</td>\n",
       "      <td>11.6</td>\n",
       "      <td>35.0</td>\n",
       "      <td>7300.0</td>\n",
       "      <td>4.6</td>\n",
       "      <td>0</td>\n",
       "      <td>1</td>\n",
       "      <td>0</td>\n",
       "      <td>0</td>\n",
       "      <td>0</td>\n",
       "      <td>0</td>\n",
       "    </tr>\n",
       "  </tbody>\n",
       "</table>\n",
       "<p>5 rows × 24 columns</p>\n",
       "</div>"
      ],
      "text/plain": [
       "    age  blood pressure  specific gravity  albumin  sugar  red blood cells  \\\n",
       "0  48.0            80.0             1.020      1.0    0.0                0   \n",
       "1   7.0            50.0             1.020      4.0    0.0                1   \n",
       "2  62.0            80.0             1.010      2.0    3.0                1   \n",
       "3  48.0            70.0             1.005      4.0    0.0                1   \n",
       "4  51.0            80.0             1.010      2.0    0.0                1   \n",
       "\n",
       "    pus cell  pus cell clumps  bacteria  blood glucose random  ...  \\\n",
       "0          1                0         0                 121.0  ...   \n",
       "1          1                0         0                 121.0  ...   \n",
       "2          1                0         0                 423.0  ...   \n",
       "3          0                1         0                 117.0  ...   \n",
       "4          1                0         0                 106.0  ...   \n",
       "\n",
       "   haemoglobin  packed cell volume  white blood cell count  \\\n",
       "0         15.4                44.0                  7800.0   \n",
       "1         11.3                38.0                  6000.0   \n",
       "2          9.6                31.0                  7500.0   \n",
       "3         11.2                32.0                  6700.0   \n",
       "4         11.6                35.0                  7300.0   \n",
       "\n",
       "   red blood cell count  ypertension  diabetes mellitus  \\\n",
       "0                   5.2            1                  2   \n",
       "1                   4.8            0                  1   \n",
       "2                   4.8            0                  2   \n",
       "3                   3.9            1                  1   \n",
       "4                   4.6            0                  1   \n",
       "\n",
       "   coronary artery disease  appetite  pedal edema  anemia  \n",
       "0                        0         0            0       0  \n",
       "1                        0         0            0       0  \n",
       "2                        0         1            0       1  \n",
       "3                        0         1            1       1  \n",
       "4                        0         0            0       0  \n",
       "\n",
       "[5 rows x 24 columns]"
      ]
     },
     "execution_count": 79,
     "metadata": {},
     "output_type": "execute_result"
    }
   ],
   "source": [
    "X.head()"
   ]
  },
  {
   "cell_type": "code",
   "execution_count": 80,
   "id": "stylish-matrix",
   "metadata": {
    "execution": {
     "iopub.execute_input": "2021-06-28T12:48:19.711259Z",
     "iopub.status.busy": "2021-06-28T12:48:19.710628Z",
     "iopub.status.idle": "2021-06-28T12:48:19.713965Z",
     "shell.execute_reply": "2021-06-28T12:48:19.714465Z",
     "shell.execute_reply.started": "2021-06-28T12:41:04.200208Z"
    },
    "papermill": {
     "duration": 0.153388,
     "end_time": "2021-06-28T12:48:19.714649",
     "exception": false,
     "start_time": "2021-06-28T12:48:19.561261",
     "status": "completed"
    },
    "tags": []
   },
   "outputs": [],
   "source": [
    "imp_features=SelectKBest(score_func=chi2,k=20)"
   ]
  },
  {
   "cell_type": "code",
   "execution_count": 81,
   "id": "falling-dayton",
   "metadata": {
    "execution": {
     "iopub.execute_input": "2021-06-28T12:48:20.002300Z",
     "iopub.status.busy": "2021-06-28T12:48:20.001635Z",
     "iopub.status.idle": "2021-06-28T12:48:20.013596Z",
     "shell.execute_reply": "2021-06-28T12:48:20.012851Z",
     "shell.execute_reply.started": "2021-06-28T12:41:04.212807Z"
    },
    "papermill": {
     "duration": 0.15682,
     "end_time": "2021-06-28T12:48:20.013741",
     "exception": false,
     "start_time": "2021-06-28T12:48:19.856921",
     "status": "completed"
    },
    "tags": []
   },
   "outputs": [],
   "source": [
    "imp_features=imp_features.fit(X,y)"
   ]
  },
  {
   "cell_type": "code",
   "execution_count": 82,
   "id": "expensive-married",
   "metadata": {
    "execution": {
     "iopub.execute_input": "2021-06-28T12:48:20.307762Z",
     "iopub.status.busy": "2021-06-28T12:48:20.306875Z",
     "iopub.status.idle": "2021-06-28T12:48:20.314155Z",
     "shell.execute_reply": "2021-06-28T12:48:20.313613Z",
     "shell.execute_reply.started": "2021-06-28T12:41:04.232938Z"
    },
    "papermill": {
     "duration": 0.157645,
     "end_time": "2021-06-28T12:48:20.314300",
     "exception": false,
     "start_time": "2021-06-28T12:48:20.156655",
     "status": "completed"
    },
    "tags": []
   },
   "outputs": [
    {
     "data": {
      "text/plain": [
       "SelectKBest(k=20, score_func=<function chi2 at 0x000001B799E66160>)"
      ]
     },
     "execution_count": 82,
     "metadata": {},
     "output_type": "execute_result"
    }
   ],
   "source": [
    "imp_features"
   ]
  },
  {
   "cell_type": "code",
   "execution_count": 83,
   "id": "sized-denver",
   "metadata": {
    "execution": {
     "iopub.execute_input": "2021-06-28T12:48:20.602061Z",
     "iopub.status.busy": "2021-06-28T12:48:20.600971Z",
     "iopub.status.idle": "2021-06-28T12:48:20.605654Z",
     "shell.execute_reply": "2021-06-28T12:48:20.605018Z",
     "shell.execute_reply.started": "2021-06-28T12:41:04.244079Z"
    },
    "papermill": {
     "duration": 0.150983,
     "end_time": "2021-06-28T12:48:20.605799",
     "exception": false,
     "start_time": "2021-06-28T12:48:20.454816",
     "status": "completed"
    },
    "tags": []
   },
   "outputs": [
    {
     "data": {
      "text/plain": [
       "array([1.15859940e+02, 8.17867015e+01, 5.03531613e-03, 2.16000000e+02,\n",
       "       9.48000000e+01, 9.54076367e+00, 1.40034188e+01, 2.52000000e+01,\n",
       "       1.32000000e+01, 2.24165129e+03, 2.34309714e+03, 3.57792101e+02,\n",
       "       2.75587488e+01, 2.95133869e+00, 1.23856342e+02, 3.08181415e+02,\n",
       "       9.70105039e+03, 1.91130252e+01, 8.82000000e+01, 2.04392523e+01,\n",
       "       2.04000000e+01, 4.92000000e+01, 4.56000000e+01, 3.60000000e+01])"
      ]
     },
     "execution_count": 83,
     "metadata": {},
     "output_type": "execute_result"
    }
   ],
   "source": [
    "imp_features.scores_"
   ]
  },
  {
   "cell_type": "code",
   "execution_count": 84,
   "id": "known-suite",
   "metadata": {
    "execution": {
     "iopub.execute_input": "2021-06-28T12:48:20.900795Z",
     "iopub.status.busy": "2021-06-28T12:48:20.900137Z",
     "iopub.status.idle": "2021-06-28T12:48:20.903848Z",
     "shell.execute_reply": "2021-06-28T12:48:20.903305Z",
     "shell.execute_reply.started": "2021-06-28T12:41:04.254734Z"
    },
    "papermill": {
     "duration": 0.156141,
     "end_time": "2021-06-28T12:48:20.904012",
     "exception": false,
     "start_time": "2021-06-28T12:48:20.747871",
     "status": "completed"
    },
    "tags": []
   },
   "outputs": [],
   "source": [
    "datascore=pd.DataFrame(imp_features.scores_,columns=['Score'])"
   ]
  },
  {
   "cell_type": "code",
   "execution_count": 85,
   "id": "narrow-calculation",
   "metadata": {
    "execution": {
     "iopub.execute_input": "2021-06-28T12:48:21.204763Z",
     "iopub.status.busy": "2021-06-28T12:48:21.201017Z",
     "iopub.status.idle": "2021-06-28T12:48:21.209902Z",
     "shell.execute_reply": "2021-06-28T12:48:21.209282Z",
     "shell.execute_reply.started": "2021-06-28T12:41:04.270031Z"
    },
    "papermill": {
     "duration": 0.161023,
     "end_time": "2021-06-28T12:48:21.210066",
     "exception": false,
     "start_time": "2021-06-28T12:48:21.049043",
     "status": "completed"
    },
    "tags": []
   },
   "outputs": [
    {
     "data": {
      "text/html": [
       "<div>\n",
       "<style scoped>\n",
       "    .dataframe tbody tr th:only-of-type {\n",
       "        vertical-align: middle;\n",
       "    }\n",
       "\n",
       "    .dataframe tbody tr th {\n",
       "        vertical-align: top;\n",
       "    }\n",
       "\n",
       "    .dataframe thead th {\n",
       "        text-align: right;\n",
       "    }\n",
       "</style>\n",
       "<table border=\"1\" class=\"dataframe\">\n",
       "  <thead>\n",
       "    <tr style=\"text-align: right;\">\n",
       "      <th></th>\n",
       "      <th>Score</th>\n",
       "    </tr>\n",
       "  </thead>\n",
       "  <tbody>\n",
       "    <tr>\n",
       "      <th>0</th>\n",
       "      <td>115.859940</td>\n",
       "    </tr>\n",
       "    <tr>\n",
       "      <th>1</th>\n",
       "      <td>81.786701</td>\n",
       "    </tr>\n",
       "    <tr>\n",
       "      <th>2</th>\n",
       "      <td>0.005035</td>\n",
       "    </tr>\n",
       "    <tr>\n",
       "      <th>3</th>\n",
       "      <td>216.000000</td>\n",
       "    </tr>\n",
       "    <tr>\n",
       "      <th>4</th>\n",
       "      <td>94.800000</td>\n",
       "    </tr>\n",
       "    <tr>\n",
       "      <th>5</th>\n",
       "      <td>9.540764</td>\n",
       "    </tr>\n",
       "    <tr>\n",
       "      <th>6</th>\n",
       "      <td>14.003419</td>\n",
       "    </tr>\n",
       "    <tr>\n",
       "      <th>7</th>\n",
       "      <td>25.200000</td>\n",
       "    </tr>\n",
       "    <tr>\n",
       "      <th>8</th>\n",
       "      <td>13.200000</td>\n",
       "    </tr>\n",
       "    <tr>\n",
       "      <th>9</th>\n",
       "      <td>2241.651289</td>\n",
       "    </tr>\n",
       "    <tr>\n",
       "      <th>10</th>\n",
       "      <td>2343.097145</td>\n",
       "    </tr>\n",
       "    <tr>\n",
       "      <th>11</th>\n",
       "      <td>357.792101</td>\n",
       "    </tr>\n",
       "    <tr>\n",
       "      <th>12</th>\n",
       "      <td>27.558749</td>\n",
       "    </tr>\n",
       "    <tr>\n",
       "      <th>13</th>\n",
       "      <td>2.951339</td>\n",
       "    </tr>\n",
       "    <tr>\n",
       "      <th>14</th>\n",
       "      <td>123.856342</td>\n",
       "    </tr>\n",
       "    <tr>\n",
       "      <th>15</th>\n",
       "      <td>308.181415</td>\n",
       "    </tr>\n",
       "    <tr>\n",
       "      <th>16</th>\n",
       "      <td>9701.050391</td>\n",
       "    </tr>\n",
       "    <tr>\n",
       "      <th>17</th>\n",
       "      <td>19.113025</td>\n",
       "    </tr>\n",
       "    <tr>\n",
       "      <th>18</th>\n",
       "      <td>88.200000</td>\n",
       "    </tr>\n",
       "    <tr>\n",
       "      <th>19</th>\n",
       "      <td>20.439252</td>\n",
       "    </tr>\n",
       "    <tr>\n",
       "      <th>20</th>\n",
       "      <td>20.400000</td>\n",
       "    </tr>\n",
       "    <tr>\n",
       "      <th>21</th>\n",
       "      <td>49.200000</td>\n",
       "    </tr>\n",
       "    <tr>\n",
       "      <th>22</th>\n",
       "      <td>45.600000</td>\n",
       "    </tr>\n",
       "    <tr>\n",
       "      <th>23</th>\n",
       "      <td>36.000000</td>\n",
       "    </tr>\n",
       "  </tbody>\n",
       "</table>\n",
       "</div>"
      ],
      "text/plain": [
       "          Score\n",
       "0    115.859940\n",
       "1     81.786701\n",
       "2      0.005035\n",
       "3    216.000000\n",
       "4     94.800000\n",
       "5      9.540764\n",
       "6     14.003419\n",
       "7     25.200000\n",
       "8     13.200000\n",
       "9   2241.651289\n",
       "10  2343.097145\n",
       "11   357.792101\n",
       "12    27.558749\n",
       "13     2.951339\n",
       "14   123.856342\n",
       "15   308.181415\n",
       "16  9701.050391\n",
       "17    19.113025\n",
       "18    88.200000\n",
       "19    20.439252\n",
       "20    20.400000\n",
       "21    49.200000\n",
       "22    45.600000\n",
       "23    36.000000"
      ]
     },
     "execution_count": 85,
     "metadata": {},
     "output_type": "execute_result"
    }
   ],
   "source": [
    "datascore"
   ]
  },
  {
   "cell_type": "code",
   "execution_count": 86,
   "id": "surface-iraqi",
   "metadata": {
    "execution": {
     "iopub.execute_input": "2021-06-28T12:48:21.507761Z",
     "iopub.status.busy": "2021-06-28T12:48:21.506728Z",
     "iopub.status.idle": "2021-06-28T12:48:21.511778Z",
     "shell.execute_reply": "2021-06-28T12:48:21.511281Z",
     "shell.execute_reply.started": "2021-06-28T12:41:04.288921Z"
    },
    "papermill": {
     "duration": 0.15813,
     "end_time": "2021-06-28T12:48:21.511945",
     "exception": false,
     "start_time": "2021-06-28T12:48:21.353815",
     "status": "completed"
    },
    "tags": []
   },
   "outputs": [
    {
     "data": {
      "text/plain": [
       "Index(['age', 'blood pressure', 'specific gravity', 'albumin', 'sugar',\n",
       "       'red blood cells', ' pus cell', 'pus cell clumps', 'bacteria',\n",
       "       'blood glucose random', 'blood urea', 'serum creatinine', 'sodium',\n",
       "       'potassium', 'haemoglobin', 'packed cell volume',\n",
       "       'white blood cell count', 'red blood cell count', 'ypertension',\n",
       "       'diabetes mellitus', 'coronary artery disease', 'appetite',\n",
       "       'pedal edema', 'anemia'],\n",
       "      dtype='object')"
      ]
     },
     "execution_count": 86,
     "metadata": {},
     "output_type": "execute_result"
    }
   ],
   "source": [
    "X.columns"
   ]
  },
  {
   "cell_type": "code",
   "execution_count": 87,
   "id": "ultimate-digit",
   "metadata": {
    "execution": {
     "iopub.execute_input": "2021-06-28T12:48:21.802291Z",
     "iopub.status.busy": "2021-06-28T12:48:21.801595Z",
     "iopub.status.idle": "2021-06-28T12:48:21.805361Z",
     "shell.execute_reply": "2021-06-28T12:48:21.804786Z",
     "shell.execute_reply.started": "2021-06-28T12:41:04.304029Z"
    },
    "papermill": {
     "duration": 0.151777,
     "end_time": "2021-06-28T12:48:21.805507",
     "exception": false,
     "start_time": "2021-06-28T12:48:21.653730",
     "status": "completed"
    },
    "tags": []
   },
   "outputs": [],
   "source": [
    "dfcols=pd.DataFrame(X.columns)"
   ]
  },
  {
   "cell_type": "code",
   "execution_count": 88,
   "id": "boxed-singing",
   "metadata": {
    "execution": {
     "iopub.execute_input": "2021-06-28T12:48:22.099387Z",
     "iopub.status.busy": "2021-06-28T12:48:22.098376Z",
     "iopub.status.idle": "2021-06-28T12:48:22.103373Z",
     "shell.execute_reply": "2021-06-28T12:48:22.102760Z",
     "shell.execute_reply.started": "2021-06-28T12:41:04.314426Z"
    },
    "papermill": {
     "duration": 0.15645,
     "end_time": "2021-06-28T12:48:22.103525",
     "exception": false,
     "start_time": "2021-06-28T12:48:21.947075",
     "status": "completed"
    },
    "tags": []
   },
   "outputs": [
    {
     "data": {
      "text/html": [
       "<div>\n",
       "<style scoped>\n",
       "    .dataframe tbody tr th:only-of-type {\n",
       "        vertical-align: middle;\n",
       "    }\n",
       "\n",
       "    .dataframe tbody tr th {\n",
       "        vertical-align: top;\n",
       "    }\n",
       "\n",
       "    .dataframe thead th {\n",
       "        text-align: right;\n",
       "    }\n",
       "</style>\n",
       "<table border=\"1\" class=\"dataframe\">\n",
       "  <thead>\n",
       "    <tr style=\"text-align: right;\">\n",
       "      <th></th>\n",
       "      <th>0</th>\n",
       "    </tr>\n",
       "  </thead>\n",
       "  <tbody>\n",
       "    <tr>\n",
       "      <th>0</th>\n",
       "      <td>age</td>\n",
       "    </tr>\n",
       "    <tr>\n",
       "      <th>1</th>\n",
       "      <td>blood pressure</td>\n",
       "    </tr>\n",
       "    <tr>\n",
       "      <th>2</th>\n",
       "      <td>specific gravity</td>\n",
       "    </tr>\n",
       "    <tr>\n",
       "      <th>3</th>\n",
       "      <td>albumin</td>\n",
       "    </tr>\n",
       "    <tr>\n",
       "      <th>4</th>\n",
       "      <td>sugar</td>\n",
       "    </tr>\n",
       "    <tr>\n",
       "      <th>5</th>\n",
       "      <td>red blood cells</td>\n",
       "    </tr>\n",
       "    <tr>\n",
       "      <th>6</th>\n",
       "      <td>pus cell</td>\n",
       "    </tr>\n",
       "    <tr>\n",
       "      <th>7</th>\n",
       "      <td>pus cell clumps</td>\n",
       "    </tr>\n",
       "    <tr>\n",
       "      <th>8</th>\n",
       "      <td>bacteria</td>\n",
       "    </tr>\n",
       "    <tr>\n",
       "      <th>9</th>\n",
       "      <td>blood glucose random</td>\n",
       "    </tr>\n",
       "    <tr>\n",
       "      <th>10</th>\n",
       "      <td>blood urea</td>\n",
       "    </tr>\n",
       "    <tr>\n",
       "      <th>11</th>\n",
       "      <td>serum creatinine</td>\n",
       "    </tr>\n",
       "    <tr>\n",
       "      <th>12</th>\n",
       "      <td>sodium</td>\n",
       "    </tr>\n",
       "    <tr>\n",
       "      <th>13</th>\n",
       "      <td>potassium</td>\n",
       "    </tr>\n",
       "    <tr>\n",
       "      <th>14</th>\n",
       "      <td>haemoglobin</td>\n",
       "    </tr>\n",
       "    <tr>\n",
       "      <th>15</th>\n",
       "      <td>packed cell volume</td>\n",
       "    </tr>\n",
       "    <tr>\n",
       "      <th>16</th>\n",
       "      <td>white blood cell count</td>\n",
       "    </tr>\n",
       "    <tr>\n",
       "      <th>17</th>\n",
       "      <td>red blood cell count</td>\n",
       "    </tr>\n",
       "    <tr>\n",
       "      <th>18</th>\n",
       "      <td>ypertension</td>\n",
       "    </tr>\n",
       "    <tr>\n",
       "      <th>19</th>\n",
       "      <td>diabetes mellitus</td>\n",
       "    </tr>\n",
       "    <tr>\n",
       "      <th>20</th>\n",
       "      <td>coronary artery disease</td>\n",
       "    </tr>\n",
       "    <tr>\n",
       "      <th>21</th>\n",
       "      <td>appetite</td>\n",
       "    </tr>\n",
       "    <tr>\n",
       "      <th>22</th>\n",
       "      <td>pedal edema</td>\n",
       "    </tr>\n",
       "    <tr>\n",
       "      <th>23</th>\n",
       "      <td>anemia</td>\n",
       "    </tr>\n",
       "  </tbody>\n",
       "</table>\n",
       "</div>"
      ],
      "text/plain": [
       "                          0\n",
       "0                       age\n",
       "1            blood pressure\n",
       "2          specific gravity\n",
       "3                   albumin\n",
       "4                     sugar\n",
       "5           red blood cells\n",
       "6                  pus cell\n",
       "7           pus cell clumps\n",
       "8                  bacteria\n",
       "9      blood glucose random\n",
       "10               blood urea\n",
       "11         serum creatinine\n",
       "12                   sodium\n",
       "13                potassium\n",
       "14              haemoglobin\n",
       "15       packed cell volume\n",
       "16   white blood cell count\n",
       "17     red blood cell count\n",
       "18              ypertension\n",
       "19        diabetes mellitus\n",
       "20  coronary artery disease\n",
       "21                 appetite\n",
       "22              pedal edema\n",
       "23                   anemia"
      ]
     },
     "execution_count": 88,
     "metadata": {},
     "output_type": "execute_result"
    }
   ],
   "source": [
    "dfcols"
   ]
  },
  {
   "cell_type": "code",
   "execution_count": 89,
   "id": "fixed-interaction",
   "metadata": {
    "execution": {
     "iopub.execute_input": "2021-06-28T12:48:22.405171Z",
     "iopub.status.busy": "2021-06-28T12:48:22.404421Z",
     "iopub.status.idle": "2021-06-28T12:48:22.410188Z",
     "shell.execute_reply": "2021-06-28T12:48:22.409484Z",
     "shell.execute_reply.started": "2021-06-28T12:41:04.335046Z"
    },
    "papermill": {
     "duration": 0.16024,
     "end_time": "2021-06-28T12:48:22.410341",
     "exception": false,
     "start_time": "2021-06-28T12:48:22.250101",
     "status": "completed"
    },
    "tags": []
   },
   "outputs": [
    {
     "data": {
      "text/html": [
       "<div>\n",
       "<style scoped>\n",
       "    .dataframe tbody tr th:only-of-type {\n",
       "        vertical-align: middle;\n",
       "    }\n",
       "\n",
       "    .dataframe tbody tr th {\n",
       "        vertical-align: top;\n",
       "    }\n",
       "\n",
       "    .dataframe thead th {\n",
       "        text-align: right;\n",
       "    }\n",
       "</style>\n",
       "<table border=\"1\" class=\"dataframe\">\n",
       "  <thead>\n",
       "    <tr style=\"text-align: right;\">\n",
       "      <th></th>\n",
       "      <th>0</th>\n",
       "      <th>Score</th>\n",
       "    </tr>\n",
       "  </thead>\n",
       "  <tbody>\n",
       "    <tr>\n",
       "      <th>0</th>\n",
       "      <td>age</td>\n",
       "      <td>115.859940</td>\n",
       "    </tr>\n",
       "    <tr>\n",
       "      <th>1</th>\n",
       "      <td>blood pressure</td>\n",
       "      <td>81.786701</td>\n",
       "    </tr>\n",
       "    <tr>\n",
       "      <th>2</th>\n",
       "      <td>specific gravity</td>\n",
       "      <td>0.005035</td>\n",
       "    </tr>\n",
       "    <tr>\n",
       "      <th>3</th>\n",
       "      <td>albumin</td>\n",
       "      <td>216.000000</td>\n",
       "    </tr>\n",
       "    <tr>\n",
       "      <th>4</th>\n",
       "      <td>sugar</td>\n",
       "      <td>94.800000</td>\n",
       "    </tr>\n",
       "    <tr>\n",
       "      <th>5</th>\n",
       "      <td>red blood cells</td>\n",
       "      <td>9.540764</td>\n",
       "    </tr>\n",
       "    <tr>\n",
       "      <th>6</th>\n",
       "      <td>pus cell</td>\n",
       "      <td>14.003419</td>\n",
       "    </tr>\n",
       "    <tr>\n",
       "      <th>7</th>\n",
       "      <td>pus cell clumps</td>\n",
       "      <td>25.200000</td>\n",
       "    </tr>\n",
       "    <tr>\n",
       "      <th>8</th>\n",
       "      <td>bacteria</td>\n",
       "      <td>13.200000</td>\n",
       "    </tr>\n",
       "    <tr>\n",
       "      <th>9</th>\n",
       "      <td>blood glucose random</td>\n",
       "      <td>2241.651289</td>\n",
       "    </tr>\n",
       "    <tr>\n",
       "      <th>10</th>\n",
       "      <td>blood urea</td>\n",
       "      <td>2343.097145</td>\n",
       "    </tr>\n",
       "    <tr>\n",
       "      <th>11</th>\n",
       "      <td>serum creatinine</td>\n",
       "      <td>357.792101</td>\n",
       "    </tr>\n",
       "    <tr>\n",
       "      <th>12</th>\n",
       "      <td>sodium</td>\n",
       "      <td>27.558749</td>\n",
       "    </tr>\n",
       "    <tr>\n",
       "      <th>13</th>\n",
       "      <td>potassium</td>\n",
       "      <td>2.951339</td>\n",
       "    </tr>\n",
       "    <tr>\n",
       "      <th>14</th>\n",
       "      <td>haemoglobin</td>\n",
       "      <td>123.856342</td>\n",
       "    </tr>\n",
       "    <tr>\n",
       "      <th>15</th>\n",
       "      <td>packed cell volume</td>\n",
       "      <td>308.181415</td>\n",
       "    </tr>\n",
       "    <tr>\n",
       "      <th>16</th>\n",
       "      <td>white blood cell count</td>\n",
       "      <td>9701.050391</td>\n",
       "    </tr>\n",
       "    <tr>\n",
       "      <th>17</th>\n",
       "      <td>red blood cell count</td>\n",
       "      <td>19.113025</td>\n",
       "    </tr>\n",
       "    <tr>\n",
       "      <th>18</th>\n",
       "      <td>ypertension</td>\n",
       "      <td>88.200000</td>\n",
       "    </tr>\n",
       "    <tr>\n",
       "      <th>19</th>\n",
       "      <td>diabetes mellitus</td>\n",
       "      <td>20.439252</td>\n",
       "    </tr>\n",
       "    <tr>\n",
       "      <th>20</th>\n",
       "      <td>coronary artery disease</td>\n",
       "      <td>20.400000</td>\n",
       "    </tr>\n",
       "    <tr>\n",
       "      <th>21</th>\n",
       "      <td>appetite</td>\n",
       "      <td>49.200000</td>\n",
       "    </tr>\n",
       "    <tr>\n",
       "      <th>22</th>\n",
       "      <td>pedal edema</td>\n",
       "      <td>45.600000</td>\n",
       "    </tr>\n",
       "    <tr>\n",
       "      <th>23</th>\n",
       "      <td>anemia</td>\n",
       "      <td>36.000000</td>\n",
       "    </tr>\n",
       "  </tbody>\n",
       "</table>\n",
       "</div>"
      ],
      "text/plain": [
       "                          0        Score\n",
       "0                       age   115.859940\n",
       "1            blood pressure    81.786701\n",
       "2          specific gravity     0.005035\n",
       "3                   albumin   216.000000\n",
       "4                     sugar    94.800000\n",
       "5           red blood cells     9.540764\n",
       "6                  pus cell    14.003419\n",
       "7           pus cell clumps    25.200000\n",
       "8                  bacteria    13.200000\n",
       "9      blood glucose random  2241.651289\n",
       "10               blood urea  2343.097145\n",
       "11         serum creatinine   357.792101\n",
       "12                   sodium    27.558749\n",
       "13                potassium     2.951339\n",
       "14              haemoglobin   123.856342\n",
       "15       packed cell volume   308.181415\n",
       "16   white blood cell count  9701.050391\n",
       "17     red blood cell count    19.113025\n",
       "18              ypertension    88.200000\n",
       "19        diabetes mellitus    20.439252\n",
       "20  coronary artery disease    20.400000\n",
       "21                 appetite    49.200000\n",
       "22              pedal edema    45.600000\n",
       "23                   anemia    36.000000"
      ]
     },
     "execution_count": 89,
     "metadata": {},
     "output_type": "execute_result"
    }
   ],
   "source": [
    "features_rank=pd.concat([dfcols,datascore],axis=1)\n",
    "features_rank"
   ]
  },
  {
   "cell_type": "code",
   "execution_count": 90,
   "id": "attempted-buffer",
   "metadata": {
    "execution": {
     "iopub.execute_input": "2021-06-28T12:48:22.714885Z",
     "iopub.status.busy": "2021-06-28T12:48:22.714260Z",
     "iopub.status.idle": "2021-06-28T12:48:22.717779Z",
     "shell.execute_reply": "2021-06-28T12:48:22.717271Z",
     "shell.execute_reply.started": "2021-06-28T12:41:04.357461Z"
    },
    "papermill": {
     "duration": 0.152492,
     "end_time": "2021-06-28T12:48:22.717936",
     "exception": false,
     "start_time": "2021-06-28T12:48:22.565444",
     "status": "completed"
    },
    "tags": []
   },
   "outputs": [],
   "source": [
    "features_rank.columns=['features','score']"
   ]
  },
  {
   "cell_type": "code",
   "execution_count": 91,
   "id": "civil-notification",
   "metadata": {
    "execution": {
     "iopub.execute_input": "2021-06-28T12:48:23.037319Z",
     "iopub.status.busy": "2021-06-28T12:48:23.036344Z",
     "iopub.status.idle": "2021-06-28T12:48:23.040746Z",
     "shell.execute_reply": "2021-06-28T12:48:23.041218Z",
     "shell.execute_reply.started": "2021-06-28T12:41:04.368120Z"
    },
    "papermill": {
     "duration": 0.180185,
     "end_time": "2021-06-28T12:48:23.041396",
     "exception": false,
     "start_time": "2021-06-28T12:48:22.861211",
     "status": "completed"
    },
    "tags": []
   },
   "outputs": [
    {
     "data": {
      "text/html": [
       "<div>\n",
       "<style scoped>\n",
       "    .dataframe tbody tr th:only-of-type {\n",
       "        vertical-align: middle;\n",
       "    }\n",
       "\n",
       "    .dataframe tbody tr th {\n",
       "        vertical-align: top;\n",
       "    }\n",
       "\n",
       "    .dataframe thead th {\n",
       "        text-align: right;\n",
       "    }\n",
       "</style>\n",
       "<table border=\"1\" class=\"dataframe\">\n",
       "  <thead>\n",
       "    <tr style=\"text-align: right;\">\n",
       "      <th></th>\n",
       "      <th>features</th>\n",
       "      <th>score</th>\n",
       "    </tr>\n",
       "  </thead>\n",
       "  <tbody>\n",
       "    <tr>\n",
       "      <th>0</th>\n",
       "      <td>age</td>\n",
       "      <td>115.859940</td>\n",
       "    </tr>\n",
       "    <tr>\n",
       "      <th>1</th>\n",
       "      <td>blood pressure</td>\n",
       "      <td>81.786701</td>\n",
       "    </tr>\n",
       "    <tr>\n",
       "      <th>2</th>\n",
       "      <td>specific gravity</td>\n",
       "      <td>0.005035</td>\n",
       "    </tr>\n",
       "    <tr>\n",
       "      <th>3</th>\n",
       "      <td>albumin</td>\n",
       "      <td>216.000000</td>\n",
       "    </tr>\n",
       "    <tr>\n",
       "      <th>4</th>\n",
       "      <td>sugar</td>\n",
       "      <td>94.800000</td>\n",
       "    </tr>\n",
       "    <tr>\n",
       "      <th>5</th>\n",
       "      <td>red blood cells</td>\n",
       "      <td>9.540764</td>\n",
       "    </tr>\n",
       "    <tr>\n",
       "      <th>6</th>\n",
       "      <td>pus cell</td>\n",
       "      <td>14.003419</td>\n",
       "    </tr>\n",
       "    <tr>\n",
       "      <th>7</th>\n",
       "      <td>pus cell clumps</td>\n",
       "      <td>25.200000</td>\n",
       "    </tr>\n",
       "    <tr>\n",
       "      <th>8</th>\n",
       "      <td>bacteria</td>\n",
       "      <td>13.200000</td>\n",
       "    </tr>\n",
       "    <tr>\n",
       "      <th>9</th>\n",
       "      <td>blood glucose random</td>\n",
       "      <td>2241.651289</td>\n",
       "    </tr>\n",
       "    <tr>\n",
       "      <th>10</th>\n",
       "      <td>blood urea</td>\n",
       "      <td>2343.097145</td>\n",
       "    </tr>\n",
       "    <tr>\n",
       "      <th>11</th>\n",
       "      <td>serum creatinine</td>\n",
       "      <td>357.792101</td>\n",
       "    </tr>\n",
       "    <tr>\n",
       "      <th>12</th>\n",
       "      <td>sodium</td>\n",
       "      <td>27.558749</td>\n",
       "    </tr>\n",
       "    <tr>\n",
       "      <th>13</th>\n",
       "      <td>potassium</td>\n",
       "      <td>2.951339</td>\n",
       "    </tr>\n",
       "    <tr>\n",
       "      <th>14</th>\n",
       "      <td>haemoglobin</td>\n",
       "      <td>123.856342</td>\n",
       "    </tr>\n",
       "    <tr>\n",
       "      <th>15</th>\n",
       "      <td>packed cell volume</td>\n",
       "      <td>308.181415</td>\n",
       "    </tr>\n",
       "    <tr>\n",
       "      <th>16</th>\n",
       "      <td>white blood cell count</td>\n",
       "      <td>9701.050391</td>\n",
       "    </tr>\n",
       "    <tr>\n",
       "      <th>17</th>\n",
       "      <td>red blood cell count</td>\n",
       "      <td>19.113025</td>\n",
       "    </tr>\n",
       "    <tr>\n",
       "      <th>18</th>\n",
       "      <td>ypertension</td>\n",
       "      <td>88.200000</td>\n",
       "    </tr>\n",
       "    <tr>\n",
       "      <th>19</th>\n",
       "      <td>diabetes mellitus</td>\n",
       "      <td>20.439252</td>\n",
       "    </tr>\n",
       "    <tr>\n",
       "      <th>20</th>\n",
       "      <td>coronary artery disease</td>\n",
       "      <td>20.400000</td>\n",
       "    </tr>\n",
       "    <tr>\n",
       "      <th>21</th>\n",
       "      <td>appetite</td>\n",
       "      <td>49.200000</td>\n",
       "    </tr>\n",
       "    <tr>\n",
       "      <th>22</th>\n",
       "      <td>pedal edema</td>\n",
       "      <td>45.600000</td>\n",
       "    </tr>\n",
       "    <tr>\n",
       "      <th>23</th>\n",
       "      <td>anemia</td>\n",
       "      <td>36.000000</td>\n",
       "    </tr>\n",
       "  </tbody>\n",
       "</table>\n",
       "</div>"
      ],
      "text/plain": [
       "                   features        score\n",
       "0                       age   115.859940\n",
       "1            blood pressure    81.786701\n",
       "2          specific gravity     0.005035\n",
       "3                   albumin   216.000000\n",
       "4                     sugar    94.800000\n",
       "5           red blood cells     9.540764\n",
       "6                  pus cell    14.003419\n",
       "7           pus cell clumps    25.200000\n",
       "8                  bacteria    13.200000\n",
       "9      blood glucose random  2241.651289\n",
       "10               blood urea  2343.097145\n",
       "11         serum creatinine   357.792101\n",
       "12                   sodium    27.558749\n",
       "13                potassium     2.951339\n",
       "14              haemoglobin   123.856342\n",
       "15       packed cell volume   308.181415\n",
       "16   white blood cell count  9701.050391\n",
       "17     red blood cell count    19.113025\n",
       "18              ypertension    88.200000\n",
       "19        diabetes mellitus    20.439252\n",
       "20  coronary artery disease    20.400000\n",
       "21                 appetite    49.200000\n",
       "22              pedal edema    45.600000\n",
       "23                   anemia    36.000000"
      ]
     },
     "execution_count": 91,
     "metadata": {},
     "output_type": "execute_result"
    }
   ],
   "source": [
    "features_rank"
   ]
  },
  {
   "cell_type": "code",
   "execution_count": 92,
   "id": "recreational-helicopter",
   "metadata": {
    "execution": {
     "iopub.execute_input": "2021-06-28T12:48:23.366773Z",
     "iopub.status.busy": "2021-06-28T12:48:23.366032Z",
     "iopub.status.idle": "2021-06-28T12:48:23.370838Z",
     "shell.execute_reply": "2021-06-28T12:48:23.370297Z",
     "shell.execute_reply.started": "2021-06-28T12:41:04.389837Z"
    },
    "papermill": {
     "duration": 0.168258,
     "end_time": "2021-06-28T12:48:23.370997",
     "exception": false,
     "start_time": "2021-06-28T12:48:23.202739",
     "status": "completed"
    },
    "tags": []
   },
   "outputs": [
    {
     "data": {
      "text/html": [
       "<div>\n",
       "<style scoped>\n",
       "    .dataframe tbody tr th:only-of-type {\n",
       "        vertical-align: middle;\n",
       "    }\n",
       "\n",
       "    .dataframe tbody tr th {\n",
       "        vertical-align: top;\n",
       "    }\n",
       "\n",
       "    .dataframe thead th {\n",
       "        text-align: right;\n",
       "    }\n",
       "</style>\n",
       "<table border=\"1\" class=\"dataframe\">\n",
       "  <thead>\n",
       "    <tr style=\"text-align: right;\">\n",
       "      <th></th>\n",
       "      <th>features</th>\n",
       "      <th>score</th>\n",
       "    </tr>\n",
       "  </thead>\n",
       "  <tbody>\n",
       "    <tr>\n",
       "      <th>16</th>\n",
       "      <td>white blood cell count</td>\n",
       "      <td>9701.050391</td>\n",
       "    </tr>\n",
       "    <tr>\n",
       "      <th>10</th>\n",
       "      <td>blood urea</td>\n",
       "      <td>2343.097145</td>\n",
       "    </tr>\n",
       "    <tr>\n",
       "      <th>9</th>\n",
       "      <td>blood glucose random</td>\n",
       "      <td>2241.651289</td>\n",
       "    </tr>\n",
       "    <tr>\n",
       "      <th>11</th>\n",
       "      <td>serum creatinine</td>\n",
       "      <td>357.792101</td>\n",
       "    </tr>\n",
       "    <tr>\n",
       "      <th>15</th>\n",
       "      <td>packed cell volume</td>\n",
       "      <td>308.181415</td>\n",
       "    </tr>\n",
       "    <tr>\n",
       "      <th>3</th>\n",
       "      <td>albumin</td>\n",
       "      <td>216.000000</td>\n",
       "    </tr>\n",
       "    <tr>\n",
       "      <th>14</th>\n",
       "      <td>haemoglobin</td>\n",
       "      <td>123.856342</td>\n",
       "    </tr>\n",
       "    <tr>\n",
       "      <th>0</th>\n",
       "      <td>age</td>\n",
       "      <td>115.859940</td>\n",
       "    </tr>\n",
       "    <tr>\n",
       "      <th>4</th>\n",
       "      <td>sugar</td>\n",
       "      <td>94.800000</td>\n",
       "    </tr>\n",
       "    <tr>\n",
       "      <th>18</th>\n",
       "      <td>ypertension</td>\n",
       "      <td>88.200000</td>\n",
       "    </tr>\n",
       "  </tbody>\n",
       "</table>\n",
       "</div>"
      ],
      "text/plain": [
       "                  features        score\n",
       "16  white blood cell count  9701.050391\n",
       "10              blood urea  2343.097145\n",
       "9     blood glucose random  2241.651289\n",
       "11        serum creatinine   357.792101\n",
       "15      packed cell volume   308.181415\n",
       "3                  albumin   216.000000\n",
       "14             haemoglobin   123.856342\n",
       "0                      age   115.859940\n",
       "4                    sugar    94.800000\n",
       "18             ypertension    88.200000"
      ]
     },
     "execution_count": 92,
     "metadata": {},
     "output_type": "execute_result"
    }
   ],
   "source": [
    "features_rank.nlargest(10,'score')"
   ]
  },
  {
   "cell_type": "code",
   "execution_count": 93,
   "id": "infectious-trance",
   "metadata": {
    "execution": {
     "iopub.execute_input": "2021-06-28T12:48:23.681408Z",
     "iopub.status.busy": "2021-06-28T12:48:23.680390Z",
     "iopub.status.idle": "2021-06-28T12:48:23.683646Z",
     "shell.execute_reply": "2021-06-28T12:48:23.683130Z",
     "shell.execute_reply.started": "2021-06-28T12:41:04.410280Z"
    },
    "papermill": {
     "duration": 0.167089,
     "end_time": "2021-06-28T12:48:23.683791",
     "exception": false,
     "start_time": "2021-06-28T12:48:23.516702",
     "status": "completed"
    },
    "tags": []
   },
   "outputs": [],
   "source": [
    "selected=features_rank.nlargest(10,'score')['features'].values"
   ]
  },
  {
   "cell_type": "code",
   "execution_count": 94,
   "id": "intensive-robin",
   "metadata": {
    "execution": {
     "iopub.execute_input": "2021-06-28T12:48:23.977196Z",
     "iopub.status.busy": "2021-06-28T12:48:23.976281Z",
     "iopub.status.idle": "2021-06-28T12:48:23.980504Z",
     "shell.execute_reply": "2021-06-28T12:48:23.979997Z",
     "shell.execute_reply.started": "2021-06-28T12:41:04.421455Z"
    },
    "papermill": {
     "duration": 0.15323,
     "end_time": "2021-06-28T12:48:23.980649",
     "exception": false,
     "start_time": "2021-06-28T12:48:23.827419",
     "status": "completed"
    },
    "tags": []
   },
   "outputs": [
    {
     "data": {
      "text/plain": [
       "array(['white blood cell count', 'blood urea', 'blood glucose random',\n",
       "       'serum creatinine', 'packed cell volume', 'albumin', 'haemoglobin',\n",
       "       'age', 'sugar', 'ypertension'], dtype=object)"
      ]
     },
     "execution_count": 94,
     "metadata": {},
     "output_type": "execute_result"
    }
   ],
   "source": [
    "selected"
   ]
  },
  {
   "cell_type": "code",
   "execution_count": 95,
   "id": "emotional-despite",
   "metadata": {
    "execution": {
     "iopub.execute_input": "2021-06-28T12:48:24.277791Z",
     "iopub.status.busy": "2021-06-28T12:48:24.276798Z",
     "iopub.status.idle": "2021-06-28T12:48:24.279319Z",
     "shell.execute_reply": "2021-06-28T12:48:24.279812Z",
     "shell.execute_reply.started": "2021-06-28T12:41:04.432305Z"
    },
    "papermill": {
     "duration": 0.155419,
     "end_time": "2021-06-28T12:48:24.280005",
     "exception": false,
     "start_time": "2021-06-28T12:48:24.124586",
     "status": "completed"
    },
    "tags": []
   },
   "outputs": [],
   "source": [
    "X_new=kidney[selected]"
   ]
  },
  {
   "cell_type": "code",
   "execution_count": 96,
   "id": "informal-trout",
   "metadata": {
    "execution": {
     "iopub.execute_input": "2021-06-28T12:48:24.569593Z",
     "iopub.status.busy": "2021-06-28T12:48:24.568523Z",
     "iopub.status.idle": "2021-06-28T12:48:24.590019Z",
     "shell.execute_reply": "2021-06-28T12:48:24.590556Z",
     "shell.execute_reply.started": "2021-06-28T12:41:04.443932Z"
    },
    "papermill": {
     "duration": 0.167844,
     "end_time": "2021-06-28T12:48:24.590728",
     "exception": false,
     "start_time": "2021-06-28T12:48:24.422884",
     "status": "completed"
    },
    "tags": []
   },
   "outputs": [
    {
     "data": {
      "text/html": [
       "<div>\n",
       "<style scoped>\n",
       "    .dataframe tbody tr th:only-of-type {\n",
       "        vertical-align: middle;\n",
       "    }\n",
       "\n",
       "    .dataframe tbody tr th {\n",
       "        vertical-align: top;\n",
       "    }\n",
       "\n",
       "    .dataframe thead th {\n",
       "        text-align: right;\n",
       "    }\n",
       "</style>\n",
       "<table border=\"1\" class=\"dataframe\">\n",
       "  <thead>\n",
       "    <tr style=\"text-align: right;\">\n",
       "      <th></th>\n",
       "      <th>white blood cell count</th>\n",
       "      <th>blood urea</th>\n",
       "      <th>blood glucose random</th>\n",
       "      <th>serum creatinine</th>\n",
       "      <th>packed cell volume</th>\n",
       "      <th>albumin</th>\n",
       "      <th>haemoglobin</th>\n",
       "      <th>age</th>\n",
       "      <th>sugar</th>\n",
       "      <th>ypertension</th>\n",
       "    </tr>\n",
       "  </thead>\n",
       "  <tbody>\n",
       "    <tr>\n",
       "      <th>0</th>\n",
       "      <td>7800.0</td>\n",
       "      <td>36.0</td>\n",
       "      <td>121.0</td>\n",
       "      <td>1.2</td>\n",
       "      <td>44.0</td>\n",
       "      <td>1.0</td>\n",
       "      <td>15.4</td>\n",
       "      <td>48.0</td>\n",
       "      <td>0.0</td>\n",
       "      <td>1</td>\n",
       "    </tr>\n",
       "    <tr>\n",
       "      <th>1</th>\n",
       "      <td>6000.0</td>\n",
       "      <td>18.0</td>\n",
       "      <td>121.0</td>\n",
       "      <td>0.8</td>\n",
       "      <td>38.0</td>\n",
       "      <td>4.0</td>\n",
       "      <td>11.3</td>\n",
       "      <td>7.0</td>\n",
       "      <td>0.0</td>\n",
       "      <td>0</td>\n",
       "    </tr>\n",
       "    <tr>\n",
       "      <th>2</th>\n",
       "      <td>7500.0</td>\n",
       "      <td>53.0</td>\n",
       "      <td>423.0</td>\n",
       "      <td>1.8</td>\n",
       "      <td>31.0</td>\n",
       "      <td>2.0</td>\n",
       "      <td>9.6</td>\n",
       "      <td>62.0</td>\n",
       "      <td>3.0</td>\n",
       "      <td>0</td>\n",
       "    </tr>\n",
       "    <tr>\n",
       "      <th>3</th>\n",
       "      <td>6700.0</td>\n",
       "      <td>56.0</td>\n",
       "      <td>117.0</td>\n",
       "      <td>3.8</td>\n",
       "      <td>32.0</td>\n",
       "      <td>4.0</td>\n",
       "      <td>11.2</td>\n",
       "      <td>48.0</td>\n",
       "      <td>0.0</td>\n",
       "      <td>1</td>\n",
       "    </tr>\n",
       "    <tr>\n",
       "      <th>4</th>\n",
       "      <td>7300.0</td>\n",
       "      <td>26.0</td>\n",
       "      <td>106.0</td>\n",
       "      <td>1.4</td>\n",
       "      <td>35.0</td>\n",
       "      <td>2.0</td>\n",
       "      <td>11.6</td>\n",
       "      <td>51.0</td>\n",
       "      <td>0.0</td>\n",
       "      <td>0</td>\n",
       "    </tr>\n",
       "  </tbody>\n",
       "</table>\n",
       "</div>"
      ],
      "text/plain": [
       "   white blood cell count  blood urea  blood glucose random  serum creatinine  \\\n",
       "0                  7800.0        36.0                 121.0               1.2   \n",
       "1                  6000.0        18.0                 121.0               0.8   \n",
       "2                  7500.0        53.0                 423.0               1.8   \n",
       "3                  6700.0        56.0                 117.0               3.8   \n",
       "4                  7300.0        26.0                 106.0               1.4   \n",
       "\n",
       "   packed cell volume  albumin  haemoglobin   age  sugar  ypertension  \n",
       "0                44.0      1.0         15.4  48.0    0.0            1  \n",
       "1                38.0      4.0         11.3   7.0    0.0            0  \n",
       "2                31.0      2.0          9.6  62.0    3.0            0  \n",
       "3                32.0      4.0         11.2  48.0    0.0            1  \n",
       "4                35.0      2.0         11.6  51.0    0.0            0  "
      ]
     },
     "execution_count": 96,
     "metadata": {},
     "output_type": "execute_result"
    }
   ],
   "source": [
    "X_new.head()"
   ]
  },
  {
   "cell_type": "code",
   "execution_count": 97,
   "id": "prostate-recommendation",
   "metadata": {
    "execution": {
     "iopub.execute_input": "2021-06-28T12:48:24.882000Z",
     "iopub.status.busy": "2021-06-28T12:48:24.881040Z",
     "iopub.status.idle": "2021-06-28T12:48:24.886155Z",
     "shell.execute_reply": "2021-06-28T12:48:24.886632Z",
     "shell.execute_reply.started": "2021-06-28T12:41:04.473030Z"
    },
    "papermill": {
     "duration": 0.151899,
     "end_time": "2021-06-28T12:48:24.886798",
     "exception": false,
     "start_time": "2021-06-28T12:48:24.734899",
     "status": "completed"
    },
    "tags": []
   },
   "outputs": [
    {
     "data": {
      "text/plain": [
       "400"
      ]
     },
     "execution_count": 97,
     "metadata": {},
     "output_type": "execute_result"
    }
   ],
   "source": [
    "len(X_new)"
   ]
  },
  {
   "cell_type": "code",
   "execution_count": 98,
   "id": "electrical-process",
   "metadata": {
    "execution": {
     "iopub.execute_input": "2021-06-28T12:48:25.182374Z",
     "iopub.status.busy": "2021-06-28T12:48:25.181418Z",
     "iopub.status.idle": "2021-06-28T12:48:25.186532Z",
     "shell.execute_reply": "2021-06-28T12:48:25.186987Z",
     "shell.execute_reply.started": "2021-06-28T12:41:04.484969Z"
    },
    "papermill": {
     "duration": 0.154351,
     "end_time": "2021-06-28T12:48:25.187163",
     "exception": false,
     "start_time": "2021-06-28T12:48:25.032812",
     "status": "completed"
    },
    "tags": []
   },
   "outputs": [
    {
     "data": {
      "text/plain": [
       "(400, 10)"
      ]
     },
     "execution_count": 98,
     "metadata": {},
     "output_type": "execute_result"
    }
   ],
   "source": [
    "X_new.shape"
   ]
  },
  {
   "cell_type": "code",
   "execution_count": 99,
   "id": "circular-vertex",
   "metadata": {
    "execution": {
     "iopub.execute_input": "2021-06-28T12:48:25.480987Z",
     "iopub.status.busy": "2021-06-28T12:48:25.480044Z",
     "iopub.status.idle": "2021-06-28T12:48:25.484600Z",
     "shell.execute_reply": "2021-06-28T12:48:25.485072Z",
     "shell.execute_reply.started": "2021-06-28T12:41:04.496580Z"
    },
    "papermill": {
     "duration": 0.15172,
     "end_time": "2021-06-28T12:48:25.485259",
     "exception": false,
     "start_time": "2021-06-28T12:48:25.333539",
     "status": "completed"
    },
    "tags": []
   },
   "outputs": [],
   "source": [
    "from sklearn.model_selection import train_test_split"
   ]
  },
  {
   "cell_type": "code",
   "execution_count": 139,
   "id": "nervous-passport",
   "metadata": {
    "execution": {
     "iopub.execute_input": "2021-06-28T12:48:25.782589Z",
     "iopub.status.busy": "2021-06-28T12:48:25.781888Z",
     "iopub.status.idle": "2021-06-28T12:48:25.785226Z",
     "shell.execute_reply": "2021-06-28T12:48:25.784651Z",
     "shell.execute_reply.started": "2021-06-28T12:41:04.508240Z"
    },
    "papermill": {
     "duration": 0.155596,
     "end_time": "2021-06-28T12:48:25.785390",
     "exception": false,
     "start_time": "2021-06-28T12:48:25.629794",
     "status": "completed"
    },
    "tags": []
   },
   "outputs": [],
   "source": [
    "X_train,X_test,y_train,y_test=train_test_split(X_new,y,random_state=0,test_size=0.3)"
   ]
  },
  {
   "cell_type": "code",
   "execution_count": 140,
   "id": "annual-vermont",
   "metadata": {
    "execution": {
     "iopub.execute_input": "2021-06-28T12:48:26.083774Z",
     "iopub.status.busy": "2021-06-28T12:48:26.083135Z",
     "iopub.status.idle": "2021-06-28T12:48:26.087648Z",
     "shell.execute_reply": "2021-06-28T12:48:26.087110Z",
     "shell.execute_reply.started": "2021-06-28T12:41:04.523948Z"
    },
    "papermill": {
     "duration": 0.157729,
     "end_time": "2021-06-28T12:48:26.087787",
     "exception": false,
     "start_time": "2021-06-28T12:48:25.930058",
     "status": "completed"
    },
    "tags": []
   },
   "outputs": [
    {
     "data": {
      "text/plain": [
       "(280, 10)"
      ]
     },
     "execution_count": 140,
     "metadata": {},
     "output_type": "execute_result"
    }
   ],
   "source": [
    "X_train.shape"
   ]
  },
  {
   "cell_type": "code",
   "execution_count": 141,
   "id": "starting-carter",
   "metadata": {
    "execution": {
     "iopub.execute_input": "2021-06-28T12:48:26.383748Z",
     "iopub.status.busy": "2021-06-28T12:48:26.383136Z",
     "iopub.status.idle": "2021-06-28T12:48:26.390415Z",
     "shell.execute_reply": "2021-06-28T12:48:26.390941Z",
     "shell.execute_reply.started": "2021-06-28T12:41:04.538318Z"
    },
    "papermill": {
     "duration": 0.15669,
     "end_time": "2021-06-28T12:48:26.391113",
     "exception": false,
     "start_time": "2021-06-28T12:48:26.234423",
     "status": "completed"
    },
    "tags": []
   },
   "outputs": [
    {
     "data": {
      "text/plain": [
       "0    178\n",
       "1    102\n",
       "Name: class, dtype: int64"
      ]
     },
     "execution_count": 141,
     "metadata": {},
     "output_type": "execute_result"
    }
   ],
   "source": [
    "y_train.value_counts()    #Checking for imbalancing"
   ]
  },
  {
   "cell_type": "code",
   "execution_count": 142,
   "id": "dff8e493",
   "metadata": {},
   "outputs": [],
   "source": [
    "from sklearn.ensemble import RandomForestClassifier"
   ]
  },
  {
   "cell_type": "code",
   "execution_count": 143,
   "id": "ec254ef0",
   "metadata": {},
   "outputs": [
    {
     "data": {
      "text/plain": [
       "RandomForestClassifier(n_estimators=19)"
      ]
     },
     "execution_count": 143,
     "metadata": {},
     "output_type": "execute_result"
    }
   ],
   "source": [
    "model = RandomForestClassifier(n_estimators = 19)\n",
    "model.fit(X_train, y_train)"
   ]
  },
  {
   "cell_type": "code",
   "execution_count": 144,
   "id": "1ef6f2c3",
   "metadata": {},
   "outputs": [],
   "source": [
    "from sklearn.metrics import confusion_matrix, accuracy_score"
   ]
  },
  {
   "cell_type": "code",
   "execution_count": 145,
   "id": "5c5ac93b",
   "metadata": {},
   "outputs": [
    {
     "data": {
      "text/plain": [
       "array([[70,  2],\n",
       "       [ 1, 47]], dtype=int64)"
      ]
     },
     "execution_count": 145,
     "metadata": {},
     "output_type": "execute_result"
    }
   ],
   "source": [
    "confusion_matrix(y_test, model.predict(X_test))"
   ]
  },
  {
   "cell_type": "code",
   "execution_count": 146,
   "id": "41103dbc",
   "metadata": {},
   "outputs": [
    {
     "name": "stdout",
     "output_type": "stream",
     "text": [
      "Accuracy is 97.5%\n"
     ]
    }
   ],
   "source": [
    "print(f\"Accuracy is {round(accuracy_score(y_test, model.predict(X_test))*100, 2)}%\")"
   ]
  },
  {
   "cell_type": "markdown",
   "id": "polish-phone",
   "metadata": {
    "papermill": {
     "duration": 0.146515,
     "end_time": "2021-06-28T12:48:27.013809",
     "exception": false,
     "start_time": "2021-06-28T12:48:26.867294",
     "status": "completed"
    },
    "tags": []
   },
   "source": [
    "## Since we are using XGBoost , feature scaling is not required"
   ]
  },
  {
   "cell_type": "code",
   "execution_count": 147,
   "id": "advanced-winner",
   "metadata": {
    "execution": {
     "iopub.execute_input": "2021-06-28T12:48:27.310493Z",
     "iopub.status.busy": "2021-06-28T12:48:27.309813Z",
     "iopub.status.idle": "2021-06-28T12:48:27.591817Z",
     "shell.execute_reply": "2021-06-28T12:48:27.591232Z",
     "shell.execute_reply.started": "2021-06-28T12:41:04.554131Z"
    },
    "papermill": {
     "duration": 0.432283,
     "end_time": "2021-06-28T12:48:27.592003",
     "exception": false,
     "start_time": "2021-06-28T12:48:27.159720",
     "status": "completed"
    },
    "tags": []
   },
   "outputs": [],
   "source": [
    "from xgboost import XGBClassifier"
   ]
  },
  {
   "cell_type": "code",
   "execution_count": 148,
   "id": "finished-forestry",
   "metadata": {
    "execution": {
     "iopub.execute_input": "2021-06-28T12:48:27.887550Z",
     "iopub.status.busy": "2021-06-28T12:48:27.886516Z",
     "iopub.status.idle": "2021-06-28T12:48:27.891704Z",
     "shell.execute_reply": "2021-06-28T12:48:27.892195Z",
     "shell.execute_reply.started": "2021-06-28T12:41:04.843345Z"
    },
    "papermill": {
     "duration": 0.156014,
     "end_time": "2021-06-28T12:48:27.892376",
     "exception": false,
     "start_time": "2021-06-28T12:48:27.736362",
     "status": "completed"
    },
    "tags": []
   },
   "outputs": [],
   "source": [
    "params={'learning-rate':[0,0.5,0.20,0.25],\n",
    "        'max_depth':[5,8,10],\n",
    "       'min_child_weight':[1,3,5,7],\n",
    "       'gamma':[0.0,0.1,0.2,0.4],\n",
    "       'colsample_bytree':[0.3,0.4,0.7]}"
   ]
  },
  {
   "cell_type": "code",
   "execution_count": 149,
   "id": "abroad-washington",
   "metadata": {
    "execution": {
     "iopub.execute_input": "2021-06-28T12:48:28.194263Z",
     "iopub.status.busy": "2021-06-28T12:48:28.193169Z",
     "iopub.status.idle": "2021-06-28T12:48:28.196599Z",
     "shell.execute_reply": "2021-06-28T12:48:28.196031Z",
     "shell.execute_reply.started": "2021-06-28T12:41:04.850110Z"
    },
    "papermill": {
     "duration": 0.158171,
     "end_time": "2021-06-28T12:48:28.196750",
     "exception": false,
     "start_time": "2021-06-28T12:48:28.038579",
     "status": "completed"
    },
    "tags": []
   },
   "outputs": [],
   "source": [
    "from sklearn.model_selection import RandomizedSearchCV"
   ]
  },
  {
   "cell_type": "code",
   "execution_count": 150,
   "id": "united-prescription",
   "metadata": {
    "execution": {
     "iopub.execute_input": "2021-06-28T12:48:28.494163Z",
     "iopub.status.busy": "2021-06-28T12:48:28.493403Z",
     "iopub.status.idle": "2021-06-28T12:48:28.496562Z",
     "shell.execute_reply": "2021-06-28T12:48:28.496039Z",
     "shell.execute_reply.started": "2021-06-28T12:41:04.863161Z"
    },
    "papermill": {
     "duration": 0.152337,
     "end_time": "2021-06-28T12:48:28.496713",
     "exception": false,
     "start_time": "2021-06-28T12:48:28.344376",
     "status": "completed"
    },
    "tags": []
   },
   "outputs": [],
   "source": [
    "classifier=XGBClassifier()"
   ]
  },
  {
   "cell_type": "code",
   "execution_count": 151,
   "id": "funky-municipality",
   "metadata": {
    "execution": {
     "iopub.execute_input": "2021-06-28T12:48:28.803997Z",
     "iopub.status.busy": "2021-06-28T12:48:28.803326Z",
     "iopub.status.idle": "2021-06-28T12:48:28.806476Z",
     "shell.execute_reply": "2021-06-28T12:48:28.805964Z",
     "shell.execute_reply.started": "2021-06-28T12:41:04.873995Z"
    },
    "papermill": {
     "duration": 0.161224,
     "end_time": "2021-06-28T12:48:28.806632",
     "exception": false,
     "start_time": "2021-06-28T12:48:28.645408",
     "status": "completed"
    },
    "tags": []
   },
   "outputs": [],
   "source": [
    "random_search=RandomizedSearchCV(classifier,param_distributions=params,n_iter=5,scoring='roc_auc',n_jobs=-1,cv=5,verbose=3)"
   ]
  },
  {
   "cell_type": "code",
   "execution_count": 152,
   "id": "allied-charger",
   "metadata": {
    "execution": {
     "iopub.execute_input": "2021-06-28T12:48:29.134826Z",
     "iopub.status.busy": "2021-06-28T12:48:29.134164Z",
     "iopub.status.idle": "2021-06-28T12:50:28.084236Z",
     "shell.execute_reply": "2021-06-28T12:50:28.082676Z",
     "shell.execute_reply.started": "2021-06-28T12:41:04.886642Z"
    },
    "papermill": {
     "duration": 119.110986,
     "end_time": "2021-06-28T12:50:28.084501",
     "exception": false,
     "start_time": "2021-06-28T12:48:28.973515",
     "status": "completed"
    },
    "tags": []
   },
   "outputs": [
    {
     "name": "stdout",
     "output_type": "stream",
     "text": [
      "Fitting 5 folds for each of 5 candidates, totalling 25 fits\n",
      "[10:48:57] WARNING: C:/Users/Administrator/workspace/xgboost-win64_release_1.5.1/src/learner.cc:576: \n",
      "Parameters: { \"learning-rate\" } might not be used.\n",
      "\n",
      "  This could be a false alarm, with some parameters getting used by language bindings but\n",
      "  then being mistakenly passed down to XGBoost core, or some parameter actually being used\n",
      "  but getting flagged wrongly here. Please open an issue if you find any such cases.\n",
      "\n",
      "\n",
      "[10:48:57] WARNING: C:/Users/Administrator/workspace/xgboost-win64_release_1.5.1/src/learner.cc:1115: Starting in XGBoost 1.3.0, the default evaluation metric used with the objective 'binary:logistic' was changed from 'error' to 'logloss'. Explicitly set eval_metric if you'd like to restore the old behavior.\n"
     ]
    },
    {
     "data": {
      "text/plain": [
       "RandomizedSearchCV(cv=5,\n",
       "                   estimator=XGBClassifier(base_score=None, booster=None,\n",
       "                                           colsample_bylevel=None,\n",
       "                                           colsample_bynode=None,\n",
       "                                           colsample_bytree=None,\n",
       "                                           enable_categorical=False, gamma=None,\n",
       "                                           gpu_id=None, importance_type=None,\n",
       "                                           interaction_constraints=None,\n",
       "                                           learning_rate=None,\n",
       "                                           max_delta_step=None, max_depth=None,\n",
       "                                           min_child_weight=None, missing=nan,\n",
       "                                           monotone_constraints...\n",
       "                                           predictor=None, random_state=None,\n",
       "                                           reg_alpha=None, reg_lambda=None,\n",
       "                                           scale_pos_weight=None,\n",
       "                                           subsample=None, tree_method=None,\n",
       "                                           validate_parameters=None,\n",
       "                                           verbosity=None),\n",
       "                   n_iter=5, n_jobs=-1,\n",
       "                   param_distributions={'colsample_bytree': [0.3, 0.4, 0.7],\n",
       "                                        'gamma': [0.0, 0.1, 0.2, 0.4],\n",
       "                                        'learning-rate': [0, 0.5, 0.2, 0.25],\n",
       "                                        'max_depth': [5, 8, 10],\n",
       "                                        'min_child_weight': [1, 3, 5, 7]},\n",
       "                   scoring='roc_auc', verbose=3)"
      ]
     },
     "execution_count": 152,
     "metadata": {},
     "output_type": "execute_result"
    }
   ],
   "source": [
    "random_search.fit(X_train,y_train)"
   ]
  },
  {
   "cell_type": "code",
   "execution_count": 153,
   "id": "positive-georgia",
   "metadata": {
    "execution": {
     "iopub.execute_input": "2021-06-28T12:50:28.397687Z",
     "iopub.status.busy": "2021-06-28T12:50:28.397016Z",
     "iopub.status.idle": "2021-06-28T12:50:28.405959Z",
     "shell.execute_reply": "2021-06-28T12:50:28.406486Z",
     "shell.execute_reply.started": "2021-06-28T12:42:45.916258Z"
    },
    "papermill": {
     "duration": 0.173237,
     "end_time": "2021-06-28T12:50:28.406665",
     "exception": false,
     "start_time": "2021-06-28T12:50:28.233428",
     "status": "completed"
    },
    "tags": []
   },
   "outputs": [
    {
     "data": {
      "text/plain": [
       "XGBClassifier(base_score=0.5, booster='gbtree', colsample_bylevel=1,\n",
       "              colsample_bynode=1, colsample_bytree=0.4,\n",
       "              enable_categorical=False, gamma=0.0, gpu_id=-1,\n",
       "              importance_type=None, interaction_constraints='',\n",
       "              learning-rate=0.5, learning_rate=0.300000012, max_delta_step=0,\n",
       "              max_depth=5, min_child_weight=1, missing=nan,\n",
       "              monotone_constraints='()', n_estimators=100, n_jobs=8,\n",
       "              num_parallel_tree=1, predictor='auto', random_state=0,\n",
       "              reg_alpha=0, reg_lambda=1, scale_pos_weight=1, subsample=1,\n",
       "              tree_method='exact', validate_parameters=1, verbosity=None)"
      ]
     },
     "execution_count": 153,
     "metadata": {},
     "output_type": "execute_result"
    }
   ],
   "source": [
    "random_search.best_estimator_    #Checking for best model"
   ]
  },
  {
   "cell_type": "code",
   "execution_count": 154,
   "id": "weird-isaac",
   "metadata": {
    "execution": {
     "iopub.execute_input": "2021-06-28T12:50:28.718636Z",
     "iopub.status.busy": "2021-06-28T12:50:28.717867Z",
     "iopub.status.idle": "2021-06-28T12:50:28.724096Z",
     "shell.execute_reply": "2021-06-28T12:50:28.724673Z",
     "shell.execute_reply.started": "2021-06-28T12:42:45.928656Z"
    },
    "papermill": {
     "duration": 0.162494,
     "end_time": "2021-06-28T12:50:28.724858",
     "exception": false,
     "start_time": "2021-06-28T12:50:28.562364",
     "status": "completed"
    },
    "tags": []
   },
   "outputs": [
    {
     "data": {
      "text/plain": [
       "{'min_child_weight': 1,\n",
       " 'max_depth': 5,\n",
       " 'learning-rate': 0.5,\n",
       " 'gamma': 0.0,\n",
       " 'colsample_bytree': 0.4}"
      ]
     },
     "execution_count": 154,
     "metadata": {},
     "output_type": "execute_result"
    }
   ],
   "source": [
    "random_search.best_params_"
   ]
  },
  {
   "cell_type": "code",
   "execution_count": 155,
   "id": "becoming-custody",
   "metadata": {
    "execution": {
     "iopub.execute_input": "2021-06-28T12:50:29.030110Z",
     "iopub.status.busy": "2021-06-28T12:50:29.029383Z",
     "iopub.status.idle": "2021-06-28T12:50:29.036854Z",
     "shell.execute_reply": "2021-06-28T12:50:29.036231Z",
     "shell.execute_reply.started": "2021-06-28T12:42:45.938879Z"
    },
    "papermill": {
     "duration": 0.162596,
     "end_time": "2021-06-28T12:50:29.037053",
     "exception": false,
     "start_time": "2021-06-28T12:50:28.874457",
     "status": "completed"
    },
    "tags": []
   },
   "outputs": [],
   "source": [
    "classifier=XGBClassifier(base_score=0.5, booster='gbtree', colsample_bylevel=1,\n",
    "              colsample_bynode=1, colsample_bytree=0.3, gamma=0.2, gpu_id=-1,\n",
    "              importance_type='gain', interaction_constraints='', learning_rate=0.300000012, max_delta_step=0,\n",
    "              max_depth=5, min_child_weight=1,\n",
    "              monotone_constraints='()', n_estimators=100, n_jobs=8,\n",
    "              num_parallel_tree=1, random_state=0, reg_alpha=0, reg_lambda=1,\n",
    "              scale_pos_weight=1, subsample=1, tree_method='exact',\n",
    "              validate_parameters=1, verbosity=None)"
   ]
  },
  {
   "cell_type": "code",
   "execution_count": 156,
   "id": "premier-daughter",
   "metadata": {
    "execution": {
     "iopub.execute_input": "2021-06-28T12:50:29.359290Z",
     "iopub.status.busy": "2021-06-28T12:50:29.358129Z",
     "iopub.status.idle": "2021-06-28T12:50:29.579683Z",
     "shell.execute_reply": "2021-06-28T12:50:29.578467Z",
     "shell.execute_reply.started": "2021-06-28T12:42:45.953874Z"
    },
    "papermill": {
     "duration": 0.383992,
     "end_time": "2021-06-28T12:50:29.579849",
     "exception": false,
     "start_time": "2021-06-28T12:50:29.195857",
     "status": "completed"
    },
    "tags": []
   },
   "outputs": [
    {
     "name": "stdout",
     "output_type": "stream",
     "text": [
      "[10:48:57] WARNING: C:/Users/Administrator/workspace/xgboost-win64_release_1.5.1/src/learner.cc:1115: Starting in XGBoost 1.3.0, the default evaluation metric used with the objective 'binary:logistic' was changed from 'error' to 'logloss'. Explicitly set eval_metric if you'd like to restore the old behavior.\n"
     ]
    },
    {
     "data": {
      "text/plain": [
       "XGBClassifier(base_score=0.5, booster='gbtree', colsample_bylevel=1,\n",
       "              colsample_bynode=1, colsample_bytree=0.3,\n",
       "              enable_categorical=False, gamma=0.2, gpu_id=-1,\n",
       "              importance_type='gain', interaction_constraints='',\n",
       "              learning_rate=0.300000012, max_delta_step=0, max_depth=5,\n",
       "              min_child_weight=1, missing=nan, monotone_constraints='()',\n",
       "              n_estimators=100, n_jobs=8, num_parallel_tree=1, predictor='auto',\n",
       "              random_state=0, reg_alpha=0, reg_lambda=1, scale_pos_weight=1,\n",
       "              subsample=1, tree_method='exact', validate_parameters=1,\n",
       "              verbosity=None)"
      ]
     },
     "execution_count": 156,
     "metadata": {},
     "output_type": "execute_result"
    }
   ],
   "source": [
    "classifier.fit(X_train,y_train)"
   ]
  },
  {
   "cell_type": "markdown",
   "id": "vocal-spice",
   "metadata": {
    "papermill": {
     "duration": 0.156071,
     "end_time": "2021-06-28T12:50:29.888878",
     "exception": false,
     "start_time": "2021-06-28T12:50:29.732807",
     "status": "completed"
    },
    "tags": []
   },
   "source": [
    "# Let's Predict our model Accuracy."
   ]
  },
  {
   "cell_type": "code",
   "execution_count": 157,
   "id": "tutorial-program",
   "metadata": {
    "execution": {
     "iopub.execute_input": "2021-06-28T12:50:30.235551Z",
     "iopub.status.busy": "2021-06-28T12:50:30.234350Z",
     "iopub.status.idle": "2021-06-28T12:50:30.240364Z",
     "shell.execute_reply": "2021-06-28T12:50:30.239503Z",
     "shell.execute_reply.started": "2021-06-28T12:42:46.132027Z"
    },
    "papermill": {
     "duration": 0.167994,
     "end_time": "2021-06-28T12:50:30.240530",
     "exception": false,
     "start_time": "2021-06-28T12:50:30.072536",
     "status": "completed"
    },
    "tags": []
   },
   "outputs": [],
   "source": [
    "y_pred=classifier.predict(X_test)"
   ]
  },
  {
   "cell_type": "code",
   "execution_count": 158,
   "id": "false-attachment",
   "metadata": {
    "execution": {
     "iopub.execute_input": "2021-06-28T12:50:30.553526Z",
     "iopub.status.busy": "2021-06-28T12:50:30.552459Z",
     "iopub.status.idle": "2021-06-28T12:50:30.556520Z",
     "shell.execute_reply": "2021-06-28T12:50:30.555985Z",
     "shell.execute_reply.started": "2021-06-28T12:42:46.143810Z"
    },
    "papermill": {
     "duration": 0.16216,
     "end_time": "2021-06-28T12:50:30.556662",
     "exception": false,
     "start_time": "2021-06-28T12:50:30.394502",
     "status": "completed"
    },
    "tags": []
   },
   "outputs": [
    {
     "data": {
      "text/plain": [
       "array([0, 1, 1, 0, 0, 0, 0, 1, 0, 1, 0, 0, 0, 1, 0, 0, 1, 0, 0, 0, 0, 1,\n",
       "       0, 1, 0, 1, 0, 0, 1, 1, 0, 1, 1, 0, 0, 0, 0, 0, 0, 1, 0, 1, 0, 0,\n",
       "       1, 0, 1, 1, 0, 0, 0, 0, 1, 0, 1, 1, 0, 0, 0, 0, 0, 1, 0, 1, 0, 1,\n",
       "       0, 0, 0, 1, 0, 1, 0, 0, 0, 0, 1, 1, 1, 1, 1, 0, 0, 0, 1, 0, 0, 1,\n",
       "       1, 1, 1, 1, 0, 0, 0, 0, 0, 1, 1, 1, 1, 0, 1, 0, 1, 1, 0, 1, 0, 1,\n",
       "       0, 0, 1, 0, 1, 0, 1, 0, 0, 1])"
      ]
     },
     "execution_count": 158,
     "metadata": {},
     "output_type": "execute_result"
    }
   ],
   "source": [
    "y_pred"
   ]
  },
  {
   "cell_type": "markdown",
   "id": "earned-spanking",
   "metadata": {
    "papermill": {
     "duration": 0.152724,
     "end_time": "2021-06-28T12:50:30.857778",
     "exception": false,
     "start_time": "2021-06-28T12:50:30.705054",
     "status": "completed"
    },
    "tags": []
   },
   "source": [
    "# Evaluation of the model"
   ]
  },
  {
   "cell_type": "code",
   "execution_count": 159,
   "id": "precious-sustainability",
   "metadata": {
    "execution": {
     "iopub.execute_input": "2021-06-28T12:50:31.178556Z",
     "iopub.status.busy": "2021-06-28T12:50:31.177713Z",
     "iopub.status.idle": "2021-06-28T12:50:31.180999Z",
     "shell.execute_reply": "2021-06-28T12:50:31.180341Z",
     "shell.execute_reply.started": "2021-06-28T12:42:46.158777Z"
    },
    "papermill": {
     "duration": 0.16172,
     "end_time": "2021-06-28T12:50:31.181145",
     "exception": false,
     "start_time": "2021-06-28T12:50:31.019425",
     "status": "completed"
    },
    "tags": []
   },
   "outputs": [],
   "source": [
    "from sklearn.metrics import confusion_matrix,accuracy_score"
   ]
  },
  {
   "cell_type": "code",
   "execution_count": 170,
   "id": "absent-airport",
   "metadata": {
    "execution": {
     "iopub.execute_input": "2021-06-28T12:50:31.490378Z",
     "iopub.status.busy": "2021-06-28T12:50:31.488579Z",
     "iopub.status.idle": "2021-06-28T12:50:31.496344Z",
     "shell.execute_reply": "2021-06-28T12:50:31.495622Z",
     "shell.execute_reply.started": "2021-06-28T12:42:46.169706Z"
    },
    "papermill": {
     "duration": 0.163623,
     "end_time": "2021-06-28T12:50:31.496546",
     "exception": false,
     "start_time": "2021-06-28T12:50:31.332923",
     "status": "completed"
    },
    "tags": []
   },
   "outputs": [
    {
     "data": {
      "text/plain": [
       "array([[70,  2],\n",
       "       [ 0, 48]], dtype=int64)"
      ]
     },
     "execution_count": 170,
     "metadata": {},
     "output_type": "execute_result"
    }
   ],
   "source": [
    "confusion_matrix(y_test,y_pred)"
   ]
  },
  {
   "cell_type": "code",
   "execution_count": 161,
   "id": "meaning-wholesale",
   "metadata": {
    "execution": {
     "iopub.execute_input": "2021-06-28T12:50:31.806499Z",
     "iopub.status.busy": "2021-06-28T12:50:31.805435Z",
     "iopub.status.idle": "2021-06-28T12:50:31.810045Z",
     "shell.execute_reply": "2021-06-28T12:50:31.809353Z",
     "shell.execute_reply.started": "2021-06-28T12:42:46.186038Z"
    },
    "papermill": {
     "duration": 0.162431,
     "end_time": "2021-06-28T12:50:31.810221",
     "exception": false,
     "start_time": "2021-06-28T12:50:31.647790",
     "status": "completed"
    },
    "tags": []
   },
   "outputs": [
    {
     "data": {
      "text/plain": [
       "0.9833333333333333"
      ]
     },
     "execution_count": 161,
     "metadata": {},
     "output_type": "execute_result"
    }
   ],
   "source": [
    "accuracy_score(y_test,y_pred)"
   ]
  },
  {
   "cell_type": "code",
   "execution_count": 162,
   "id": "e8fab3c2",
   "metadata": {},
   "outputs": [
    {
     "data": {
      "text/plain": [
       "0.96"
      ]
     },
     "execution_count": 162,
     "metadata": {},
     "output_type": "execute_result"
    }
   ],
   "source": [
    "from sklearn.metrics import precision_score\n",
    "precision_score(y_test,y_pred)"
   ]
  },
  {
   "cell_type": "code",
   "execution_count": 163,
   "id": "b59de93d",
   "metadata": {},
   "outputs": [
    {
     "data": {
      "text/plain": [
       "0.9795918367346939"
      ]
     },
     "execution_count": 163,
     "metadata": {},
     "output_type": "execute_result"
    }
   ],
   "source": [
    "from sklearn.metrics import f1_score\n",
    "f1_score(y_test,y_pred)"
   ]
  },
  {
   "cell_type": "code",
   "execution_count": 164,
   "id": "8c50677a",
   "metadata": {},
   "outputs": [
    {
     "data": {
      "text/plain": [
       "1.0"
      ]
     },
     "execution_count": 164,
     "metadata": {},
     "output_type": "execute_result"
    }
   ],
   "source": [
    "from sklearn.metrics import recall_score\n",
    "recall_score(y_test,y_pred)"
   ]
  },
  {
   "cell_type": "code",
   "execution_count": 165,
   "id": "161a0b14",
   "metadata": {},
   "outputs": [],
   "source": [
    "import pickle\n",
    "pickle.dump(classifier, open('kidney.pkl', 'wb'))"
   ]
  },
  {
   "cell_type": "code",
   "execution_count": null,
   "id": "5d385fbc",
   "metadata": {},
   "outputs": [],
   "source": []
  }
 ],
 "metadata": {
  "kernelspec": {
   "display_name": "Python 3 (ipykernel)",
   "language": "python",
   "name": "python3"
  },
  "language_info": {
   "codemirror_mode": {
    "name": "ipython",
    "version": 3
   },
   "file_extension": ".py",
   "mimetype": "text/x-python",
   "name": "python",
   "nbconvert_exporter": "python",
   "pygments_lexer": "ipython3",
   "version": "3.9.7"
  },
  "papermill": {
   "default_parameters": {},
   "duration": 179.238479,
   "end_time": "2021-06-28T12:50:34.309644",
   "environment_variables": {},
   "exception": null,
   "input_path": "__notebook__.ipynb",
   "output_path": "__notebook__.ipynb",
   "parameters": {},
   "start_time": "2021-06-28T12:47:35.071165",
   "version": "2.3.2"
  }
 },
 "nbformat": 4,
 "nbformat_minor": 5
}
